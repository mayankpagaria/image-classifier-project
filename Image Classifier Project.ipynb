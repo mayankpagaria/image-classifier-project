<!DOCTYPE html>
<html>
<head><meta charset="utf-8" />
<title>Image Classifier Project</title><script src="https://cdnjs.cloudflare.com/ajax/libs/require.js/2.1.10/require.min.js"></script>
<script src="https://cdnjs.cloudflare.com/ajax/libs/jquery/2.0.3/jquery.min.js"></script>

<style type="text/css">
    /*!
*
* Twitter Bootstrap
*
*/
/*!
 * Bootstrap v3.3.7 (http://getbootstrap.com)
 * Copyright 2011-2016 Twitter, Inc.
 * Licensed under MIT (https://github.com/twbs/bootstrap/blob/master/LICENSE)
 */
/*! normalize.css v3.0.3 | MIT License | github.com/necolas/normalize.css */
html {
  font-family: sans-serif;
  -ms-text-size-adjust: 100%;
  -webkit-text-size-adjust: 100%;
}
body {
  margin: 0;
}
article,
aside,
details,
figcaption,
figure,
footer,
header,
hgroup,
main,
menu,
nav,
section,
summary {
  display: block;
}
audio,
canvas,
progress,
video {
  display: inline-block;
  vertical-align: baseline;
}
audio:not([controls]) {
  display: none;
  height: 0;
}
[hidden],
template {
  display: none;
}
a {
  background-color: transparent;
}
a:active,
a:hover {
  outline: 0;
}
abbr[title] {
  border-bottom: 1px dotted;
}
b,
strong {
  font-weight: bold;
}
dfn {
  font-style: italic;
}
h1 {
  font-size: 2em;
  margin: 0.67em 0;
}
mark {
  background: #ff0;
  color: #000;
}
small {
  font-size: 80%;
}
sub,
sup {
  font-size: 75%;
  line-height: 0;
  position: relative;
  vertical-align: baseline;
}
sup {
  top: -0.5em;
}
sub {
  bottom: -0.25em;
}
img {
  border: 0;
}
svg:not(:root) {
  overflow: hidden;
}
figure {
  margin: 1em 40px;
}
hr {
  box-sizing: content-box;
  height: 0;
}
pre {
  overflow: auto;
}
code,
kbd,
pre,
samp {
  font-family: monospace, monospace;
  font-size: 1em;
}
button,
input,
optgroup,
select,
textarea {
  color: inherit;
  font: inherit;
  margin: 0;
}
button {
  overflow: visible;
}
button,
select {
  text-transform: none;
}
button,
html input[type="button"],
input[type="reset"],
input[type="submit"] {
  -webkit-appearance: button;
  cursor: pointer;
}
button[disabled],
html input[disabled] {
  cursor: default;
}
button::-moz-focus-inner,
input::-moz-focus-inner {
  border: 0;
  padding: 0;
}
input {
  line-height: normal;
}
input[type="checkbox"],
input[type="radio"] {
  box-sizing: border-box;
  padding: 0;
}
input[type="number"]::-webkit-inner-spin-button,
input[type="number"]::-webkit-outer-spin-button {
  height: auto;
}
input[type="search"] {
  -webkit-appearance: textfield;
  box-sizing: content-box;
}
input[type="search"]::-webkit-search-cancel-button,
input[type="search"]::-webkit-search-decoration {
  -webkit-appearance: none;
}
fieldset {
  border: 1px solid #c0c0c0;
  margin: 0 2px;
  padding: 0.35em 0.625em 0.75em;
}
legend {
  border: 0;
  padding: 0;
}
textarea {
  overflow: auto;
}
optgroup {
  font-weight: bold;
}
table {
  border-collapse: collapse;
  border-spacing: 0;
}
td,
th {
  padding: 0;
}
/*! Source: https://github.com/h5bp/html5-boilerplate/blob/master/src/css/main.css */
@media print {
  *,
  *:before,
  *:after {
    background: transparent !important;
    color: #000 !important;
    box-shadow: none !important;
    text-shadow: none !important;
  }
  a,
  a:visited {
    text-decoration: underline;
  }
  a[href]:after {
    content: " (" attr(href) ")";
  }
  abbr[title]:after {
    content: " (" attr(title) ")";
  }
  a[href^="#"]:after,
  a[href^="javascript:"]:after {
    content: "";
  }
  pre,
  blockquote {
    border: 1px solid #999;
    page-break-inside: avoid;
  }
  thead {
    display: table-header-group;
  }
  tr,
  img {
    page-break-inside: avoid;
  }
  img {
    max-width: 100% !important;
  }
  p,
  h2,
  h3 {
    orphans: 3;
    widows: 3;
  }
  h2,
  h3 {
    page-break-after: avoid;
  }
  .navbar {
    display: none;
  }
  .btn > .caret,
  .dropup > .btn > .caret {
    border-top-color: #000 !important;
  }
  .label {
    border: 1px solid #000;
  }
  .table {
    border-collapse: collapse !important;
  }
  .table td,
  .table th {
    background-color: #fff !important;
  }
  .table-bordered th,
  .table-bordered td {
    border: 1px solid #ddd !important;
  }
}
@font-face {
  font-family: 'Glyphicons Halflings';
  src: url('../components/bootstrap/fonts/glyphicons-halflings-regular.eot');
  src: url('../components/bootstrap/fonts/glyphicons-halflings-regular.eot?#iefix') format('embedded-opentype'), url('../components/bootstrap/fonts/glyphicons-halflings-regular.woff2') format('woff2'), url('../components/bootstrap/fonts/glyphicons-halflings-regular.woff') format('woff'), url('../components/bootstrap/fonts/glyphicons-halflings-regular.ttf') format('truetype'), url('../components/bootstrap/fonts/glyphicons-halflings-regular.svg#glyphicons_halflingsregular') format('svg');
}
.glyphicon {
  position: relative;
  top: 1px;
  display: inline-block;
  font-family: 'Glyphicons Halflings';
  font-style: normal;
  font-weight: normal;
  line-height: 1;
  -webkit-font-smoothing: antialiased;
  -moz-osx-font-smoothing: grayscale;
}
.glyphicon-asterisk:before {
  content: "\002a";
}
.glyphicon-plus:before {
  content: "\002b";
}
.glyphicon-euro:before,
.glyphicon-eur:before {
  content: "\20ac";
}
.glyphicon-minus:before {
  content: "\2212";
}
.glyphicon-cloud:before {
  content: "\2601";
}
.glyphicon-envelope:before {
  content: "\2709";
}
.glyphicon-pencil:before {
  content: "\270f";
}
.glyphicon-glass:before {
  content: "\e001";
}
.glyphicon-music:before {
  content: "\e002";
}
.glyphicon-search:before {
  content: "\e003";
}
.glyphicon-heart:before {
  content: "\e005";
}
.glyphicon-star:before {
  content: "\e006";
}
.glyphicon-star-empty:before {
  content: "\e007";
}
.glyphicon-user:before {
  content: "\e008";
}
.glyphicon-film:before {
  content: "\e009";
}
.glyphicon-th-large:before {
  content: "\e010";
}
.glyphicon-th:before {
  content: "\e011";
}
.glyphicon-th-list:before {
  content: "\e012";
}
.glyphicon-ok:before {
  content: "\e013";
}
.glyphicon-remove:before {
  content: "\e014";
}
.glyphicon-zoom-in:before {
  content: "\e015";
}
.glyphicon-zoom-out:before {
  content: "\e016";
}
.glyphicon-off:before {
  content: "\e017";
}
.glyphicon-signal:before {
  content: "\e018";
}
.glyphicon-cog:before {
  content: "\e019";
}
.glyphicon-trash:before {
  content: "\e020";
}
.glyphicon-home:before {
  content: "\e021";
}
.glyphicon-file:before {
  content: "\e022";
}
.glyphicon-time:before {
  content: "\e023";
}
.glyphicon-road:before {
  content: "\e024";
}
.glyphicon-download-alt:before {
  content: "\e025";
}
.glyphicon-download:before {
  content: "\e026";
}
.glyphicon-upload:before {
  content: "\e027";
}
.glyphicon-inbox:before {
  content: "\e028";
}
.glyphicon-play-circle:before {
  content: "\e029";
}
.glyphicon-repeat:before {
  content: "\e030";
}
.glyphicon-refresh:before {
  content: "\e031";
}
.glyphicon-list-alt:before {
  content: "\e032";
}
.glyphicon-lock:before {
  content: "\e033";
}
.glyphicon-flag:before {
  content: "\e034";
}
.glyphicon-headphones:before {
  content: "\e035";
}
.glyphicon-volume-off:before {
  content: "\e036";
}
.glyphicon-volume-down:before {
  content: "\e037";
}
.glyphicon-volume-up:before {
  content: "\e038";
}
.glyphicon-qrcode:before {
  content: "\e039";
}
.glyphicon-barcode:before {
  content: "\e040";
}
.glyphicon-tag:before {
  content: "\e041";
}
.glyphicon-tags:before {
  content: "\e042";
}
.glyphicon-book:before {
  content: "\e043";
}
.glyphicon-bookmark:before {
  content: "\e044";
}
.glyphicon-print:before {
  content: "\e045";
}
.glyphicon-camera:before {
  content: "\e046";
}
.glyphicon-font:before {
  content: "\e047";
}
.glyphicon-bold:before {
  content: "\e048";
}
.glyphicon-italic:before {
  content: "\e049";
}
.glyphicon-text-height:before {
  content: "\e050";
}
.glyphicon-text-width:before {
  content: "\e051";
}
.glyphicon-align-left:before {
  content: "\e052";
}
.glyphicon-align-center:before {
  content: "\e053";
}
.glyphicon-align-right:before {
  content: "\e054";
}
.glyphicon-align-justify:before {
  content: "\e055";
}
.glyphicon-list:before {
  content: "\e056";
}
.glyphicon-indent-left:before {
  content: "\e057";
}
.glyphicon-indent-right:before {
  content: "\e058";
}
.glyphicon-facetime-video:before {
  content: "\e059";
}
.glyphicon-picture:before {
  content: "\e060";
}
.glyphicon-map-marker:before {
  content: "\e062";
}
.glyphicon-adjust:before {
  content: "\e063";
}
.glyphicon-tint:before {
  content: "\e064";
}
.glyphicon-edit:before {
  content: "\e065";
}
.glyphicon-share:before {
  content: "\e066";
}
.glyphicon-check:before {
  content: "\e067";
}
.glyphicon-move:before {
  content: "\e068";
}
.glyphicon-step-backward:before {
  content: "\e069";
}
.glyphicon-fast-backward:before {
  content: "\e070";
}
.glyphicon-backward:before {
  content: "\e071";
}
.glyphicon-play:before {
  content: "\e072";
}
.glyphicon-pause:before {
  content: "\e073";
}
.glyphicon-stop:before {
  content: "\e074";
}
.glyphicon-forward:before {
  content: "\e075";
}
.glyphicon-fast-forward:before {
  content: "\e076";
}
.glyphicon-step-forward:before {
  content: "\e077";
}
.glyphicon-eject:before {
  content: "\e078";
}
.glyphicon-chevron-left:before {
  content: "\e079";
}
.glyphicon-chevron-right:before {
  content: "\e080";
}
.glyphicon-plus-sign:before {
  content: "\e081";
}
.glyphicon-minus-sign:before {
  content: "\e082";
}
.glyphicon-remove-sign:before {
  content: "\e083";
}
.glyphicon-ok-sign:before {
  content: "\e084";
}
.glyphicon-question-sign:before {
  content: "\e085";
}
.glyphicon-info-sign:before {
  content: "\e086";
}
.glyphicon-screenshot:before {
  content: "\e087";
}
.glyphicon-remove-circle:before {
  content: "\e088";
}
.glyphicon-ok-circle:before {
  content: "\e089";
}
.glyphicon-ban-circle:before {
  content: "\e090";
}
.glyphicon-arrow-left:before {
  content: "\e091";
}
.glyphicon-arrow-right:before {
  content: "\e092";
}
.glyphicon-arrow-up:before {
  content: "\e093";
}
.glyphicon-arrow-down:before {
  content: "\e094";
}
.glyphicon-share-alt:before {
  content: "\e095";
}
.glyphicon-resize-full:before {
  content: "\e096";
}
.glyphicon-resize-small:before {
  content: "\e097";
}
.glyphicon-exclamation-sign:before {
  content: "\e101";
}
.glyphicon-gift:before {
  content: "\e102";
}
.glyphicon-leaf:before {
  content: "\e103";
}
.glyphicon-fire:before {
  content: "\e104";
}
.glyphicon-eye-open:before {
  content: "\e105";
}
.glyphicon-eye-close:before {
  content: "\e106";
}
.glyphicon-warning-sign:before {
  content: "\e107";
}
.glyphicon-plane:before {
  content: "\e108";
}
.glyphicon-calendar:before {
  content: "\e109";
}
.glyphicon-random:before {
  content: "\e110";
}
.glyphicon-comment:before {
  content: "\e111";
}
.glyphicon-magnet:before {
  content: "\e112";
}
.glyphicon-chevron-up:before {
  content: "\e113";
}
.glyphicon-chevron-down:before {
  content: "\e114";
}
.glyphicon-retweet:before {
  content: "\e115";
}
.glyphicon-shopping-cart:before {
  content: "\e116";
}
.glyphicon-folder-close:before {
  content: "\e117";
}
.glyphicon-folder-open:before {
  content: "\e118";
}
.glyphicon-resize-vertical:before {
  content: "\e119";
}
.glyphicon-resize-horizontal:before {
  content: "\e120";
}
.glyphicon-hdd:before {
  content: "\e121";
}
.glyphicon-bullhorn:before {
  content: "\e122";
}
.glyphicon-bell:before {
  content: "\e123";
}
.glyphicon-certificate:before {
  content: "\e124";
}
.glyphicon-thumbs-up:before {
  content: "\e125";
}
.glyphicon-thumbs-down:before {
  content: "\e126";
}
.glyphicon-hand-right:before {
  content: "\e127";
}
.glyphicon-hand-left:before {
  content: "\e128";
}
.glyphicon-hand-up:before {
  content: "\e129";
}
.glyphicon-hand-down:before {
  content: "\e130";
}
.glyphicon-circle-arrow-right:before {
  content: "\e131";
}
.glyphicon-circle-arrow-left:before {
  content: "\e132";
}
.glyphicon-circle-arrow-up:before {
  content: "\e133";
}
.glyphicon-circle-arrow-down:before {
  content: "\e134";
}
.glyphicon-globe:before {
  content: "\e135";
}
.glyphicon-wrench:before {
  content: "\e136";
}
.glyphicon-tasks:before {
  content: "\e137";
}
.glyphicon-filter:before {
  content: "\e138";
}
.glyphicon-briefcase:before {
  content: "\e139";
}
.glyphicon-fullscreen:before {
  content: "\e140";
}
.glyphicon-dashboard:before {
  content: "\e141";
}
.glyphicon-paperclip:before {
  content: "\e142";
}
.glyphicon-heart-empty:before {
  content: "\e143";
}
.glyphicon-link:before {
  content: "\e144";
}
.glyphicon-phone:before {
  content: "\e145";
}
.glyphicon-pushpin:before {
  content: "\e146";
}
.glyphicon-usd:before {
  content: "\e148";
}
.glyphicon-gbp:before {
  content: "\e149";
}
.glyphicon-sort:before {
  content: "\e150";
}
.glyphicon-sort-by-alphabet:before {
  content: "\e151";
}
.glyphicon-sort-by-alphabet-alt:before {
  content: "\e152";
}
.glyphicon-sort-by-order:before {
  content: "\e153";
}
.glyphicon-sort-by-order-alt:before {
  content: "\e154";
}
.glyphicon-sort-by-attributes:before {
  content: "\e155";
}
.glyphicon-sort-by-attributes-alt:before {
  content: "\e156";
}
.glyphicon-unchecked:before {
  content: "\e157";
}
.glyphicon-expand:before {
  content: "\e158";
}
.glyphicon-collapse-down:before {
  content: "\e159";
}
.glyphicon-collapse-up:before {
  content: "\e160";
}
.glyphicon-log-in:before {
  content: "\e161";
}
.glyphicon-flash:before {
  content: "\e162";
}
.glyphicon-log-out:before {
  content: "\e163";
}
.glyphicon-new-window:before {
  content: "\e164";
}
.glyphicon-record:before {
  content: "\e165";
}
.glyphicon-save:before {
  content: "\e166";
}
.glyphicon-open:before {
  content: "\e167";
}
.glyphicon-saved:before {
  content: "\e168";
}
.glyphicon-import:before {
  content: "\e169";
}
.glyphicon-export:before {
  content: "\e170";
}
.glyphicon-send:before {
  content: "\e171";
}
.glyphicon-floppy-disk:before {
  content: "\e172";
}
.glyphicon-floppy-saved:before {
  content: "\e173";
}
.glyphicon-floppy-remove:before {
  content: "\e174";
}
.glyphicon-floppy-save:before {
  content: "\e175";
}
.glyphicon-floppy-open:before {
  content: "\e176";
}
.glyphicon-credit-card:before {
  content: "\e177";
}
.glyphicon-transfer:before {
  content: "\e178";
}
.glyphicon-cutlery:before {
  content: "\e179";
}
.glyphicon-header:before {
  content: "\e180";
}
.glyphicon-compressed:before {
  content: "\e181";
}
.glyphicon-earphone:before {
  content: "\e182";
}
.glyphicon-phone-alt:before {
  content: "\e183";
}
.glyphicon-tower:before {
  content: "\e184";
}
.glyphicon-stats:before {
  content: "\e185";
}
.glyphicon-sd-video:before {
  content: "\e186";
}
.glyphicon-hd-video:before {
  content: "\e187";
}
.glyphicon-subtitles:before {
  content: "\e188";
}
.glyphicon-sound-stereo:before {
  content: "\e189";
}
.glyphicon-sound-dolby:before {
  content: "\e190";
}
.glyphicon-sound-5-1:before {
  content: "\e191";
}
.glyphicon-sound-6-1:before {
  content: "\e192";
}
.glyphicon-sound-7-1:before {
  content: "\e193";
}
.glyphicon-copyright-mark:before {
  content: "\e194";
}
.glyphicon-registration-mark:before {
  content: "\e195";
}
.glyphicon-cloud-download:before {
  content: "\e197";
}
.glyphicon-cloud-upload:before {
  content: "\e198";
}
.glyphicon-tree-conifer:before {
  content: "\e199";
}
.glyphicon-tree-deciduous:before {
  content: "\e200";
}
.glyphicon-cd:before {
  content: "\e201";
}
.glyphicon-save-file:before {
  content: "\e202";
}
.glyphicon-open-file:before {
  content: "\e203";
}
.glyphicon-level-up:before {
  content: "\e204";
}
.glyphicon-copy:before {
  content: "\e205";
}
.glyphicon-paste:before {
  content: "\e206";
}
.glyphicon-alert:before {
  content: "\e209";
}
.glyphicon-equalizer:before {
  content: "\e210";
}
.glyphicon-king:before {
  content: "\e211";
}
.glyphicon-queen:before {
  content: "\e212";
}
.glyphicon-pawn:before {
  content: "\e213";
}
.glyphicon-bishop:before {
  content: "\e214";
}
.glyphicon-knight:before {
  content: "\e215";
}
.glyphicon-baby-formula:before {
  content: "\e216";
}
.glyphicon-tent:before {
  content: "\26fa";
}
.glyphicon-blackboard:before {
  content: "\e218";
}
.glyphicon-bed:before {
  content: "\e219";
}
.glyphicon-apple:before {
  content: "\f8ff";
}
.glyphicon-erase:before {
  content: "\e221";
}
.glyphicon-hourglass:before {
  content: "\231b";
}
.glyphicon-lamp:before {
  content: "\e223";
}
.glyphicon-duplicate:before {
  content: "\e224";
}
.glyphicon-piggy-bank:before {
  content: "\e225";
}
.glyphicon-scissors:before {
  content: "\e226";
}
.glyphicon-bitcoin:before {
  content: "\e227";
}
.glyphicon-btc:before {
  content: "\e227";
}
.glyphicon-xbt:before {
  content: "\e227";
}
.glyphicon-yen:before {
  content: "\00a5";
}
.glyphicon-jpy:before {
  content: "\00a5";
}
.glyphicon-ruble:before {
  content: "\20bd";
}
.glyphicon-rub:before {
  content: "\20bd";
}
.glyphicon-scale:before {
  content: "\e230";
}
.glyphicon-ice-lolly:before {
  content: "\e231";
}
.glyphicon-ice-lolly-tasted:before {
  content: "\e232";
}
.glyphicon-education:before {
  content: "\e233";
}
.glyphicon-option-horizontal:before {
  content: "\e234";
}
.glyphicon-option-vertical:before {
  content: "\e235";
}
.glyphicon-menu-hamburger:before {
  content: "\e236";
}
.glyphicon-modal-window:before {
  content: "\e237";
}
.glyphicon-oil:before {
  content: "\e238";
}
.glyphicon-grain:before {
  content: "\e239";
}
.glyphicon-sunglasses:before {
  content: "\e240";
}
.glyphicon-text-size:before {
  content: "\e241";
}
.glyphicon-text-color:before {
  content: "\e242";
}
.glyphicon-text-background:before {
  content: "\e243";
}
.glyphicon-object-align-top:before {
  content: "\e244";
}
.glyphicon-object-align-bottom:before {
  content: "\e245";
}
.glyphicon-object-align-horizontal:before {
  content: "\e246";
}
.glyphicon-object-align-left:before {
  content: "\e247";
}
.glyphicon-object-align-vertical:before {
  content: "\e248";
}
.glyphicon-object-align-right:before {
  content: "\e249";
}
.glyphicon-triangle-right:before {
  content: "\e250";
}
.glyphicon-triangle-left:before {
  content: "\e251";
}
.glyphicon-triangle-bottom:before {
  content: "\e252";
}
.glyphicon-triangle-top:before {
  content: "\e253";
}
.glyphicon-console:before {
  content: "\e254";
}
.glyphicon-superscript:before {
  content: "\e255";
}
.glyphicon-subscript:before {
  content: "\e256";
}
.glyphicon-menu-left:before {
  content: "\e257";
}
.glyphicon-menu-right:before {
  content: "\e258";
}
.glyphicon-menu-down:before {
  content: "\e259";
}
.glyphicon-menu-up:before {
  content: "\e260";
}
* {
  -webkit-box-sizing: border-box;
  -moz-box-sizing: border-box;
  box-sizing: border-box;
}
*:before,
*:after {
  -webkit-box-sizing: border-box;
  -moz-box-sizing: border-box;
  box-sizing: border-box;
}
html {
  font-size: 10px;
  -webkit-tap-highlight-color: rgba(0, 0, 0, 0);
}
body {
  font-family: "Helvetica Neue", Helvetica, Arial, sans-serif;
  font-size: 13px;
  line-height: 1.42857143;
  color: #000;
  background-color: #fff;
}
input,
button,
select,
textarea {
  font-family: inherit;
  font-size: inherit;
  line-height: inherit;
}
a {
  color: #337ab7;
  text-decoration: none;
}
a:hover,
a:focus {
  color: #23527c;
  text-decoration: underline;
}
a:focus {
  outline: 5px auto -webkit-focus-ring-color;
  outline-offset: -2px;
}
figure {
  margin: 0;
}
img {
  vertical-align: middle;
}
.img-responsive,
.thumbnail > img,
.thumbnail a > img,
.carousel-inner > .item > img,
.carousel-inner > .item > a > img {
  display: block;
  max-width: 100%;
  height: auto;
}
.img-rounded {
  border-radius: 3px;
}
.img-thumbnail {
  padding: 4px;
  line-height: 1.42857143;
  background-color: #fff;
  border: 1px solid #ddd;
  border-radius: 2px;
  -webkit-transition: all 0.2s ease-in-out;
  -o-transition: all 0.2s ease-in-out;
  transition: all 0.2s ease-in-out;
  display: inline-block;
  max-width: 100%;
  height: auto;
}
.img-circle {
  border-radius: 50%;
}
hr {
  margin-top: 18px;
  margin-bottom: 18px;
  border: 0;
  border-top: 1px solid #eeeeee;
}
.sr-only {
  position: absolute;
  width: 1px;
  height: 1px;
  margin: -1px;
  padding: 0;
  overflow: hidden;
  clip: rect(0, 0, 0, 0);
  border: 0;
}
.sr-only-focusable:active,
.sr-only-focusable:focus {
  position: static;
  width: auto;
  height: auto;
  margin: 0;
  overflow: visible;
  clip: auto;
}
[role="button"] {
  cursor: pointer;
}
h1,
h2,
h3,
h4,
h5,
h6,
.h1,
.h2,
.h3,
.h4,
.h5,
.h6 {
  font-family: inherit;
  font-weight: 500;
  line-height: 1.1;
  color: inherit;
}
h1 small,
h2 small,
h3 small,
h4 small,
h5 small,
h6 small,
.h1 small,
.h2 small,
.h3 small,
.h4 small,
.h5 small,
.h6 small,
h1 .small,
h2 .small,
h3 .small,
h4 .small,
h5 .small,
h6 .small,
.h1 .small,
.h2 .small,
.h3 .small,
.h4 .small,
.h5 .small,
.h6 .small {
  font-weight: normal;
  line-height: 1;
  color: #777777;
}
h1,
.h1,
h2,
.h2,
h3,
.h3 {
  margin-top: 18px;
  margin-bottom: 9px;
}
h1 small,
.h1 small,
h2 small,
.h2 small,
h3 small,
.h3 small,
h1 .small,
.h1 .small,
h2 .small,
.h2 .small,
h3 .small,
.h3 .small {
  font-size: 65%;
}
h4,
.h4,
h5,
.h5,
h6,
.h6 {
  margin-top: 9px;
  margin-bottom: 9px;
}
h4 small,
.h4 small,
h5 small,
.h5 small,
h6 small,
.h6 small,
h4 .small,
.h4 .small,
h5 .small,
.h5 .small,
h6 .small,
.h6 .small {
  font-size: 75%;
}
h1,
.h1 {
  font-size: 33px;
}
h2,
.h2 {
  font-size: 27px;
}
h3,
.h3 {
  font-size: 23px;
}
h4,
.h4 {
  font-size: 17px;
}
h5,
.h5 {
  font-size: 13px;
}
h6,
.h6 {
  font-size: 12px;
}
p {
  margin: 0 0 9px;
}
.lead {
  margin-bottom: 18px;
  font-size: 14px;
  font-weight: 300;
  line-height: 1.4;
}
@media (min-width: 768px) {
  .lead {
    font-size: 19.5px;
  }
}
small,
.small {
  font-size: 92%;
}
mark,
.mark {
  background-color: #fcf8e3;
  padding: .2em;
}
.text-left {
  text-align: left;
}
.text-right {
  text-align: right;
}
.text-center {
  text-align: center;
}
.text-justify {
  text-align: justify;
}
.text-nowrap {
  white-space: nowrap;
}
.text-lowercase {
  text-transform: lowercase;
}
.text-uppercase {
  text-transform: uppercase;
}
.text-capitalize {
  text-transform: capitalize;
}
.text-muted {
  color: #777777;
}
.text-primary {
  color: #337ab7;
}
a.text-primary:hover,
a.text-primary:focus {
  color: #286090;
}
.text-success {
  color: #3c763d;
}
a.text-success:hover,
a.text-success:focus {
  color: #2b542c;
}
.text-info {
  color: #31708f;
}
a.text-info:hover,
a.text-info:focus {
  color: #245269;
}
.text-warning {
  color: #8a6d3b;
}
a.text-warning:hover,
a.text-warning:focus {
  color: #66512c;
}
.text-danger {
  color: #a94442;
}
a.text-danger:hover,
a.text-danger:focus {
  color: #843534;
}
.bg-primary {
  color: #fff;
  background-color: #337ab7;
}
a.bg-primary:hover,
a.bg-primary:focus {
  background-color: #286090;
}
.bg-success {
  background-color: #dff0d8;
}
a.bg-success:hover,
a.bg-success:focus {
  background-color: #c1e2b3;
}
.bg-info {
  background-color: #d9edf7;
}
a.bg-info:hover,
a.bg-info:focus {
  background-color: #afd9ee;
}
.bg-warning {
  background-color: #fcf8e3;
}
a.bg-warning:hover,
a.bg-warning:focus {
  background-color: #f7ecb5;
}
.bg-danger {
  background-color: #f2dede;
}
a.bg-danger:hover,
a.bg-danger:focus {
  background-color: #e4b9b9;
}
.page-header {
  padding-bottom: 8px;
  margin: 36px 0 18px;
  border-bottom: 1px solid #eeeeee;
}
ul,
ol {
  margin-top: 0;
  margin-bottom: 9px;
}
ul ul,
ol ul,
ul ol,
ol ol {
  margin-bottom: 0;
}
.list-unstyled {
  padding-left: 0;
  list-style: none;
}
.list-inline {
  padding-left: 0;
  list-style: none;
  margin-left: -5px;
}
.list-inline > li {
  display: inline-block;
  padding-left: 5px;
  padding-right: 5px;
}
dl {
  margin-top: 0;
  margin-bottom: 18px;
}
dt,
dd {
  line-height: 1.42857143;
}
dt {
  font-weight: bold;
}
dd {
  margin-left: 0;
}
@media (min-width: 541px) {
  .dl-horizontal dt {
    float: left;
    width: 160px;
    clear: left;
    text-align: right;
    overflow: hidden;
    text-overflow: ellipsis;
    white-space: nowrap;
  }
  .dl-horizontal dd {
    margin-left: 180px;
  }
}
abbr[title],
abbr[data-original-title] {
  cursor: help;
  border-bottom: 1px dotted #777777;
}
.initialism {
  font-size: 90%;
  text-transform: uppercase;
}
blockquote {
  padding: 9px 18px;
  margin: 0 0 18px;
  font-size: inherit;
  border-left: 5px solid #eeeeee;
}
blockquote p:last-child,
blockquote ul:last-child,
blockquote ol:last-child {
  margin-bottom: 0;
}
blockquote footer,
blockquote small,
blockquote .small {
  display: block;
  font-size: 80%;
  line-height: 1.42857143;
  color: #777777;
}
blockquote footer:before,
blockquote small:before,
blockquote .small:before {
  content: '\2014 \00A0';
}
.blockquote-reverse,
blockquote.pull-right {
  padding-right: 15px;
  padding-left: 0;
  border-right: 5px solid #eeeeee;
  border-left: 0;
  text-align: right;
}
.blockquote-reverse footer:before,
blockquote.pull-right footer:before,
.blockquote-reverse small:before,
blockquote.pull-right small:before,
.blockquote-reverse .small:before,
blockquote.pull-right .small:before {
  content: '';
}
.blockquote-reverse footer:after,
blockquote.pull-right footer:after,
.blockquote-reverse small:after,
blockquote.pull-right small:after,
.blockquote-reverse .small:after,
blockquote.pull-right .small:after {
  content: '\00A0 \2014';
}
address {
  margin-bottom: 18px;
  font-style: normal;
  line-height: 1.42857143;
}
code,
kbd,
pre,
samp {
  font-family: monospace;
}
code {
  padding: 2px 4px;
  font-size: 90%;
  color: #c7254e;
  background-color: #f9f2f4;
  border-radius: 2px;
}
kbd {
  padding: 2px 4px;
  font-size: 90%;
  color: #888;
  background-color: transparent;
  border-radius: 1px;
  box-shadow: inset 0 -1px 0 rgba(0, 0, 0, 0.25);
}
kbd kbd {
  padding: 0;
  font-size: 100%;
  font-weight: bold;
  box-shadow: none;
}
pre {
  display: block;
  padding: 8.5px;
  margin: 0 0 9px;
  font-size: 12px;
  line-height: 1.42857143;
  word-break: break-all;
  word-wrap: break-word;
  color: #333333;
  background-color: #f5f5f5;
  border: 1px solid #ccc;
  border-radius: 2px;
}
pre code {
  padding: 0;
  font-size: inherit;
  color: inherit;
  white-space: pre-wrap;
  background-color: transparent;
  border-radius: 0;
}
.pre-scrollable {
  max-height: 340px;
  overflow-y: scroll;
}
.container {
  margin-right: auto;
  margin-left: auto;
  padding-left: 0px;
  padding-right: 0px;
}
@media (min-width: 768px) {
  .container {
    width: 768px;
  }
}
@media (min-width: 992px) {
  .container {
    width: 940px;
  }
}
@media (min-width: 1200px) {
  .container {
    width: 1140px;
  }
}
.container-fluid {
  margin-right: auto;
  margin-left: auto;
  padding-left: 0px;
  padding-right: 0px;
}
.row {
  margin-left: 0px;
  margin-right: 0px;
}
.col-xs-1, .col-sm-1, .col-md-1, .col-lg-1, .col-xs-2, .col-sm-2, .col-md-2, .col-lg-2, .col-xs-3, .col-sm-3, .col-md-3, .col-lg-3, .col-xs-4, .col-sm-4, .col-md-4, .col-lg-4, .col-xs-5, .col-sm-5, .col-md-5, .col-lg-5, .col-xs-6, .col-sm-6, .col-md-6, .col-lg-6, .col-xs-7, .col-sm-7, .col-md-7, .col-lg-7, .col-xs-8, .col-sm-8, .col-md-8, .col-lg-8, .col-xs-9, .col-sm-9, .col-md-9, .col-lg-9, .col-xs-10, .col-sm-10, .col-md-10, .col-lg-10, .col-xs-11, .col-sm-11, .col-md-11, .col-lg-11, .col-xs-12, .col-sm-12, .col-md-12, .col-lg-12 {
  position: relative;
  min-height: 1px;
  padding-left: 0px;
  padding-right: 0px;
}
.col-xs-1, .col-xs-2, .col-xs-3, .col-xs-4, .col-xs-5, .col-xs-6, .col-xs-7, .col-xs-8, .col-xs-9, .col-xs-10, .col-xs-11, .col-xs-12 {
  float: left;
}
.col-xs-12 {
  width: 100%;
}
.col-xs-11 {
  width: 91.66666667%;
}
.col-xs-10 {
  width: 83.33333333%;
}
.col-xs-9 {
  width: 75%;
}
.col-xs-8 {
  width: 66.66666667%;
}
.col-xs-7 {
  width: 58.33333333%;
}
.col-xs-6 {
  width: 50%;
}
.col-xs-5 {
  width: 41.66666667%;
}
.col-xs-4 {
  width: 33.33333333%;
}
.col-xs-3 {
  width: 25%;
}
.col-xs-2 {
  width: 16.66666667%;
}
.col-xs-1 {
  width: 8.33333333%;
}
.col-xs-pull-12 {
  right: 100%;
}
.col-xs-pull-11 {
  right: 91.66666667%;
}
.col-xs-pull-10 {
  right: 83.33333333%;
}
.col-xs-pull-9 {
  right: 75%;
}
.col-xs-pull-8 {
  right: 66.66666667%;
}
.col-xs-pull-7 {
  right: 58.33333333%;
}
.col-xs-pull-6 {
  right: 50%;
}
.col-xs-pull-5 {
  right: 41.66666667%;
}
.col-xs-pull-4 {
  right: 33.33333333%;
}
.col-xs-pull-3 {
  right: 25%;
}
.col-xs-pull-2 {
  right: 16.66666667%;
}
.col-xs-pull-1 {
  right: 8.33333333%;
}
.col-xs-pull-0 {
  right: auto;
}
.col-xs-push-12 {
  left: 100%;
}
.col-xs-push-11 {
  left: 91.66666667%;
}
.col-xs-push-10 {
  left: 83.33333333%;
}
.col-xs-push-9 {
  left: 75%;
}
.col-xs-push-8 {
  left: 66.66666667%;
}
.col-xs-push-7 {
  left: 58.33333333%;
}
.col-xs-push-6 {
  left: 50%;
}
.col-xs-push-5 {
  left: 41.66666667%;
}
.col-xs-push-4 {
  left: 33.33333333%;
}
.col-xs-push-3 {
  left: 25%;
}
.col-xs-push-2 {
  left: 16.66666667%;
}
.col-xs-push-1 {
  left: 8.33333333%;
}
.col-xs-push-0 {
  left: auto;
}
.col-xs-offset-12 {
  margin-left: 100%;
}
.col-xs-offset-11 {
  margin-left: 91.66666667%;
}
.col-xs-offset-10 {
  margin-left: 83.33333333%;
}
.col-xs-offset-9 {
  margin-left: 75%;
}
.col-xs-offset-8 {
  margin-left: 66.66666667%;
}
.col-xs-offset-7 {
  margin-left: 58.33333333%;
}
.col-xs-offset-6 {
  margin-left: 50%;
}
.col-xs-offset-5 {
  margin-left: 41.66666667%;
}
.col-xs-offset-4 {
  margin-left: 33.33333333%;
}
.col-xs-offset-3 {
  margin-left: 25%;
}
.col-xs-offset-2 {
  margin-left: 16.66666667%;
}
.col-xs-offset-1 {
  margin-left: 8.33333333%;
}
.col-xs-offset-0 {
  margin-left: 0%;
}
@media (min-width: 768px) {
  .col-sm-1, .col-sm-2, .col-sm-3, .col-sm-4, .col-sm-5, .col-sm-6, .col-sm-7, .col-sm-8, .col-sm-9, .col-sm-10, .col-sm-11, .col-sm-12 {
    float: left;
  }
  .col-sm-12 {
    width: 100%;
  }
  .col-sm-11 {
    width: 91.66666667%;
  }
  .col-sm-10 {
    width: 83.33333333%;
  }
  .col-sm-9 {
    width: 75%;
  }
  .col-sm-8 {
    width: 66.66666667%;
  }
  .col-sm-7 {
    width: 58.33333333%;
  }
  .col-sm-6 {
    width: 50%;
  }
  .col-sm-5 {
    width: 41.66666667%;
  }
  .col-sm-4 {
    width: 33.33333333%;
  }
  .col-sm-3 {
    width: 25%;
  }
  .col-sm-2 {
    width: 16.66666667%;
  }
  .col-sm-1 {
    width: 8.33333333%;
  }
  .col-sm-pull-12 {
    right: 100%;
  }
  .col-sm-pull-11 {
    right: 91.66666667%;
  }
  .col-sm-pull-10 {
    right: 83.33333333%;
  }
  .col-sm-pull-9 {
    right: 75%;
  }
  .col-sm-pull-8 {
    right: 66.66666667%;
  }
  .col-sm-pull-7 {
    right: 58.33333333%;
  }
  .col-sm-pull-6 {
    right: 50%;
  }
  .col-sm-pull-5 {
    right: 41.66666667%;
  }
  .col-sm-pull-4 {
    right: 33.33333333%;
  }
  .col-sm-pull-3 {
    right: 25%;
  }
  .col-sm-pull-2 {
    right: 16.66666667%;
  }
  .col-sm-pull-1 {
    right: 8.33333333%;
  }
  .col-sm-pull-0 {
    right: auto;
  }
  .col-sm-push-12 {
    left: 100%;
  }
  .col-sm-push-11 {
    left: 91.66666667%;
  }
  .col-sm-push-10 {
    left: 83.33333333%;
  }
  .col-sm-push-9 {
    left: 75%;
  }
  .col-sm-push-8 {
    left: 66.66666667%;
  }
  .col-sm-push-7 {
    left: 58.33333333%;
  }
  .col-sm-push-6 {
    left: 50%;
  }
  .col-sm-push-5 {
    left: 41.66666667%;
  }
  .col-sm-push-4 {
    left: 33.33333333%;
  }
  .col-sm-push-3 {
    left: 25%;
  }
  .col-sm-push-2 {
    left: 16.66666667%;
  }
  .col-sm-push-1 {
    left: 8.33333333%;
  }
  .col-sm-push-0 {
    left: auto;
  }
  .col-sm-offset-12 {
    margin-left: 100%;
  }
  .col-sm-offset-11 {
    margin-left: 91.66666667%;
  }
  .col-sm-offset-10 {
    margin-left: 83.33333333%;
  }
  .col-sm-offset-9 {
    margin-left: 75%;
  }
  .col-sm-offset-8 {
    margin-left: 66.66666667%;
  }
  .col-sm-offset-7 {
    margin-left: 58.33333333%;
  }
  .col-sm-offset-6 {
    margin-left: 50%;
  }
  .col-sm-offset-5 {
    margin-left: 41.66666667%;
  }
  .col-sm-offset-4 {
    margin-left: 33.33333333%;
  }
  .col-sm-offset-3 {
    margin-left: 25%;
  }
  .col-sm-offset-2 {
    margin-left: 16.66666667%;
  }
  .col-sm-offset-1 {
    margin-left: 8.33333333%;
  }
  .col-sm-offset-0 {
    margin-left: 0%;
  }
}
@media (min-width: 992px) {
  .col-md-1, .col-md-2, .col-md-3, .col-md-4, .col-md-5, .col-md-6, .col-md-7, .col-md-8, .col-md-9, .col-md-10, .col-md-11, .col-md-12 {
    float: left;
  }
  .col-md-12 {
    width: 100%;
  }
  .col-md-11 {
    width: 91.66666667%;
  }
  .col-md-10 {
    width: 83.33333333%;
  }
  .col-md-9 {
    width: 75%;
  }
  .col-md-8 {
    width: 66.66666667%;
  }
  .col-md-7 {
    width: 58.33333333%;
  }
  .col-md-6 {
    width: 50%;
  }
  .col-md-5 {
    width: 41.66666667%;
  }
  .col-md-4 {
    width: 33.33333333%;
  }
  .col-md-3 {
    width: 25%;
  }
  .col-md-2 {
    width: 16.66666667%;
  }
  .col-md-1 {
    width: 8.33333333%;
  }
  .col-md-pull-12 {
    right: 100%;
  }
  .col-md-pull-11 {
    right: 91.66666667%;
  }
  .col-md-pull-10 {
    right: 83.33333333%;
  }
  .col-md-pull-9 {
    right: 75%;
  }
  .col-md-pull-8 {
    right: 66.66666667%;
  }
  .col-md-pull-7 {
    right: 58.33333333%;
  }
  .col-md-pull-6 {
    right: 50%;
  }
  .col-md-pull-5 {
    right: 41.66666667%;
  }
  .col-md-pull-4 {
    right: 33.33333333%;
  }
  .col-md-pull-3 {
    right: 25%;
  }
  .col-md-pull-2 {
    right: 16.66666667%;
  }
  .col-md-pull-1 {
    right: 8.33333333%;
  }
  .col-md-pull-0 {
    right: auto;
  }
  .col-md-push-12 {
    left: 100%;
  }
  .col-md-push-11 {
    left: 91.66666667%;
  }
  .col-md-push-10 {
    left: 83.33333333%;
  }
  .col-md-push-9 {
    left: 75%;
  }
  .col-md-push-8 {
    left: 66.66666667%;
  }
  .col-md-push-7 {
    left: 58.33333333%;
  }
  .col-md-push-6 {
    left: 50%;
  }
  .col-md-push-5 {
    left: 41.66666667%;
  }
  .col-md-push-4 {
    left: 33.33333333%;
  }
  .col-md-push-3 {
    left: 25%;
  }
  .col-md-push-2 {
    left: 16.66666667%;
  }
  .col-md-push-1 {
    left: 8.33333333%;
  }
  .col-md-push-0 {
    left: auto;
  }
  .col-md-offset-12 {
    margin-left: 100%;
  }
  .col-md-offset-11 {
    margin-left: 91.66666667%;
  }
  .col-md-offset-10 {
    margin-left: 83.33333333%;
  }
  .col-md-offset-9 {
    margin-left: 75%;
  }
  .col-md-offset-8 {
    margin-left: 66.66666667%;
  }
  .col-md-offset-7 {
    margin-left: 58.33333333%;
  }
  .col-md-offset-6 {
    margin-left: 50%;
  }
  .col-md-offset-5 {
    margin-left: 41.66666667%;
  }
  .col-md-offset-4 {
    margin-left: 33.33333333%;
  }
  .col-md-offset-3 {
    margin-left: 25%;
  }
  .col-md-offset-2 {
    margin-left: 16.66666667%;
  }
  .col-md-offset-1 {
    margin-left: 8.33333333%;
  }
  .col-md-offset-0 {
    margin-left: 0%;
  }
}
@media (min-width: 1200px) {
  .col-lg-1, .col-lg-2, .col-lg-3, .col-lg-4, .col-lg-5, .col-lg-6, .col-lg-7, .col-lg-8, .col-lg-9, .col-lg-10, .col-lg-11, .col-lg-12 {
    float: left;
  }
  .col-lg-12 {
    width: 100%;
  }
  .col-lg-11 {
    width: 91.66666667%;
  }
  .col-lg-10 {
    width: 83.33333333%;
  }
  .col-lg-9 {
    width: 75%;
  }
  .col-lg-8 {
    width: 66.66666667%;
  }
  .col-lg-7 {
    width: 58.33333333%;
  }
  .col-lg-6 {
    width: 50%;
  }
  .col-lg-5 {
    width: 41.66666667%;
  }
  .col-lg-4 {
    width: 33.33333333%;
  }
  .col-lg-3 {
    width: 25%;
  }
  .col-lg-2 {
    width: 16.66666667%;
  }
  .col-lg-1 {
    width: 8.33333333%;
  }
  .col-lg-pull-12 {
    right: 100%;
  }
  .col-lg-pull-11 {
    right: 91.66666667%;
  }
  .col-lg-pull-10 {
    right: 83.33333333%;
  }
  .col-lg-pull-9 {
    right: 75%;
  }
  .col-lg-pull-8 {
    right: 66.66666667%;
  }
  .col-lg-pull-7 {
    right: 58.33333333%;
  }
  .col-lg-pull-6 {
    right: 50%;
  }
  .col-lg-pull-5 {
    right: 41.66666667%;
  }
  .col-lg-pull-4 {
    right: 33.33333333%;
  }
  .col-lg-pull-3 {
    right: 25%;
  }
  .col-lg-pull-2 {
    right: 16.66666667%;
  }
  .col-lg-pull-1 {
    right: 8.33333333%;
  }
  .col-lg-pull-0 {
    right: auto;
  }
  .col-lg-push-12 {
    left: 100%;
  }
  .col-lg-push-11 {
    left: 91.66666667%;
  }
  .col-lg-push-10 {
    left: 83.33333333%;
  }
  .col-lg-push-9 {
    left: 75%;
  }
  .col-lg-push-8 {
    left: 66.66666667%;
  }
  .col-lg-push-7 {
    left: 58.33333333%;
  }
  .col-lg-push-6 {
    left: 50%;
  }
  .col-lg-push-5 {
    left: 41.66666667%;
  }
  .col-lg-push-4 {
    left: 33.33333333%;
  }
  .col-lg-push-3 {
    left: 25%;
  }
  .col-lg-push-2 {
    left: 16.66666667%;
  }
  .col-lg-push-1 {
    left: 8.33333333%;
  }
  .col-lg-push-0 {
    left: auto;
  }
  .col-lg-offset-12 {
    margin-left: 100%;
  }
  .col-lg-offset-11 {
    margin-left: 91.66666667%;
  }
  .col-lg-offset-10 {
    margin-left: 83.33333333%;
  }
  .col-lg-offset-9 {
    margin-left: 75%;
  }
  .col-lg-offset-8 {
    margin-left: 66.66666667%;
  }
  .col-lg-offset-7 {
    margin-left: 58.33333333%;
  }
  .col-lg-offset-6 {
    margin-left: 50%;
  }
  .col-lg-offset-5 {
    margin-left: 41.66666667%;
  }
  .col-lg-offset-4 {
    margin-left: 33.33333333%;
  }
  .col-lg-offset-3 {
    margin-left: 25%;
  }
  .col-lg-offset-2 {
    margin-left: 16.66666667%;
  }
  .col-lg-offset-1 {
    margin-left: 8.33333333%;
  }
  .col-lg-offset-0 {
    margin-left: 0%;
  }
}
table {
  background-color: transparent;
}
caption {
  padding-top: 8px;
  padding-bottom: 8px;
  color: #777777;
  text-align: left;
}
th {
  text-align: left;
}
.table {
  width: 100%;
  max-width: 100%;
  margin-bottom: 18px;
}
.table > thead > tr > th,
.table > tbody > tr > th,
.table > tfoot > tr > th,
.table > thead > tr > td,
.table > tbody > tr > td,
.table > tfoot > tr > td {
  padding: 8px;
  line-height: 1.42857143;
  vertical-align: top;
  border-top: 1px solid #ddd;
}
.table > thead > tr > th {
  vertical-align: bottom;
  border-bottom: 2px solid #ddd;
}
.table > caption + thead > tr:first-child > th,
.table > colgroup + thead > tr:first-child > th,
.table > thead:first-child > tr:first-child > th,
.table > caption + thead > tr:first-child > td,
.table > colgroup + thead > tr:first-child > td,
.table > thead:first-child > tr:first-child > td {
  border-top: 0;
}
.table > tbody + tbody {
  border-top: 2px solid #ddd;
}
.table .table {
  background-color: #fff;
}
.table-condensed > thead > tr > th,
.table-condensed > tbody > tr > th,
.table-condensed > tfoot > tr > th,
.table-condensed > thead > tr > td,
.table-condensed > tbody > tr > td,
.table-condensed > tfoot > tr > td {
  padding: 5px;
}
.table-bordered {
  border: 1px solid #ddd;
}
.table-bordered > thead > tr > th,
.table-bordered > tbody > tr > th,
.table-bordered > tfoot > tr > th,
.table-bordered > thead > tr > td,
.table-bordered > tbody > tr > td,
.table-bordered > tfoot > tr > td {
  border: 1px solid #ddd;
}
.table-bordered > thead > tr > th,
.table-bordered > thead > tr > td {
  border-bottom-width: 2px;
}
.table-striped > tbody > tr:nth-of-type(odd) {
  background-color: #f9f9f9;
}
.table-hover > tbody > tr:hover {
  background-color: #f5f5f5;
}
table col[class*="col-"] {
  position: static;
  float: none;
  display: table-column;
}
table td[class*="col-"],
table th[class*="col-"] {
  position: static;
  float: none;
  display: table-cell;
}
.table > thead > tr > td.active,
.table > tbody > tr > td.active,
.table > tfoot > tr > td.active,
.table > thead > tr > th.active,
.table > tbody > tr > th.active,
.table > tfoot > tr > th.active,
.table > thead > tr.active > td,
.table > tbody > tr.active > td,
.table > tfoot > tr.active > td,
.table > thead > tr.active > th,
.table > tbody > tr.active > th,
.table > tfoot > tr.active > th {
  background-color: #f5f5f5;
}
.table-hover > tbody > tr > td.active:hover,
.table-hover > tbody > tr > th.active:hover,
.table-hover > tbody > tr.active:hover > td,
.table-hover > tbody > tr:hover > .active,
.table-hover > tbody > tr.active:hover > th {
  background-color: #e8e8e8;
}
.table > thead > tr > td.success,
.table > tbody > tr > td.success,
.table > tfoot > tr > td.success,
.table > thead > tr > th.success,
.table > tbody > tr > th.success,
.table > tfoot > tr > th.success,
.table > thead > tr.success > td,
.table > tbody > tr.success > td,
.table > tfoot > tr.success > td,
.table > thead > tr.success > th,
.table > tbody > tr.success > th,
.table > tfoot > tr.success > th {
  background-color: #dff0d8;
}
.table-hover > tbody > tr > td.success:hover,
.table-hover > tbody > tr > th.success:hover,
.table-hover > tbody > tr.success:hover > td,
.table-hover > tbody > tr:hover > .success,
.table-hover > tbody > tr.success:hover > th {
  background-color: #d0e9c6;
}
.table > thead > tr > td.info,
.table > tbody > tr > td.info,
.table > tfoot > tr > td.info,
.table > thead > tr > th.info,
.table > tbody > tr > th.info,
.table > tfoot > tr > th.info,
.table > thead > tr.info > td,
.table > tbody > tr.info > td,
.table > tfoot > tr.info > td,
.table > thead > tr.info > th,
.table > tbody > tr.info > th,
.table > tfoot > tr.info > th {
  background-color: #d9edf7;
}
.table-hover > tbody > tr > td.info:hover,
.table-hover > tbody > tr > th.info:hover,
.table-hover > tbody > tr.info:hover > td,
.table-hover > tbody > tr:hover > .info,
.table-hover > tbody > tr.info:hover > th {
  background-color: #c4e3f3;
}
.table > thead > tr > td.warning,
.table > tbody > tr > td.warning,
.table > tfoot > tr > td.warning,
.table > thead > tr > th.warning,
.table > tbody > tr > th.warning,
.table > tfoot > tr > th.warning,
.table > thead > tr.warning > td,
.table > tbody > tr.warning > td,
.table > tfoot > tr.warning > td,
.table > thead > tr.warning > th,
.table > tbody > tr.warning > th,
.table > tfoot > tr.warning > th {
  background-color: #fcf8e3;
}
.table-hover > tbody > tr > td.warning:hover,
.table-hover > tbody > tr > th.warning:hover,
.table-hover > tbody > tr.warning:hover > td,
.table-hover > tbody > tr:hover > .warning,
.table-hover > tbody > tr.warning:hover > th {
  background-color: #faf2cc;
}
.table > thead > tr > td.danger,
.table > tbody > tr > td.danger,
.table > tfoot > tr > td.danger,
.table > thead > tr > th.danger,
.table > tbody > tr > th.danger,
.table > tfoot > tr > th.danger,
.table > thead > tr.danger > td,
.table > tbody > tr.danger > td,
.table > tfoot > tr.danger > td,
.table > thead > tr.danger > th,
.table > tbody > tr.danger > th,
.table > tfoot > tr.danger > th {
  background-color: #f2dede;
}
.table-hover > tbody > tr > td.danger:hover,
.table-hover > tbody > tr > th.danger:hover,
.table-hover > tbody > tr.danger:hover > td,
.table-hover > tbody > tr:hover > .danger,
.table-hover > tbody > tr.danger:hover > th {
  background-color: #ebcccc;
}
.table-responsive {
  overflow-x: auto;
  min-height: 0.01%;
}
@media screen and (max-width: 767px) {
  .table-responsive {
    width: 100%;
    margin-bottom: 13.5px;
    overflow-y: hidden;
    -ms-overflow-style: -ms-autohiding-scrollbar;
    border: 1px solid #ddd;
  }
  .table-responsive > .table {
    margin-bottom: 0;
  }
  .table-responsive > .table > thead > tr > th,
  .table-responsive > .table > tbody > tr > th,
  .table-responsive > .table > tfoot > tr > th,
  .table-responsive > .table > thead > tr > td,
  .table-responsive > .table > tbody > tr > td,
  .table-responsive > .table > tfoot > tr > td {
    white-space: nowrap;
  }
  .table-responsive > .table-bordered {
    border: 0;
  }
  .table-responsive > .table-bordered > thead > tr > th:first-child,
  .table-responsive > .table-bordered > tbody > tr > th:first-child,
  .table-responsive > .table-bordered > tfoot > tr > th:first-child,
  .table-responsive > .table-bordered > thead > tr > td:first-child,
  .table-responsive > .table-bordered > tbody > tr > td:first-child,
  .table-responsive > .table-bordered > tfoot > tr > td:first-child {
    border-left: 0;
  }
  .table-responsive > .table-bordered > thead > tr > th:last-child,
  .table-responsive > .table-bordered > tbody > tr > th:last-child,
  .table-responsive > .table-bordered > tfoot > tr > th:last-child,
  .table-responsive > .table-bordered > thead > tr > td:last-child,
  .table-responsive > .table-bordered > tbody > tr > td:last-child,
  .table-responsive > .table-bordered > tfoot > tr > td:last-child {
    border-right: 0;
  }
  .table-responsive > .table-bordered > tbody > tr:last-child > th,
  .table-responsive > .table-bordered > tfoot > tr:last-child > th,
  .table-responsive > .table-bordered > tbody > tr:last-child > td,
  .table-responsive > .table-bordered > tfoot > tr:last-child > td {
    border-bottom: 0;
  }
}
fieldset {
  padding: 0;
  margin: 0;
  border: 0;
  min-width: 0;
}
legend {
  display: block;
  width: 100%;
  padding: 0;
  margin-bottom: 18px;
  font-size: 19.5px;
  line-height: inherit;
  color: #333333;
  border: 0;
  border-bottom: 1px solid #e5e5e5;
}
label {
  display: inline-block;
  max-width: 100%;
  margin-bottom: 5px;
  font-weight: bold;
}
input[type="search"] {
  -webkit-box-sizing: border-box;
  -moz-box-sizing: border-box;
  box-sizing: border-box;
}
input[type="radio"],
input[type="checkbox"] {
  margin: 4px 0 0;
  margin-top: 1px \9;
  line-height: normal;
}
input[type="file"] {
  display: block;
}
input[type="range"] {
  display: block;
  width: 100%;
}
select[multiple],
select[size] {
  height: auto;
}
input[type="file"]:focus,
input[type="radio"]:focus,
input[type="checkbox"]:focus {
  outline: 5px auto -webkit-focus-ring-color;
  outline-offset: -2px;
}
output {
  display: block;
  padding-top: 7px;
  font-size: 13px;
  line-height: 1.42857143;
  color: #555555;
}
.form-control {
  display: block;
  width: 100%;
  height: 32px;
  padding: 6px 12px;
  font-size: 13px;
  line-height: 1.42857143;
  color: #555555;
  background-color: #fff;
  background-image: none;
  border: 1px solid #ccc;
  border-radius: 2px;
  -webkit-box-shadow: inset 0 1px 1px rgba(0, 0, 0, 0.075);
  box-shadow: inset 0 1px 1px rgba(0, 0, 0, 0.075);
  -webkit-transition: border-color ease-in-out .15s, box-shadow ease-in-out .15s;
  -o-transition: border-color ease-in-out .15s, box-shadow ease-in-out .15s;
  transition: border-color ease-in-out .15s, box-shadow ease-in-out .15s;
}
.form-control:focus {
  border-color: #66afe9;
  outline: 0;
  -webkit-box-shadow: inset 0 1px 1px rgba(0,0,0,.075), 0 0 8px rgba(102, 175, 233, 0.6);
  box-shadow: inset 0 1px 1px rgba(0,0,0,.075), 0 0 8px rgba(102, 175, 233, 0.6);
}
.form-control::-moz-placeholder {
  color: #999;
  opacity: 1;
}
.form-control:-ms-input-placeholder {
  color: #999;
}
.form-control::-webkit-input-placeholder {
  color: #999;
}
.form-control::-ms-expand {
  border: 0;
  background-color: transparent;
}
.form-control[disabled],
.form-control[readonly],
fieldset[disabled] .form-control {
  background-color: #eeeeee;
  opacity: 1;
}
.form-control[disabled],
fieldset[disabled] .form-control {
  cursor: not-allowed;
}
textarea.form-control {
  height: auto;
}
input[type="search"] {
  -webkit-appearance: none;
}
@media screen and (-webkit-min-device-pixel-ratio: 0) {
  input[type="date"].form-control,
  input[type="time"].form-control,
  input[type="datetime-local"].form-control,
  input[type="month"].form-control {
    line-height: 32px;
  }
  input[type="date"].input-sm,
  input[type="time"].input-sm,
  input[type="datetime-local"].input-sm,
  input[type="month"].input-sm,
  .input-group-sm input[type="date"],
  .input-group-sm input[type="time"],
  .input-group-sm input[type="datetime-local"],
  .input-group-sm input[type="month"] {
    line-height: 30px;
  }
  input[type="date"].input-lg,
  input[type="time"].input-lg,
  input[type="datetime-local"].input-lg,
  input[type="month"].input-lg,
  .input-group-lg input[type="date"],
  .input-group-lg input[type="time"],
  .input-group-lg input[type="datetime-local"],
  .input-group-lg input[type="month"] {
    line-height: 45px;
  }
}
.form-group {
  margin-bottom: 15px;
}
.radio,
.checkbox {
  position: relative;
  display: block;
  margin-top: 10px;
  margin-bottom: 10px;
}
.radio label,
.checkbox label {
  min-height: 18px;
  padding-left: 20px;
  margin-bottom: 0;
  font-weight: normal;
  cursor: pointer;
}
.radio input[type="radio"],
.radio-inline input[type="radio"],
.checkbox input[type="checkbox"],
.checkbox-inline input[type="checkbox"] {
  position: absolute;
  margin-left: -20px;
  margin-top: 4px \9;
}
.radio + .radio,
.checkbox + .checkbox {
  margin-top: -5px;
}
.radio-inline,
.checkbox-inline {
  position: relative;
  display: inline-block;
  padding-left: 20px;
  margin-bottom: 0;
  vertical-align: middle;
  font-weight: normal;
  cursor: pointer;
}
.radio-inline + .radio-inline,
.checkbox-inline + .checkbox-inline {
  margin-top: 0;
  margin-left: 10px;
}
input[type="radio"][disabled],
input[type="checkbox"][disabled],
input[type="radio"].disabled,
input[type="checkbox"].disabled,
fieldset[disabled] input[type="radio"],
fieldset[disabled] input[type="checkbox"] {
  cursor: not-allowed;
}
.radio-inline.disabled,
.checkbox-inline.disabled,
fieldset[disabled] .radio-inline,
fieldset[disabled] .checkbox-inline {
  cursor: not-allowed;
}
.radio.disabled label,
.checkbox.disabled label,
fieldset[disabled] .radio label,
fieldset[disabled] .checkbox label {
  cursor: not-allowed;
}
.form-control-static {
  padding-top: 7px;
  padding-bottom: 7px;
  margin-bottom: 0;
  min-height: 31px;
}
.form-control-static.input-lg,
.form-control-static.input-sm {
  padding-left: 0;
  padding-right: 0;
}
.input-sm {
  height: 30px;
  padding: 5px 10px;
  font-size: 12px;
  line-height: 1.5;
  border-radius: 1px;
}
select.input-sm {
  height: 30px;
  line-height: 30px;
}
textarea.input-sm,
select[multiple].input-sm {
  height: auto;
}
.form-group-sm .form-control {
  height: 30px;
  padding: 5px 10px;
  font-size: 12px;
  line-height: 1.5;
  border-radius: 1px;
}
.form-group-sm select.form-control {
  height: 30px;
  line-height: 30px;
}
.form-group-sm textarea.form-control,
.form-group-sm select[multiple].form-control {
  height: auto;
}
.form-group-sm .form-control-static {
  height: 30px;
  min-height: 30px;
  padding: 6px 10px;
  font-size: 12px;
  line-height: 1.5;
}
.input-lg {
  height: 45px;
  padding: 10px 16px;
  font-size: 17px;
  line-height: 1.3333333;
  border-radius: 3px;
}
select.input-lg {
  height: 45px;
  line-height: 45px;
}
textarea.input-lg,
select[multiple].input-lg {
  height: auto;
}
.form-group-lg .form-control {
  height: 45px;
  padding: 10px 16px;
  font-size: 17px;
  line-height: 1.3333333;
  border-radius: 3px;
}
.form-group-lg select.form-control {
  height: 45px;
  line-height: 45px;
}
.form-group-lg textarea.form-control,
.form-group-lg select[multiple].form-control {
  height: auto;
}
.form-group-lg .form-control-static {
  height: 45px;
  min-height: 35px;
  padding: 11px 16px;
  font-size: 17px;
  line-height: 1.3333333;
}
.has-feedback {
  position: relative;
}
.has-feedback .form-control {
  padding-right: 40px;
}
.form-control-feedback {
  position: absolute;
  top: 0;
  right: 0;
  z-index: 2;
  display: block;
  width: 32px;
  height: 32px;
  line-height: 32px;
  text-align: center;
  pointer-events: none;
}
.input-lg + .form-control-feedback,
.input-group-lg + .form-control-feedback,
.form-group-lg .form-control + .form-control-feedback {
  width: 45px;
  height: 45px;
  line-height: 45px;
}
.input-sm + .form-control-feedback,
.input-group-sm + .form-control-feedback,
.form-group-sm .form-control + .form-control-feedback {
  width: 30px;
  height: 30px;
  line-height: 30px;
}
.has-success .help-block,
.has-success .control-label,
.has-success .radio,
.has-success .checkbox,
.has-success .radio-inline,
.has-success .checkbox-inline,
.has-success.radio label,
.has-success.checkbox label,
.has-success.radio-inline label,
.has-success.checkbox-inline label {
  color: #3c763d;
}
.has-success .form-control {
  border-color: #3c763d;
  -webkit-box-shadow: inset 0 1px 1px rgba(0, 0, 0, 0.075);
  box-shadow: inset 0 1px 1px rgba(0, 0, 0, 0.075);
}
.has-success .form-control:focus {
  border-color: #2b542c;
  -webkit-box-shadow: inset 0 1px 1px rgba(0, 0, 0, 0.075), 0 0 6px #67b168;
  box-shadow: inset 0 1px 1px rgba(0, 0, 0, 0.075), 0 0 6px #67b168;
}
.has-success .input-group-addon {
  color: #3c763d;
  border-color: #3c763d;
  background-color: #dff0d8;
}
.has-success .form-control-feedback {
  color: #3c763d;
}
.has-warning .help-block,
.has-warning .control-label,
.has-warning .radio,
.has-warning .checkbox,
.has-warning .radio-inline,
.has-warning .checkbox-inline,
.has-warning.radio label,
.has-warning.checkbox label,
.has-warning.radio-inline label,
.has-warning.checkbox-inline label {
  color: #8a6d3b;
}
.has-warning .form-control {
  border-color: #8a6d3b;
  -webkit-box-shadow: inset 0 1px 1px rgba(0, 0, 0, 0.075);
  box-shadow: inset 0 1px 1px rgba(0, 0, 0, 0.075);
}
.has-warning .form-control:focus {
  border-color: #66512c;
  -webkit-box-shadow: inset 0 1px 1px rgba(0, 0, 0, 0.075), 0 0 6px #c0a16b;
  box-shadow: inset 0 1px 1px rgba(0, 0, 0, 0.075), 0 0 6px #c0a16b;
}
.has-warning .input-group-addon {
  color: #8a6d3b;
  border-color: #8a6d3b;
  background-color: #fcf8e3;
}
.has-warning .form-control-feedback {
  color: #8a6d3b;
}
.has-error .help-block,
.has-error .control-label,
.has-error .radio,
.has-error .checkbox,
.has-error .radio-inline,
.has-error .checkbox-inline,
.has-error.radio label,
.has-error.checkbox label,
.has-error.radio-inline label,
.has-error.checkbox-inline label {
  color: #a94442;
}
.has-error .form-control {
  border-color: #a94442;
  -webkit-box-shadow: inset 0 1px 1px rgba(0, 0, 0, 0.075);
  box-shadow: inset 0 1px 1px rgba(0, 0, 0, 0.075);
}
.has-error .form-control:focus {
  border-color: #843534;
  -webkit-box-shadow: inset 0 1px 1px rgba(0, 0, 0, 0.075), 0 0 6px #ce8483;
  box-shadow: inset 0 1px 1px rgba(0, 0, 0, 0.075), 0 0 6px #ce8483;
}
.has-error .input-group-addon {
  color: #a94442;
  border-color: #a94442;
  background-color: #f2dede;
}
.has-error .form-control-feedback {
  color: #a94442;
}
.has-feedback label ~ .form-control-feedback {
  top: 23px;
}
.has-feedback label.sr-only ~ .form-control-feedback {
  top: 0;
}
.help-block {
  display: block;
  margin-top: 5px;
  margin-bottom: 10px;
  color: #404040;
}
@media (min-width: 768px) {
  .form-inline .form-group {
    display: inline-block;
    margin-bottom: 0;
    vertical-align: middle;
  }
  .form-inline .form-control {
    display: inline-block;
    width: auto;
    vertical-align: middle;
  }
  .form-inline .form-control-static {
    display: inline-block;
  }
  .form-inline .input-group {
    display: inline-table;
    vertical-align: middle;
  }
  .form-inline .input-group .input-group-addon,
  .form-inline .input-group .input-group-btn,
  .form-inline .input-group .form-control {
    width: auto;
  }
  .form-inline .input-group > .form-control {
    width: 100%;
  }
  .form-inline .control-label {
    margin-bottom: 0;
    vertical-align: middle;
  }
  .form-inline .radio,
  .form-inline .checkbox {
    display: inline-block;
    margin-top: 0;
    margin-bottom: 0;
    vertical-align: middle;
  }
  .form-inline .radio label,
  .form-inline .checkbox label {
    padding-left: 0;
  }
  .form-inline .radio input[type="radio"],
  .form-inline .checkbox input[type="checkbox"] {
    position: relative;
    margin-left: 0;
  }
  .form-inline .has-feedback .form-control-feedback {
    top: 0;
  }
}
.form-horizontal .radio,
.form-horizontal .checkbox,
.form-horizontal .radio-inline,
.form-horizontal .checkbox-inline {
  margin-top: 0;
  margin-bottom: 0;
  padding-top: 7px;
}
.form-horizontal .radio,
.form-horizontal .checkbox {
  min-height: 25px;
}
.form-horizontal .form-group {
  margin-left: 0px;
  margin-right: 0px;
}
@media (min-width: 768px) {
  .form-horizontal .control-label {
    text-align: right;
    margin-bottom: 0;
    padding-top: 7px;
  }
}
.form-horizontal .has-feedback .form-control-feedback {
  right: 0px;
}
@media (min-width: 768px) {
  .form-horizontal .form-group-lg .control-label {
    padding-top: 11px;
    font-size: 17px;
  }
}
@media (min-width: 768px) {
  .form-horizontal .form-group-sm .control-label {
    padding-top: 6px;
    font-size: 12px;
  }
}
.btn {
  display: inline-block;
  margin-bottom: 0;
  font-weight: normal;
  text-align: center;
  vertical-align: middle;
  touch-action: manipulation;
  cursor: pointer;
  background-image: none;
  border: 1px solid transparent;
  white-space: nowrap;
  padding: 6px 12px;
  font-size: 13px;
  line-height: 1.42857143;
  border-radius: 2px;
  -webkit-user-select: none;
  -moz-user-select: none;
  -ms-user-select: none;
  user-select: none;
}
.btn:focus,
.btn:active:focus,
.btn.active:focus,
.btn.focus,
.btn:active.focus,
.btn.active.focus {
  outline: 5px auto -webkit-focus-ring-color;
  outline-offset: -2px;
}
.btn:hover,
.btn:focus,
.btn.focus {
  color: #333;
  text-decoration: none;
}
.btn:active,
.btn.active {
  outline: 0;
  background-image: none;
  -webkit-box-shadow: inset 0 3px 5px rgba(0, 0, 0, 0.125);
  box-shadow: inset 0 3px 5px rgba(0, 0, 0, 0.125);
}
.btn.disabled,
.btn[disabled],
fieldset[disabled] .btn {
  cursor: not-allowed;
  opacity: 0.65;
  filter: alpha(opacity=65);
  -webkit-box-shadow: none;
  box-shadow: none;
}
a.btn.disabled,
fieldset[disabled] a.btn {
  pointer-events: none;
}
.btn-default {
  color: #333;
  background-color: #fff;
  border-color: #ccc;
}
.btn-default:focus,
.btn-default.focus {
  color: #333;
  background-color: #e6e6e6;
  border-color: #8c8c8c;
}
.btn-default:hover {
  color: #333;
  background-color: #e6e6e6;
  border-color: #adadad;
}
.btn-default:active,
.btn-default.active,
.open > .dropdown-toggle.btn-default {
  color: #333;
  background-color: #e6e6e6;
  border-color: #adadad;
}
.btn-default:active:hover,
.btn-default.active:hover,
.open > .dropdown-toggle.btn-default:hover,
.btn-default:active:focus,
.btn-default.active:focus,
.open > .dropdown-toggle.btn-default:focus,
.btn-default:active.focus,
.btn-default.active.focus,
.open > .dropdown-toggle.btn-default.focus {
  color: #333;
  background-color: #d4d4d4;
  border-color: #8c8c8c;
}
.btn-default:active,
.btn-default.active,
.open > .dropdown-toggle.btn-default {
  background-image: none;
}
.btn-default.disabled:hover,
.btn-default[disabled]:hover,
fieldset[disabled] .btn-default:hover,
.btn-default.disabled:focus,
.btn-default[disabled]:focus,
fieldset[disabled] .btn-default:focus,
.btn-default.disabled.focus,
.btn-default[disabled].focus,
fieldset[disabled] .btn-default.focus {
  background-color: #fff;
  border-color: #ccc;
}
.btn-default .badge {
  color: #fff;
  background-color: #333;
}
.btn-primary {
  color: #fff;
  background-color: #337ab7;
  border-color: #2e6da4;
}
.btn-primary:focus,
.btn-primary.focus {
  color: #fff;
  background-color: #286090;
  border-color: #122b40;
}
.btn-primary:hover {
  color: #fff;
  background-color: #286090;
  border-color: #204d74;
}
.btn-primary:active,
.btn-primary.active,
.open > .dropdown-toggle.btn-primary {
  color: #fff;
  background-color: #286090;
  border-color: #204d74;
}
.btn-primary:active:hover,
.btn-primary.active:hover,
.open > .dropdown-toggle.btn-primary:hover,
.btn-primary:active:focus,
.btn-primary.active:focus,
.open > .dropdown-toggle.btn-primary:focus,
.btn-primary:active.focus,
.btn-primary.active.focus,
.open > .dropdown-toggle.btn-primary.focus {
  color: #fff;
  background-color: #204d74;
  border-color: #122b40;
}
.btn-primary:active,
.btn-primary.active,
.open > .dropdown-toggle.btn-primary {
  background-image: none;
}
.btn-primary.disabled:hover,
.btn-primary[disabled]:hover,
fieldset[disabled] .btn-primary:hover,
.btn-primary.disabled:focus,
.btn-primary[disabled]:focus,
fieldset[disabled] .btn-primary:focus,
.btn-primary.disabled.focus,
.btn-primary[disabled].focus,
fieldset[disabled] .btn-primary.focus {
  background-color: #337ab7;
  border-color: #2e6da4;
}
.btn-primary .badge {
  color: #337ab7;
  background-color: #fff;
}
.btn-success {
  color: #fff;
  background-color: #5cb85c;
  border-color: #4cae4c;
}
.btn-success:focus,
.btn-success.focus {
  color: #fff;
  background-color: #449d44;
  border-color: #255625;
}
.btn-success:hover {
  color: #fff;
  background-color: #449d44;
  border-color: #398439;
}
.btn-success:active,
.btn-success.active,
.open > .dropdown-toggle.btn-success {
  color: #fff;
  background-color: #449d44;
  border-color: #398439;
}
.btn-success:active:hover,
.btn-success.active:hover,
.open > .dropdown-toggle.btn-success:hover,
.btn-success:active:focus,
.btn-success.active:focus,
.open > .dropdown-toggle.btn-success:focus,
.btn-success:active.focus,
.btn-success.active.focus,
.open > .dropdown-toggle.btn-success.focus {
  color: #fff;
  background-color: #398439;
  border-color: #255625;
}
.btn-success:active,
.btn-success.active,
.open > .dropdown-toggle.btn-success {
  background-image: none;
}
.btn-success.disabled:hover,
.btn-success[disabled]:hover,
fieldset[disabled] .btn-success:hover,
.btn-success.disabled:focus,
.btn-success[disabled]:focus,
fieldset[disabled] .btn-success:focus,
.btn-success.disabled.focus,
.btn-success[disabled].focus,
fieldset[disabled] .btn-success.focus {
  background-color: #5cb85c;
  border-color: #4cae4c;
}
.btn-success .badge {
  color: #5cb85c;
  background-color: #fff;
}
.btn-info {
  color: #fff;
  background-color: #5bc0de;
  border-color: #46b8da;
}
.btn-info:focus,
.btn-info.focus {
  color: #fff;
  background-color: #31b0d5;
  border-color: #1b6d85;
}
.btn-info:hover {
  color: #fff;
  background-color: #31b0d5;
  border-color: #269abc;
}
.btn-info:active,
.btn-info.active,
.open > .dropdown-toggle.btn-info {
  color: #fff;
  background-color: #31b0d5;
  border-color: #269abc;
}
.btn-info:active:hover,
.btn-info.active:hover,
.open > .dropdown-toggle.btn-info:hover,
.btn-info:active:focus,
.btn-info.active:focus,
.open > .dropdown-toggle.btn-info:focus,
.btn-info:active.focus,
.btn-info.active.focus,
.open > .dropdown-toggle.btn-info.focus {
  color: #fff;
  background-color: #269abc;
  border-color: #1b6d85;
}
.btn-info:active,
.btn-info.active,
.open > .dropdown-toggle.btn-info {
  background-image: none;
}
.btn-info.disabled:hover,
.btn-info[disabled]:hover,
fieldset[disabled] .btn-info:hover,
.btn-info.disabled:focus,
.btn-info[disabled]:focus,
fieldset[disabled] .btn-info:focus,
.btn-info.disabled.focus,
.btn-info[disabled].focus,
fieldset[disabled] .btn-info.focus {
  background-color: #5bc0de;
  border-color: #46b8da;
}
.btn-info .badge {
  color: #5bc0de;
  background-color: #fff;
}
.btn-warning {
  color: #fff;
  background-color: #f0ad4e;
  border-color: #eea236;
}
.btn-warning:focus,
.btn-warning.focus {
  color: #fff;
  background-color: #ec971f;
  border-color: #985f0d;
}
.btn-warning:hover {
  color: #fff;
  background-color: #ec971f;
  border-color: #d58512;
}
.btn-warning:active,
.btn-warning.active,
.open > .dropdown-toggle.btn-warning {
  color: #fff;
  background-color: #ec971f;
  border-color: #d58512;
}
.btn-warning:active:hover,
.btn-warning.active:hover,
.open > .dropdown-toggle.btn-warning:hover,
.btn-warning:active:focus,
.btn-warning.active:focus,
.open > .dropdown-toggle.btn-warning:focus,
.btn-warning:active.focus,
.btn-warning.active.focus,
.open > .dropdown-toggle.btn-warning.focus {
  color: #fff;
  background-color: #d58512;
  border-color: #985f0d;
}
.btn-warning:active,
.btn-warning.active,
.open > .dropdown-toggle.btn-warning {
  background-image: none;
}
.btn-warning.disabled:hover,
.btn-warning[disabled]:hover,
fieldset[disabled] .btn-warning:hover,
.btn-warning.disabled:focus,
.btn-warning[disabled]:focus,
fieldset[disabled] .btn-warning:focus,
.btn-warning.disabled.focus,
.btn-warning[disabled].focus,
fieldset[disabled] .btn-warning.focus {
  background-color: #f0ad4e;
  border-color: #eea236;
}
.btn-warning .badge {
  color: #f0ad4e;
  background-color: #fff;
}
.btn-danger {
  color: #fff;
  background-color: #d9534f;
  border-color: #d43f3a;
}
.btn-danger:focus,
.btn-danger.focus {
  color: #fff;
  background-color: #c9302c;
  border-color: #761c19;
}
.btn-danger:hover {
  color: #fff;
  background-color: #c9302c;
  border-color: #ac2925;
}
.btn-danger:active,
.btn-danger.active,
.open > .dropdown-toggle.btn-danger {
  color: #fff;
  background-color: #c9302c;
  border-color: #ac2925;
}
.btn-danger:active:hover,
.btn-danger.active:hover,
.open > .dropdown-toggle.btn-danger:hover,
.btn-danger:active:focus,
.btn-danger.active:focus,
.open > .dropdown-toggle.btn-danger:focus,
.btn-danger:active.focus,
.btn-danger.active.focus,
.open > .dropdown-toggle.btn-danger.focus {
  color: #fff;
  background-color: #ac2925;
  border-color: #761c19;
}
.btn-danger:active,
.btn-danger.active,
.open > .dropdown-toggle.btn-danger {
  background-image: none;
}
.btn-danger.disabled:hover,
.btn-danger[disabled]:hover,
fieldset[disabled] .btn-danger:hover,
.btn-danger.disabled:focus,
.btn-danger[disabled]:focus,
fieldset[disabled] .btn-danger:focus,
.btn-danger.disabled.focus,
.btn-danger[disabled].focus,
fieldset[disabled] .btn-danger.focus {
  background-color: #d9534f;
  border-color: #d43f3a;
}
.btn-danger .badge {
  color: #d9534f;
  background-color: #fff;
}
.btn-link {
  color: #337ab7;
  font-weight: normal;
  border-radius: 0;
}
.btn-link,
.btn-link:active,
.btn-link.active,
.btn-link[disabled],
fieldset[disabled] .btn-link {
  background-color: transparent;
  -webkit-box-shadow: none;
  box-shadow: none;
}
.btn-link,
.btn-link:hover,
.btn-link:focus,
.btn-link:active {
  border-color: transparent;
}
.btn-link:hover,
.btn-link:focus {
  color: #23527c;
  text-decoration: underline;
  background-color: transparent;
}
.btn-link[disabled]:hover,
fieldset[disabled] .btn-link:hover,
.btn-link[disabled]:focus,
fieldset[disabled] .btn-link:focus {
  color: #777777;
  text-decoration: none;
}
.btn-lg,
.btn-group-lg > .btn {
  padding: 10px 16px;
  font-size: 17px;
  line-height: 1.3333333;
  border-radius: 3px;
}
.btn-sm,
.btn-group-sm > .btn {
  padding: 5px 10px;
  font-size: 12px;
  line-height: 1.5;
  border-radius: 1px;
}
.btn-xs,
.btn-group-xs > .btn {
  padding: 1px 5px;
  font-size: 12px;
  line-height: 1.5;
  border-radius: 1px;
}
.btn-block {
  display: block;
  width: 100%;
}
.btn-block + .btn-block {
  margin-top: 5px;
}
input[type="submit"].btn-block,
input[type="reset"].btn-block,
input[type="button"].btn-block {
  width: 100%;
}
.fade {
  opacity: 0;
  -webkit-transition: opacity 0.15s linear;
  -o-transition: opacity 0.15s linear;
  transition: opacity 0.15s linear;
}
.fade.in {
  opacity: 1;
}
.collapse {
  display: none;
}
.collapse.in {
  display: block;
}
tr.collapse.in {
  display: table-row;
}
tbody.collapse.in {
  display: table-row-group;
}
.collapsing {
  position: relative;
  height: 0;
  overflow: hidden;
  -webkit-transition-property: height, visibility;
  transition-property: height, visibility;
  -webkit-transition-duration: 0.35s;
  transition-duration: 0.35s;
  -webkit-transition-timing-function: ease;
  transition-timing-function: ease;
}
.caret {
  display: inline-block;
  width: 0;
  height: 0;
  margin-left: 2px;
  vertical-align: middle;
  border-top: 4px dashed;
  border-top: 4px solid \9;
  border-right: 4px solid transparent;
  border-left: 4px solid transparent;
}
.dropup,
.dropdown {
  position: relative;
}
.dropdown-toggle:focus {
  outline: 0;
}
.dropdown-menu {
  position: absolute;
  top: 100%;
  left: 0;
  z-index: 1000;
  display: none;
  float: left;
  min-width: 160px;
  padding: 5px 0;
  margin: 2px 0 0;
  list-style: none;
  font-size: 13px;
  text-align: left;
  background-color: #fff;
  border: 1px solid #ccc;
  border: 1px solid rgba(0, 0, 0, 0.15);
  border-radius: 2px;
  -webkit-box-shadow: 0 6px 12px rgba(0, 0, 0, 0.175);
  box-shadow: 0 6px 12px rgba(0, 0, 0, 0.175);
  background-clip: padding-box;
}
.dropdown-menu.pull-right {
  right: 0;
  left: auto;
}
.dropdown-menu .divider {
  height: 1px;
  margin: 8px 0;
  overflow: hidden;
  background-color: #e5e5e5;
}
.dropdown-menu > li > a {
  display: block;
  padding: 3px 20px;
  clear: both;
  font-weight: normal;
  line-height: 1.42857143;
  color: #333333;
  white-space: nowrap;
}
.dropdown-menu > li > a:hover,
.dropdown-menu > li > a:focus {
  text-decoration: none;
  color: #262626;
  background-color: #f5f5f5;
}
.dropdown-menu > .active > a,
.dropdown-menu > .active > a:hover,
.dropdown-menu > .active > a:focus {
  color: #fff;
  text-decoration: none;
  outline: 0;
  background-color: #337ab7;
}
.dropdown-menu > .disabled > a,
.dropdown-menu > .disabled > a:hover,
.dropdown-menu > .disabled > a:focus {
  color: #777777;
}
.dropdown-menu > .disabled > a:hover,
.dropdown-menu > .disabled > a:focus {
  text-decoration: none;
  background-color: transparent;
  background-image: none;
  filter: progid:DXImageTransform.Microsoft.gradient(enabled = false);
  cursor: not-allowed;
}
.open > .dropdown-menu {
  display: block;
}
.open > a {
  outline: 0;
}
.dropdown-menu-right {
  left: auto;
  right: 0;
}
.dropdown-menu-left {
  left: 0;
  right: auto;
}
.dropdown-header {
  display: block;
  padding: 3px 20px;
  font-size: 12px;
  line-height: 1.42857143;
  color: #777777;
  white-space: nowrap;
}
.dropdown-backdrop {
  position: fixed;
  left: 0;
  right: 0;
  bottom: 0;
  top: 0;
  z-index: 990;
}
.pull-right > .dropdown-menu {
  right: 0;
  left: auto;
}
.dropup .caret,
.navbar-fixed-bottom .dropdown .caret {
  border-top: 0;
  border-bottom: 4px dashed;
  border-bottom: 4px solid \9;
  content: "";
}
.dropup .dropdown-menu,
.navbar-fixed-bottom .dropdown .dropdown-menu {
  top: auto;
  bottom: 100%;
  margin-bottom: 2px;
}
@media (min-width: 541px) {
  .navbar-right .dropdown-menu {
    left: auto;
    right: 0;
  }
  .navbar-right .dropdown-menu-left {
    left: 0;
    right: auto;
  }
}
.btn-group,
.btn-group-vertical {
  position: relative;
  display: inline-block;
  vertical-align: middle;
}
.btn-group > .btn,
.btn-group-vertical > .btn {
  position: relative;
  float: left;
}
.btn-group > .btn:hover,
.btn-group-vertical > .btn:hover,
.btn-group > .btn:focus,
.btn-group-vertical > .btn:focus,
.btn-group > .btn:active,
.btn-group-vertical > .btn:active,
.btn-group > .btn.active,
.btn-group-vertical > .btn.active {
  z-index: 2;
}
.btn-group .btn + .btn,
.btn-group .btn + .btn-group,
.btn-group .btn-group + .btn,
.btn-group .btn-group + .btn-group {
  margin-left: -1px;
}
.btn-toolbar {
  margin-left: -5px;
}
.btn-toolbar .btn,
.btn-toolbar .btn-group,
.btn-toolbar .input-group {
  float: left;
}
.btn-toolbar > .btn,
.btn-toolbar > .btn-group,
.btn-toolbar > .input-group {
  margin-left: 5px;
}
.btn-group > .btn:not(:first-child):not(:last-child):not(.dropdown-toggle) {
  border-radius: 0;
}
.btn-group > .btn:first-child {
  margin-left: 0;
}
.btn-group > .btn:first-child:not(:last-child):not(.dropdown-toggle) {
  border-bottom-right-radius: 0;
  border-top-right-radius: 0;
}
.btn-group > .btn:last-child:not(:first-child),
.btn-group > .dropdown-toggle:not(:first-child) {
  border-bottom-left-radius: 0;
  border-top-left-radius: 0;
}
.btn-group > .btn-group {
  float: left;
}
.btn-group > .btn-group:not(:first-child):not(:last-child) > .btn {
  border-radius: 0;
}
.btn-group > .btn-group:first-child:not(:last-child) > .btn:last-child,
.btn-group > .btn-group:first-child:not(:last-child) > .dropdown-toggle {
  border-bottom-right-radius: 0;
  border-top-right-radius: 0;
}
.btn-group > .btn-group:last-child:not(:first-child) > .btn:first-child {
  border-bottom-left-radius: 0;
  border-top-left-radius: 0;
}
.btn-group .dropdown-toggle:active,
.btn-group.open .dropdown-toggle {
  outline: 0;
}
.btn-group > .btn + .dropdown-toggle {
  padding-left: 8px;
  padding-right: 8px;
}
.btn-group > .btn-lg + .dropdown-toggle {
  padding-left: 12px;
  padding-right: 12px;
}
.btn-group.open .dropdown-toggle {
  -webkit-box-shadow: inset 0 3px 5px rgba(0, 0, 0, 0.125);
  box-shadow: inset 0 3px 5px rgba(0, 0, 0, 0.125);
}
.btn-group.open .dropdown-toggle.btn-link {
  -webkit-box-shadow: none;
  box-shadow: none;
}
.btn .caret {
  margin-left: 0;
}
.btn-lg .caret {
  border-width: 5px 5px 0;
  border-bottom-width: 0;
}
.dropup .btn-lg .caret {
  border-width: 0 5px 5px;
}
.btn-group-vertical > .btn,
.btn-group-vertical > .btn-group,
.btn-group-vertical > .btn-group > .btn {
  display: block;
  float: none;
  width: 100%;
  max-width: 100%;
}
.btn-group-vertical > .btn-group > .btn {
  float: none;
}
.btn-group-vertical > .btn + .btn,
.btn-group-vertical > .btn + .btn-group,
.btn-group-vertical > .btn-group + .btn,
.btn-group-vertical > .btn-group + .btn-group {
  margin-top: -1px;
  margin-left: 0;
}
.btn-group-vertical > .btn:not(:first-child):not(:last-child) {
  border-radius: 0;
}
.btn-group-vertical > .btn:first-child:not(:last-child) {
  border-top-right-radius: 2px;
  border-top-left-radius: 2px;
  border-bottom-right-radius: 0;
  border-bottom-left-radius: 0;
}
.btn-group-vertical > .btn:last-child:not(:first-child) {
  border-top-right-radius: 0;
  border-top-left-radius: 0;
  border-bottom-right-radius: 2px;
  border-bottom-left-radius: 2px;
}
.btn-group-vertical > .btn-group:not(:first-child):not(:last-child) > .btn {
  border-radius: 0;
}
.btn-group-vertical > .btn-group:first-child:not(:last-child) > .btn:last-child,
.btn-group-vertical > .btn-group:first-child:not(:last-child) > .dropdown-toggle {
  border-bottom-right-radius: 0;
  border-bottom-left-radius: 0;
}
.btn-group-vertical > .btn-group:last-child:not(:first-child) > .btn:first-child {
  border-top-right-radius: 0;
  border-top-left-radius: 0;
}
.btn-group-justified {
  display: table;
  width: 100%;
  table-layout: fixed;
  border-collapse: separate;
}
.btn-group-justified > .btn,
.btn-group-justified > .btn-group {
  float: none;
  display: table-cell;
  width: 1%;
}
.btn-group-justified > .btn-group .btn {
  width: 100%;
}
.btn-group-justified > .btn-group .dropdown-menu {
  left: auto;
}
[data-toggle="buttons"] > .btn input[type="radio"],
[data-toggle="buttons"] > .btn-group > .btn input[type="radio"],
[data-toggle="buttons"] > .btn input[type="checkbox"],
[data-toggle="buttons"] > .btn-group > .btn input[type="checkbox"] {
  position: absolute;
  clip: rect(0, 0, 0, 0);
  pointer-events: none;
}
.input-group {
  position: relative;
  display: table;
  border-collapse: separate;
}
.input-group[class*="col-"] {
  float: none;
  padding-left: 0;
  padding-right: 0;
}
.input-group .form-control {
  position: relative;
  z-index: 2;
  float: left;
  width: 100%;
  margin-bottom: 0;
}
.input-group .form-control:focus {
  z-index: 3;
}
.input-group-lg > .form-control,
.input-group-lg > .input-group-addon,
.input-group-lg > .input-group-btn > .btn {
  height: 45px;
  padding: 10px 16px;
  font-size: 17px;
  line-height: 1.3333333;
  border-radius: 3px;
}
select.input-group-lg > .form-control,
select.input-group-lg > .input-group-addon,
select.input-group-lg > .input-group-btn > .btn {
  height: 45px;
  line-height: 45px;
}
textarea.input-group-lg > .form-control,
textarea.input-group-lg > .input-group-addon,
textarea.input-group-lg > .input-group-btn > .btn,
select[multiple].input-group-lg > .form-control,
select[multiple].input-group-lg > .input-group-addon,
select[multiple].input-group-lg > .input-group-btn > .btn {
  height: auto;
}
.input-group-sm > .form-control,
.input-group-sm > .input-group-addon,
.input-group-sm > .input-group-btn > .btn {
  height: 30px;
  padding: 5px 10px;
  font-size: 12px;
  line-height: 1.5;
  border-radius: 1px;
}
select.input-group-sm > .form-control,
select.input-group-sm > .input-group-addon,
select.input-group-sm > .input-group-btn > .btn {
  height: 30px;
  line-height: 30px;
}
textarea.input-group-sm > .form-control,
textarea.input-group-sm > .input-group-addon,
textarea.input-group-sm > .input-group-btn > .btn,
select[multiple].input-group-sm > .form-control,
select[multiple].input-group-sm > .input-group-addon,
select[multiple].input-group-sm > .input-group-btn > .btn {
  height: auto;
}
.input-group-addon,
.input-group-btn,
.input-group .form-control {
  display: table-cell;
}
.input-group-addon:not(:first-child):not(:last-child),
.input-group-btn:not(:first-child):not(:last-child),
.input-group .form-control:not(:first-child):not(:last-child) {
  border-radius: 0;
}
.input-group-addon,
.input-group-btn {
  width: 1%;
  white-space: nowrap;
  vertical-align: middle;
}
.input-group-addon {
  padding: 6px 12px;
  font-size: 13px;
  font-weight: normal;
  line-height: 1;
  color: #555555;
  text-align: center;
  background-color: #eeeeee;
  border: 1px solid #ccc;
  border-radius: 2px;
}
.input-group-addon.input-sm {
  padding: 5px 10px;
  font-size: 12px;
  border-radius: 1px;
}
.input-group-addon.input-lg {
  padding: 10px 16px;
  font-size: 17px;
  border-radius: 3px;
}
.input-group-addon input[type="radio"],
.input-group-addon input[type="checkbox"] {
  margin-top: 0;
}
.input-group .form-control:first-child,
.input-group-addon:first-child,
.input-group-btn:first-child > .btn,
.input-group-btn:first-child > .btn-group > .btn,
.input-group-btn:first-child > .dropdown-toggle,
.input-group-btn:last-child > .btn:not(:last-child):not(.dropdown-toggle),
.input-group-btn:last-child > .btn-group:not(:last-child) > .btn {
  border-bottom-right-radius: 0;
  border-top-right-radius: 0;
}
.input-group-addon:first-child {
  border-right: 0;
}
.input-group .form-control:last-child,
.input-group-addon:last-child,
.input-group-btn:last-child > .btn,
.input-group-btn:last-child > .btn-group > .btn,
.input-group-btn:last-child > .dropdown-toggle,
.input-group-btn:first-child > .btn:not(:first-child),
.input-group-btn:first-child > .btn-group:not(:first-child) > .btn {
  border-bottom-left-radius: 0;
  border-top-left-radius: 0;
}
.input-group-addon:last-child {
  border-left: 0;
}
.input-group-btn {
  position: relative;
  font-size: 0;
  white-space: nowrap;
}
.input-group-btn > .btn {
  position: relative;
}
.input-group-btn > .btn + .btn {
  margin-left: -1px;
}
.input-group-btn > .btn:hover,
.input-group-btn > .btn:focus,
.input-group-btn > .btn:active {
  z-index: 2;
}
.input-group-btn:first-child > .btn,
.input-group-btn:first-child > .btn-group {
  margin-right: -1px;
}
.input-group-btn:last-child > .btn,
.input-group-btn:last-child > .btn-group {
  z-index: 2;
  margin-left: -1px;
}
.nav {
  margin-bottom: 0;
  padding-left: 0;
  list-style: none;
}
.nav > li {
  position: relative;
  display: block;
}
.nav > li > a {
  position: relative;
  display: block;
  padding: 10px 15px;
}
.nav > li > a:hover,
.nav > li > a:focus {
  text-decoration: none;
  background-color: #eeeeee;
}
.nav > li.disabled > a {
  color: #777777;
}
.nav > li.disabled > a:hover,
.nav > li.disabled > a:focus {
  color: #777777;
  text-decoration: none;
  background-color: transparent;
  cursor: not-allowed;
}
.nav .open > a,
.nav .open > a:hover,
.nav .open > a:focus {
  background-color: #eeeeee;
  border-color: #337ab7;
}
.nav .nav-divider {
  height: 1px;
  margin: 8px 0;
  overflow: hidden;
  background-color: #e5e5e5;
}
.nav > li > a > img {
  max-width: none;
}
.nav-tabs {
  border-bottom: 1px solid #ddd;
}
.nav-tabs > li {
  float: left;
  margin-bottom: -1px;
}
.nav-tabs > li > a {
  margin-right: 2px;
  line-height: 1.42857143;
  border: 1px solid transparent;
  border-radius: 2px 2px 0 0;
}
.nav-tabs > li > a:hover {
  border-color: #eeeeee #eeeeee #ddd;
}
.nav-tabs > li.active > a,
.nav-tabs > li.active > a:hover,
.nav-tabs > li.active > a:focus {
  color: #555555;
  background-color: #fff;
  border: 1px solid #ddd;
  border-bottom-color: transparent;
  cursor: default;
}
.nav-tabs.nav-justified {
  width: 100%;
  border-bottom: 0;
}
.nav-tabs.nav-justified > li {
  float: none;
}
.nav-tabs.nav-justified > li > a {
  text-align: center;
  margin-bottom: 5px;
}
.nav-tabs.nav-justified > .dropdown .dropdown-menu {
  top: auto;
  left: auto;
}
@media (min-width: 768px) {
  .nav-tabs.nav-justified > li {
    display: table-cell;
    width: 1%;
  }
  .nav-tabs.nav-justified > li > a {
    margin-bottom: 0;
  }
}
.nav-tabs.nav-justified > li > a {
  margin-right: 0;
  border-radius: 2px;
}
.nav-tabs.nav-justified > .active > a,
.nav-tabs.nav-justified > .active > a:hover,
.nav-tabs.nav-justified > .active > a:focus {
  border: 1px solid #ddd;
}
@media (min-width: 768px) {
  .nav-tabs.nav-justified > li > a {
    border-bottom: 1px solid #ddd;
    border-radius: 2px 2px 0 0;
  }
  .nav-tabs.nav-justified > .active > a,
  .nav-tabs.nav-justified > .active > a:hover,
  .nav-tabs.nav-justified > .active > a:focus {
    border-bottom-color: #fff;
  }
}
.nav-pills > li {
  float: left;
}
.nav-pills > li > a {
  border-radius: 2px;
}
.nav-pills > li + li {
  margin-left: 2px;
}
.nav-pills > li.active > a,
.nav-pills > li.active > a:hover,
.nav-pills > li.active > a:focus {
  color: #fff;
  background-color: #337ab7;
}
.nav-stacked > li {
  float: none;
}
.nav-stacked > li + li {
  margin-top: 2px;
  margin-left: 0;
}
.nav-justified {
  width: 100%;
}
.nav-justified > li {
  float: none;
}
.nav-justified > li > a {
  text-align: center;
  margin-bottom: 5px;
}
.nav-justified > .dropdown .dropdown-menu {
  top: auto;
  left: auto;
}
@media (min-width: 768px) {
  .nav-justified > li {
    display: table-cell;
    width: 1%;
  }
  .nav-justified > li > a {
    margin-bottom: 0;
  }
}
.nav-tabs-justified {
  border-bottom: 0;
}
.nav-tabs-justified > li > a {
  margin-right: 0;
  border-radius: 2px;
}
.nav-tabs-justified > .active > a,
.nav-tabs-justified > .active > a:hover,
.nav-tabs-justified > .active > a:focus {
  border: 1px solid #ddd;
}
@media (min-width: 768px) {
  .nav-tabs-justified > li > a {
    border-bottom: 1px solid #ddd;
    border-radius: 2px 2px 0 0;
  }
  .nav-tabs-justified > .active > a,
  .nav-tabs-justified > .active > a:hover,
  .nav-tabs-justified > .active > a:focus {
    border-bottom-color: #fff;
  }
}
.tab-content > .tab-pane {
  display: none;
}
.tab-content > .active {
  display: block;
}
.nav-tabs .dropdown-menu {
  margin-top: -1px;
  border-top-right-radius: 0;
  border-top-left-radius: 0;
}
.navbar {
  position: relative;
  min-height: 30px;
  margin-bottom: 18px;
  border: 1px solid transparent;
}
@media (min-width: 541px) {
  .navbar {
    border-radius: 2px;
  }
}
@media (min-width: 541px) {
  .navbar-header {
    float: left;
  }
}
.navbar-collapse {
  overflow-x: visible;
  padding-right: 0px;
  padding-left: 0px;
  border-top: 1px solid transparent;
  box-shadow: inset 0 1px 0 rgba(255, 255, 255, 0.1);
  -webkit-overflow-scrolling: touch;
}
.navbar-collapse.in {
  overflow-y: auto;
}
@media (min-width: 541px) {
  .navbar-collapse {
    width: auto;
    border-top: 0;
    box-shadow: none;
  }
  .navbar-collapse.collapse {
    display: block !important;
    height: auto !important;
    padding-bottom: 0;
    overflow: visible !important;
  }
  .navbar-collapse.in {
    overflow-y: visible;
  }
  .navbar-fixed-top .navbar-collapse,
  .navbar-static-top .navbar-collapse,
  .navbar-fixed-bottom .navbar-collapse {
    padding-left: 0;
    padding-right: 0;
  }
}
.navbar-fixed-top .navbar-collapse,
.navbar-fixed-bottom .navbar-collapse {
  max-height: 340px;
}
@media (max-device-width: 540px) and (orientation: landscape) {
  .navbar-fixed-top .navbar-collapse,
  .navbar-fixed-bottom .navbar-collapse {
    max-height: 200px;
  }
}
.container > .navbar-header,
.container-fluid > .navbar-header,
.container > .navbar-collapse,
.container-fluid > .navbar-collapse {
  margin-right: 0px;
  margin-left: 0px;
}
@media (min-width: 541px) {
  .container > .navbar-header,
  .container-fluid > .navbar-header,
  .container > .navbar-collapse,
  .container-fluid > .navbar-collapse {
    margin-right: 0;
    margin-left: 0;
  }
}
.navbar-static-top {
  z-index: 1000;
  border-width: 0 0 1px;
}
@media (min-width: 541px) {
  .navbar-static-top {
    border-radius: 0;
  }
}
.navbar-fixed-top,
.navbar-fixed-bottom {
  position: fixed;
  right: 0;
  left: 0;
  z-index: 1030;
}
@media (min-width: 541px) {
  .navbar-fixed-top,
  .navbar-fixed-bottom {
    border-radius: 0;
  }
}
.navbar-fixed-top {
  top: 0;
  border-width: 0 0 1px;
}
.navbar-fixed-bottom {
  bottom: 0;
  margin-bottom: 0;
  border-width: 1px 0 0;
}
.navbar-brand {
  float: left;
  padding: 6px 0px;
  font-size: 17px;
  line-height: 18px;
  height: 30px;
}
.navbar-brand:hover,
.navbar-brand:focus {
  text-decoration: none;
}
.navbar-brand > img {
  display: block;
}
@media (min-width: 541px) {
  .navbar > .container .navbar-brand,
  .navbar > .container-fluid .navbar-brand {
    margin-left: 0px;
  }
}
.navbar-toggle {
  position: relative;
  float: right;
  margin-right: 0px;
  padding: 9px 10px;
  margin-top: -2px;
  margin-bottom: -2px;
  background-color: transparent;
  background-image: none;
  border: 1px solid transparent;
  border-radius: 2px;
}
.navbar-toggle:focus {
  outline: 0;
}
.navbar-toggle .icon-bar {
  display: block;
  width: 22px;
  height: 2px;
  border-radius: 1px;
}
.navbar-toggle .icon-bar + .icon-bar {
  margin-top: 4px;
}
@media (min-width: 541px) {
  .navbar-toggle {
    display: none;
  }
}
.navbar-nav {
  margin: 3px 0px;
}
.navbar-nav > li > a {
  padding-top: 10px;
  padding-bottom: 10px;
  line-height: 18px;
}
@media (max-width: 540px) {
  .navbar-nav .open .dropdown-menu {
    position: static;
    float: none;
    width: auto;
    margin-top: 0;
    background-color: transparent;
    border: 0;
    box-shadow: none;
  }
  .navbar-nav .open .dropdown-menu > li > a,
  .navbar-nav .open .dropdown-menu .dropdown-header {
    padding: 5px 15px 5px 25px;
  }
  .navbar-nav .open .dropdown-menu > li > a {
    line-height: 18px;
  }
  .navbar-nav .open .dropdown-menu > li > a:hover,
  .navbar-nav .open .dropdown-menu > li > a:focus {
    background-image: none;
  }
}
@media (min-width: 541px) {
  .navbar-nav {
    float: left;
    margin: 0;
  }
  .navbar-nav > li {
    float: left;
  }
  .navbar-nav > li > a {
    padding-top: 6px;
    padding-bottom: 6px;
  }
}
.navbar-form {
  margin-left: 0px;
  margin-right: 0px;
  padding: 10px 0px;
  border-top: 1px solid transparent;
  border-bottom: 1px solid transparent;
  -webkit-box-shadow: inset 0 1px 0 rgba(255, 255, 255, 0.1), 0 1px 0 rgba(255, 255, 255, 0.1);
  box-shadow: inset 0 1px 0 rgba(255, 255, 255, 0.1), 0 1px 0 rgba(255, 255, 255, 0.1);
  margin-top: -1px;
  margin-bottom: -1px;
}
@media (min-width: 768px) {
  .navbar-form .form-group {
    display: inline-block;
    margin-bottom: 0;
    vertical-align: middle;
  }
  .navbar-form .form-control {
    display: inline-block;
    width: auto;
    vertical-align: middle;
  }
  .navbar-form .form-control-static {
    display: inline-block;
  }
  .navbar-form .input-group {
    display: inline-table;
    vertical-align: middle;
  }
  .navbar-form .input-group .input-group-addon,
  .navbar-form .input-group .input-group-btn,
  .navbar-form .input-group .form-control {
    width: auto;
  }
  .navbar-form .input-group > .form-control {
    width: 100%;
  }
  .navbar-form .control-label {
    margin-bottom: 0;
    vertical-align: middle;
  }
  .navbar-form .radio,
  .navbar-form .checkbox {
    display: inline-block;
    margin-top: 0;
    margin-bottom: 0;
    vertical-align: middle;
  }
  .navbar-form .radio label,
  .navbar-form .checkbox label {
    padding-left: 0;
  }
  .navbar-form .radio input[type="radio"],
  .navbar-form .checkbox input[type="checkbox"] {
    position: relative;
    margin-left: 0;
  }
  .navbar-form .has-feedback .form-control-feedback {
    top: 0;
  }
}
@media (max-width: 540px) {
  .navbar-form .form-group {
    margin-bottom: 5px;
  }
  .navbar-form .form-group:last-child {
    margin-bottom: 0;
  }
}
@media (min-width: 541px) {
  .navbar-form {
    width: auto;
    border: 0;
    margin-left: 0;
    margin-right: 0;
    padding-top: 0;
    padding-bottom: 0;
    -webkit-box-shadow: none;
    box-shadow: none;
  }
}
.navbar-nav > li > .dropdown-menu {
  margin-top: 0;
  border-top-right-radius: 0;
  border-top-left-radius: 0;
}
.navbar-fixed-bottom .navbar-nav > li > .dropdown-menu {
  margin-bottom: 0;
  border-top-right-radius: 2px;
  border-top-left-radius: 2px;
  border-bottom-right-radius: 0;
  border-bottom-left-radius: 0;
}
.navbar-btn {
  margin-top: -1px;
  margin-bottom: -1px;
}
.navbar-btn.btn-sm {
  margin-top: 0px;
  margin-bottom: 0px;
}
.navbar-btn.btn-xs {
  margin-top: 4px;
  margin-bottom: 4px;
}
.navbar-text {
  margin-top: 6px;
  margin-bottom: 6px;
}
@media (min-width: 541px) {
  .navbar-text {
    float: left;
    margin-left: 0px;
    margin-right: 0px;
  }
}
@media (min-width: 541px) {
  .navbar-left {
    float: left !important;
    float: left;
  }
  .navbar-right {
    float: right !important;
    float: right;
    margin-right: 0px;
  }
  .navbar-right ~ .navbar-right {
    margin-right: 0;
  }
}
.navbar-default {
  background-color: #f8f8f8;
  border-color: #e7e7e7;
}
.navbar-default .navbar-brand {
  color: #777;
}
.navbar-default .navbar-brand:hover,
.navbar-default .navbar-brand:focus {
  color: #5e5e5e;
  background-color: transparent;
}
.navbar-default .navbar-text {
  color: #777;
}
.navbar-default .navbar-nav > li > a {
  color: #777;
}
.navbar-default .navbar-nav > li > a:hover,
.navbar-default .navbar-nav > li > a:focus {
  color: #333;
  background-color: transparent;
}
.navbar-default .navbar-nav > .active > a,
.navbar-default .navbar-nav > .active > a:hover,
.navbar-default .navbar-nav > .active > a:focus {
  color: #555;
  background-color: #e7e7e7;
}
.navbar-default .navbar-nav > .disabled > a,
.navbar-default .navbar-nav > .disabled > a:hover,
.navbar-default .navbar-nav > .disabled > a:focus {
  color: #ccc;
  background-color: transparent;
}
.navbar-default .navbar-toggle {
  border-color: #ddd;
}
.navbar-default .navbar-toggle:hover,
.navbar-default .navbar-toggle:focus {
  background-color: #ddd;
}
.navbar-default .navbar-toggle .icon-bar {
  background-color: #888;
}
.navbar-default .navbar-collapse,
.navbar-default .navbar-form {
  border-color: #e7e7e7;
}
.navbar-default .navbar-nav > .open > a,
.navbar-default .navbar-nav > .open > a:hover,
.navbar-default .navbar-nav > .open > a:focus {
  background-color: #e7e7e7;
  color: #555;
}
@media (max-width: 540px) {
  .navbar-default .navbar-nav .open .dropdown-menu > li > a {
    color: #777;
  }
  .navbar-default .navbar-nav .open .dropdown-menu > li > a:hover,
  .navbar-default .navbar-nav .open .dropdown-menu > li > a:focus {
    color: #333;
    background-color: transparent;
  }
  .navbar-default .navbar-nav .open .dropdown-menu > .active > a,
  .navbar-default .navbar-nav .open .dropdown-menu > .active > a:hover,
  .navbar-default .navbar-nav .open .dropdown-menu > .active > a:focus {
    color: #555;
    background-color: #e7e7e7;
  }
  .navbar-default .navbar-nav .open .dropdown-menu > .disabled > a,
  .navbar-default .navbar-nav .open .dropdown-menu > .disabled > a:hover,
  .navbar-default .navbar-nav .open .dropdown-menu > .disabled > a:focus {
    color: #ccc;
    background-color: transparent;
  }
}
.navbar-default .navbar-link {
  color: #777;
}
.navbar-default .navbar-link:hover {
  color: #333;
}
.navbar-default .btn-link {
  color: #777;
}
.navbar-default .btn-link:hover,
.navbar-default .btn-link:focus {
  color: #333;
}
.navbar-default .btn-link[disabled]:hover,
fieldset[disabled] .navbar-default .btn-link:hover,
.navbar-default .btn-link[disabled]:focus,
fieldset[disabled] .navbar-default .btn-link:focus {
  color: #ccc;
}
.navbar-inverse {
  background-color: #222;
  border-color: #080808;
}
.navbar-inverse .navbar-brand {
  color: #9d9d9d;
}
.navbar-inverse .navbar-brand:hover,
.navbar-inverse .navbar-brand:focus {
  color: #fff;
  background-color: transparent;
}
.navbar-inverse .navbar-text {
  color: #9d9d9d;
}
.navbar-inverse .navbar-nav > li > a {
  color: #9d9d9d;
}
.navbar-inverse .navbar-nav > li > a:hover,
.navbar-inverse .navbar-nav > li > a:focus {
  color: #fff;
  background-color: transparent;
}
.navbar-inverse .navbar-nav > .active > a,
.navbar-inverse .navbar-nav > .active > a:hover,
.navbar-inverse .navbar-nav > .active > a:focus {
  color: #fff;
  background-color: #080808;
}
.navbar-inverse .navbar-nav > .disabled > a,
.navbar-inverse .navbar-nav > .disabled > a:hover,
.navbar-inverse .navbar-nav > .disabled > a:focus {
  color: #444;
  background-color: transparent;
}
.navbar-inverse .navbar-toggle {
  border-color: #333;
}
.navbar-inverse .navbar-toggle:hover,
.navbar-inverse .navbar-toggle:focus {
  background-color: #333;
}
.navbar-inverse .navbar-toggle .icon-bar {
  background-color: #fff;
}
.navbar-inverse .navbar-collapse,
.navbar-inverse .navbar-form {
  border-color: #101010;
}
.navbar-inverse .navbar-nav > .open > a,
.navbar-inverse .navbar-nav > .open > a:hover,
.navbar-inverse .navbar-nav > .open > a:focus {
  background-color: #080808;
  color: #fff;
}
@media (max-width: 540px) {
  .navbar-inverse .navbar-nav .open .dropdown-menu > .dropdown-header {
    border-color: #080808;
  }
  .navbar-inverse .navbar-nav .open .dropdown-menu .divider {
    background-color: #080808;
  }
  .navbar-inverse .navbar-nav .open .dropdown-menu > li > a {
    color: #9d9d9d;
  }
  .navbar-inverse .navbar-nav .open .dropdown-menu > li > a:hover,
  .navbar-inverse .navbar-nav .open .dropdown-menu > li > a:focus {
    color: #fff;
    background-color: transparent;
  }
  .navbar-inverse .navbar-nav .open .dropdown-menu > .active > a,
  .navbar-inverse .navbar-nav .open .dropdown-menu > .active > a:hover,
  .navbar-inverse .navbar-nav .open .dropdown-menu > .active > a:focus {
    color: #fff;
    background-color: #080808;
  }
  .navbar-inverse .navbar-nav .open .dropdown-menu > .disabled > a,
  .navbar-inverse .navbar-nav .open .dropdown-menu > .disabled > a:hover,
  .navbar-inverse .navbar-nav .open .dropdown-menu > .disabled > a:focus {
    color: #444;
    background-color: transparent;
  }
}
.navbar-inverse .navbar-link {
  color: #9d9d9d;
}
.navbar-inverse .navbar-link:hover {
  color: #fff;
}
.navbar-inverse .btn-link {
  color: #9d9d9d;
}
.navbar-inverse .btn-link:hover,
.navbar-inverse .btn-link:focus {
  color: #fff;
}
.navbar-inverse .btn-link[disabled]:hover,
fieldset[disabled] .navbar-inverse .btn-link:hover,
.navbar-inverse .btn-link[disabled]:focus,
fieldset[disabled] .navbar-inverse .btn-link:focus {
  color: #444;
}
.breadcrumb {
  padding: 8px 15px;
  margin-bottom: 18px;
  list-style: none;
  background-color: #f5f5f5;
  border-radius: 2px;
}
.breadcrumb > li {
  display: inline-block;
}
.breadcrumb > li + li:before {
  content: "/\00a0";
  padding: 0 5px;
  color: #5e5e5e;
}
.breadcrumb > .active {
  color: #777777;
}
.pagination {
  display: inline-block;
  padding-left: 0;
  margin: 18px 0;
  border-radius: 2px;
}
.pagination > li {
  display: inline;
}
.pagination > li > a,
.pagination > li > span {
  position: relative;
  float: left;
  padding: 6px 12px;
  line-height: 1.42857143;
  text-decoration: none;
  color: #337ab7;
  background-color: #fff;
  border: 1px solid #ddd;
  margin-left: -1px;
}
.pagination > li:first-child > a,
.pagination > li:first-child > span {
  margin-left: 0;
  border-bottom-left-radius: 2px;
  border-top-left-radius: 2px;
}
.pagination > li:last-child > a,
.pagination > li:last-child > span {
  border-bottom-right-radius: 2px;
  border-top-right-radius: 2px;
}
.pagination > li > a:hover,
.pagination > li > span:hover,
.pagination > li > a:focus,
.pagination > li > span:focus {
  z-index: 2;
  color: #23527c;
  background-color: #eeeeee;
  border-color: #ddd;
}
.pagination > .active > a,
.pagination > .active > span,
.pagination > .active > a:hover,
.pagination > .active > span:hover,
.pagination > .active > a:focus,
.pagination > .active > span:focus {
  z-index: 3;
  color: #fff;
  background-color: #337ab7;
  border-color: #337ab7;
  cursor: default;
}
.pagination > .disabled > span,
.pagination > .disabled > span:hover,
.pagination > .disabled > span:focus,
.pagination > .disabled > a,
.pagination > .disabled > a:hover,
.pagination > .disabled > a:focus {
  color: #777777;
  background-color: #fff;
  border-color: #ddd;
  cursor: not-allowed;
}
.pagination-lg > li > a,
.pagination-lg > li > span {
  padding: 10px 16px;
  font-size: 17px;
  line-height: 1.3333333;
}
.pagination-lg > li:first-child > a,
.pagination-lg > li:first-child > span {
  border-bottom-left-radius: 3px;
  border-top-left-radius: 3px;
}
.pagination-lg > li:last-child > a,
.pagination-lg > li:last-child > span {
  border-bottom-right-radius: 3px;
  border-top-right-radius: 3px;
}
.pagination-sm > li > a,
.pagination-sm > li > span {
  padding: 5px 10px;
  font-size: 12px;
  line-height: 1.5;
}
.pagination-sm > li:first-child > a,
.pagination-sm > li:first-child > span {
  border-bottom-left-radius: 1px;
  border-top-left-radius: 1px;
}
.pagination-sm > li:last-child > a,
.pagination-sm > li:last-child > span {
  border-bottom-right-radius: 1px;
  border-top-right-radius: 1px;
}
.pager {
  padding-left: 0;
  margin: 18px 0;
  list-style: none;
  text-align: center;
}
.pager li {
  display: inline;
}
.pager li > a,
.pager li > span {
  display: inline-block;
  padding: 5px 14px;
  background-color: #fff;
  border: 1px solid #ddd;
  border-radius: 15px;
}
.pager li > a:hover,
.pager li > a:focus {
  text-decoration: none;
  background-color: #eeeeee;
}
.pager .next > a,
.pager .next > span {
  float: right;
}
.pager .previous > a,
.pager .previous > span {
  float: left;
}
.pager .disabled > a,
.pager .disabled > a:hover,
.pager .disabled > a:focus,
.pager .disabled > span {
  color: #777777;
  background-color: #fff;
  cursor: not-allowed;
}
.label {
  display: inline;
  padding: .2em .6em .3em;
  font-size: 75%;
  font-weight: bold;
  line-height: 1;
  color: #fff;
  text-align: center;
  white-space: nowrap;
  vertical-align: baseline;
  border-radius: .25em;
}
a.label:hover,
a.label:focus {
  color: #fff;
  text-decoration: none;
  cursor: pointer;
}
.label:empty {
  display: none;
}
.btn .label {
  position: relative;
  top: -1px;
}
.label-default {
  background-color: #777777;
}
.label-default[href]:hover,
.label-default[href]:focus {
  background-color: #5e5e5e;
}
.label-primary {
  background-color: #337ab7;
}
.label-primary[href]:hover,
.label-primary[href]:focus {
  background-color: #286090;
}
.label-success {
  background-color: #5cb85c;
}
.label-success[href]:hover,
.label-success[href]:focus {
  background-color: #449d44;
}
.label-info {
  background-color: #5bc0de;
}
.label-info[href]:hover,
.label-info[href]:focus {
  background-color: #31b0d5;
}
.label-warning {
  background-color: #f0ad4e;
}
.label-warning[href]:hover,
.label-warning[href]:focus {
  background-color: #ec971f;
}
.label-danger {
  background-color: #d9534f;
}
.label-danger[href]:hover,
.label-danger[href]:focus {
  background-color: #c9302c;
}
.badge {
  display: inline-block;
  min-width: 10px;
  padding: 3px 7px;
  font-size: 12px;
  font-weight: bold;
  color: #fff;
  line-height: 1;
  vertical-align: middle;
  white-space: nowrap;
  text-align: center;
  background-color: #777777;
  border-radius: 10px;
}
.badge:empty {
  display: none;
}
.btn .badge {
  position: relative;
  top: -1px;
}
.btn-xs .badge,
.btn-group-xs > .btn .badge {
  top: 0;
  padding: 1px 5px;
}
a.badge:hover,
a.badge:focus {
  color: #fff;
  text-decoration: none;
  cursor: pointer;
}
.list-group-item.active > .badge,
.nav-pills > .active > a > .badge {
  color: #337ab7;
  background-color: #fff;
}
.list-group-item > .badge {
  float: right;
}
.list-group-item > .badge + .badge {
  margin-right: 5px;
}
.nav-pills > li > a > .badge {
  margin-left: 3px;
}
.jumbotron {
  padding-top: 30px;
  padding-bottom: 30px;
  margin-bottom: 30px;
  color: inherit;
  background-color: #eeeeee;
}
.jumbotron h1,
.jumbotron .h1 {
  color: inherit;
}
.jumbotron p {
  margin-bottom: 15px;
  font-size: 20px;
  font-weight: 200;
}
.jumbotron > hr {
  border-top-color: #d5d5d5;
}
.container .jumbotron,
.container-fluid .jumbotron {
  border-radius: 3px;
  padding-left: 0px;
  padding-right: 0px;
}
.jumbotron .container {
  max-width: 100%;
}
@media screen and (min-width: 768px) {
  .jumbotron {
    padding-top: 48px;
    padding-bottom: 48px;
  }
  .container .jumbotron,
  .container-fluid .jumbotron {
    padding-left: 60px;
    padding-right: 60px;
  }
  .jumbotron h1,
  .jumbotron .h1 {
    font-size: 59px;
  }
}
.thumbnail {
  display: block;
  padding: 4px;
  margin-bottom: 18px;
  line-height: 1.42857143;
  background-color: #fff;
  border: 1px solid #ddd;
  border-radius: 2px;
  -webkit-transition: border 0.2s ease-in-out;
  -o-transition: border 0.2s ease-in-out;
  transition: border 0.2s ease-in-out;
}
.thumbnail > img,
.thumbnail a > img {
  margin-left: auto;
  margin-right: auto;
}
a.thumbnail:hover,
a.thumbnail:focus,
a.thumbnail.active {
  border-color: #337ab7;
}
.thumbnail .caption {
  padding: 9px;
  color: #000;
}
.alert {
  padding: 15px;
  margin-bottom: 18px;
  border: 1px solid transparent;
  border-radius: 2px;
}
.alert h4 {
  margin-top: 0;
  color: inherit;
}
.alert .alert-link {
  font-weight: bold;
}
.alert > p,
.alert > ul {
  margin-bottom: 0;
}
.alert > p + p {
  margin-top: 5px;
}
.alert-dismissable,
.alert-dismissible {
  padding-right: 35px;
}
.alert-dismissable .close,
.alert-dismissible .close {
  position: relative;
  top: -2px;
  right: -21px;
  color: inherit;
}
.alert-success {
  background-color: #dff0d8;
  border-color: #d6e9c6;
  color: #3c763d;
}
.alert-success hr {
  border-top-color: #c9e2b3;
}
.alert-success .alert-link {
  color: #2b542c;
}
.alert-info {
  background-color: #d9edf7;
  border-color: #bce8f1;
  color: #31708f;
}
.alert-info hr {
  border-top-color: #a6e1ec;
}
.alert-info .alert-link {
  color: #245269;
}
.alert-warning {
  background-color: #fcf8e3;
  border-color: #faebcc;
  color: #8a6d3b;
}
.alert-warning hr {
  border-top-color: #f7e1b5;
}
.alert-warning .alert-link {
  color: #66512c;
}
.alert-danger {
  background-color: #f2dede;
  border-color: #ebccd1;
  color: #a94442;
}
.alert-danger hr {
  border-top-color: #e4b9c0;
}
.alert-danger .alert-link {
  color: #843534;
}
@-webkit-keyframes progress-bar-stripes {
  from {
    background-position: 40px 0;
  }
  to {
    background-position: 0 0;
  }
}
@keyframes progress-bar-stripes {
  from {
    background-position: 40px 0;
  }
  to {
    background-position: 0 0;
  }
}
.progress {
  overflow: hidden;
  height: 18px;
  margin-bottom: 18px;
  background-color: #f5f5f5;
  border-radius: 2px;
  -webkit-box-shadow: inset 0 1px 2px rgba(0, 0, 0, 0.1);
  box-shadow: inset 0 1px 2px rgba(0, 0, 0, 0.1);
}
.progress-bar {
  float: left;
  width: 0%;
  height: 100%;
  font-size: 12px;
  line-height: 18px;
  color: #fff;
  text-align: center;
  background-color: #337ab7;
  -webkit-box-shadow: inset 0 -1px 0 rgba(0, 0, 0, 0.15);
  box-shadow: inset 0 -1px 0 rgba(0, 0, 0, 0.15);
  -webkit-transition: width 0.6s ease;
  -o-transition: width 0.6s ease;
  transition: width 0.6s ease;
}
.progress-striped .progress-bar,
.progress-bar-striped {
  background-image: -webkit-linear-gradient(45deg, rgba(255, 255, 255, 0.15) 25%, transparent 25%, transparent 50%, rgba(255, 255, 255, 0.15) 50%, rgba(255, 255, 255, 0.15) 75%, transparent 75%, transparent);
  background-image: -o-linear-gradient(45deg, rgba(255, 255, 255, 0.15) 25%, transparent 25%, transparent 50%, rgba(255, 255, 255, 0.15) 50%, rgba(255, 255, 255, 0.15) 75%, transparent 75%, transparent);
  background-image: linear-gradient(45deg, rgba(255, 255, 255, 0.15) 25%, transparent 25%, transparent 50%, rgba(255, 255, 255, 0.15) 50%, rgba(255, 255, 255, 0.15) 75%, transparent 75%, transparent);
  background-size: 40px 40px;
}
.progress.active .progress-bar,
.progress-bar.active {
  -webkit-animation: progress-bar-stripes 2s linear infinite;
  -o-animation: progress-bar-stripes 2s linear infinite;
  animation: progress-bar-stripes 2s linear infinite;
}
.progress-bar-success {
  background-color: #5cb85c;
}
.progress-striped .progress-bar-success {
  background-image: -webkit-linear-gradient(45deg, rgba(255, 255, 255, 0.15) 25%, transparent 25%, transparent 50%, rgba(255, 255, 255, 0.15) 50%, rgba(255, 255, 255, 0.15) 75%, transparent 75%, transparent);
  background-image: -o-linear-gradient(45deg, rgba(255, 255, 255, 0.15) 25%, transparent 25%, transparent 50%, rgba(255, 255, 255, 0.15) 50%, rgba(255, 255, 255, 0.15) 75%, transparent 75%, transparent);
  background-image: linear-gradient(45deg, rgba(255, 255, 255, 0.15) 25%, transparent 25%, transparent 50%, rgba(255, 255, 255, 0.15) 50%, rgba(255, 255, 255, 0.15) 75%, transparent 75%, transparent);
}
.progress-bar-info {
  background-color: #5bc0de;
}
.progress-striped .progress-bar-info {
  background-image: -webkit-linear-gradient(45deg, rgba(255, 255, 255, 0.15) 25%, transparent 25%, transparent 50%, rgba(255, 255, 255, 0.15) 50%, rgba(255, 255, 255, 0.15) 75%, transparent 75%, transparent);
  background-image: -o-linear-gradient(45deg, rgba(255, 255, 255, 0.15) 25%, transparent 25%, transparent 50%, rgba(255, 255, 255, 0.15) 50%, rgba(255, 255, 255, 0.15) 75%, transparent 75%, transparent);
  background-image: linear-gradient(45deg, rgba(255, 255, 255, 0.15) 25%, transparent 25%, transparent 50%, rgba(255, 255, 255, 0.15) 50%, rgba(255, 255, 255, 0.15) 75%, transparent 75%, transparent);
}
.progress-bar-warning {
  background-color: #f0ad4e;
}
.progress-striped .progress-bar-warning {
  background-image: -webkit-linear-gradient(45deg, rgba(255, 255, 255, 0.15) 25%, transparent 25%, transparent 50%, rgba(255, 255, 255, 0.15) 50%, rgba(255, 255, 255, 0.15) 75%, transparent 75%, transparent);
  background-image: -o-linear-gradient(45deg, rgba(255, 255, 255, 0.15) 25%, transparent 25%, transparent 50%, rgba(255, 255, 255, 0.15) 50%, rgba(255, 255, 255, 0.15) 75%, transparent 75%, transparent);
  background-image: linear-gradient(45deg, rgba(255, 255, 255, 0.15) 25%, transparent 25%, transparent 50%, rgba(255, 255, 255, 0.15) 50%, rgba(255, 255, 255, 0.15) 75%, transparent 75%, transparent);
}
.progress-bar-danger {
  background-color: #d9534f;
}
.progress-striped .progress-bar-danger {
  background-image: -webkit-linear-gradient(45deg, rgba(255, 255, 255, 0.15) 25%, transparent 25%, transparent 50%, rgba(255, 255, 255, 0.15) 50%, rgba(255, 255, 255, 0.15) 75%, transparent 75%, transparent);
  background-image: -o-linear-gradient(45deg, rgba(255, 255, 255, 0.15) 25%, transparent 25%, transparent 50%, rgba(255, 255, 255, 0.15) 50%, rgba(255, 255, 255, 0.15) 75%, transparent 75%, transparent);
  background-image: linear-gradient(45deg, rgba(255, 255, 255, 0.15) 25%, transparent 25%, transparent 50%, rgba(255, 255, 255, 0.15) 50%, rgba(255, 255, 255, 0.15) 75%, transparent 75%, transparent);
}
.media {
  margin-top: 15px;
}
.media:first-child {
  margin-top: 0;
}
.media,
.media-body {
  zoom: 1;
  overflow: hidden;
}
.media-body {
  width: 10000px;
}
.media-object {
  display: block;
}
.media-object.img-thumbnail {
  max-width: none;
}
.media-right,
.media > .pull-right {
  padding-left: 10px;
}
.media-left,
.media > .pull-left {
  padding-right: 10px;
}
.media-left,
.media-right,
.media-body {
  display: table-cell;
  vertical-align: top;
}
.media-middle {
  vertical-align: middle;
}
.media-bottom {
  vertical-align: bottom;
}
.media-heading {
  margin-top: 0;
  margin-bottom: 5px;
}
.media-list {
  padding-left: 0;
  list-style: none;
}
.list-group {
  margin-bottom: 20px;
  padding-left: 0;
}
.list-group-item {
  position: relative;
  display: block;
  padding: 10px 15px;
  margin-bottom: -1px;
  background-color: #fff;
  border: 1px solid #ddd;
}
.list-group-item:first-child {
  border-top-right-radius: 2px;
  border-top-left-radius: 2px;
}
.list-group-item:last-child {
  margin-bottom: 0;
  border-bottom-right-radius: 2px;
  border-bottom-left-radius: 2px;
}
a.list-group-item,
button.list-group-item {
  color: #555;
}
a.list-group-item .list-group-item-heading,
button.list-group-item .list-group-item-heading {
  color: #333;
}
a.list-group-item:hover,
button.list-group-item:hover,
a.list-group-item:focus,
button.list-group-item:focus {
  text-decoration: none;
  color: #555;
  background-color: #f5f5f5;
}
button.list-group-item {
  width: 100%;
  text-align: left;
}
.list-group-item.disabled,
.list-group-item.disabled:hover,
.list-group-item.disabled:focus {
  background-color: #eeeeee;
  color: #777777;
  cursor: not-allowed;
}
.list-group-item.disabled .list-group-item-heading,
.list-group-item.disabled:hover .list-group-item-heading,
.list-group-item.disabled:focus .list-group-item-heading {
  color: inherit;
}
.list-group-item.disabled .list-group-item-text,
.list-group-item.disabled:hover .list-group-item-text,
.list-group-item.disabled:focus .list-group-item-text {
  color: #777777;
}
.list-group-item.active,
.list-group-item.active:hover,
.list-group-item.active:focus {
  z-index: 2;
  color: #fff;
  background-color: #337ab7;
  border-color: #337ab7;
}
.list-group-item.active .list-group-item-heading,
.list-group-item.active:hover .list-group-item-heading,
.list-group-item.active:focus .list-group-item-heading,
.list-group-item.active .list-group-item-heading > small,
.list-group-item.active:hover .list-group-item-heading > small,
.list-group-item.active:focus .list-group-item-heading > small,
.list-group-item.active .list-group-item-heading > .small,
.list-group-item.active:hover .list-group-item-heading > .small,
.list-group-item.active:focus .list-group-item-heading > .small {
  color: inherit;
}
.list-group-item.active .list-group-item-text,
.list-group-item.active:hover .list-group-item-text,
.list-group-item.active:focus .list-group-item-text {
  color: #c7ddef;
}
.list-group-item-success {
  color: #3c763d;
  background-color: #dff0d8;
}
a.list-group-item-success,
button.list-group-item-success {
  color: #3c763d;
}
a.list-group-item-success .list-group-item-heading,
button.list-group-item-success .list-group-item-heading {
  color: inherit;
}
a.list-group-item-success:hover,
button.list-group-item-success:hover,
a.list-group-item-success:focus,
button.list-group-item-success:focus {
  color: #3c763d;
  background-color: #d0e9c6;
}
a.list-group-item-success.active,
button.list-group-item-success.active,
a.list-group-item-success.active:hover,
button.list-group-item-success.active:hover,
a.list-group-item-success.active:focus,
button.list-group-item-success.active:focus {
  color: #fff;
  background-color: #3c763d;
  border-color: #3c763d;
}
.list-group-item-info {
  color: #31708f;
  background-color: #d9edf7;
}
a.list-group-item-info,
button.list-group-item-info {
  color: #31708f;
}
a.list-group-item-info .list-group-item-heading,
button.list-group-item-info .list-group-item-heading {
  color: inherit;
}
a.list-group-item-info:hover,
button.list-group-item-info:hover,
a.list-group-item-info:focus,
button.list-group-item-info:focus {
  color: #31708f;
  background-color: #c4e3f3;
}
a.list-group-item-info.active,
button.list-group-item-info.active,
a.list-group-item-info.active:hover,
button.list-group-item-info.active:hover,
a.list-group-item-info.active:focus,
button.list-group-item-info.active:focus {
  color: #fff;
  background-color: #31708f;
  border-color: #31708f;
}
.list-group-item-warning {
  color: #8a6d3b;
  background-color: #fcf8e3;
}
a.list-group-item-warning,
button.list-group-item-warning {
  color: #8a6d3b;
}
a.list-group-item-warning .list-group-item-heading,
button.list-group-item-warning .list-group-item-heading {
  color: inherit;
}
a.list-group-item-warning:hover,
button.list-group-item-warning:hover,
a.list-group-item-warning:focus,
button.list-group-item-warning:focus {
  color: #8a6d3b;
  background-color: #faf2cc;
}
a.list-group-item-warning.active,
button.list-group-item-warning.active,
a.list-group-item-warning.active:hover,
button.list-group-item-warning.active:hover,
a.list-group-item-warning.active:focus,
button.list-group-item-warning.active:focus {
  color: #fff;
  background-color: #8a6d3b;
  border-color: #8a6d3b;
}
.list-group-item-danger {
  color: #a94442;
  background-color: #f2dede;
}
a.list-group-item-danger,
button.list-group-item-danger {
  color: #a94442;
}
a.list-group-item-danger .list-group-item-heading,
button.list-group-item-danger .list-group-item-heading {
  color: inherit;
}
a.list-group-item-danger:hover,
button.list-group-item-danger:hover,
a.list-group-item-danger:focus,
button.list-group-item-danger:focus {
  color: #a94442;
  background-color: #ebcccc;
}
a.list-group-item-danger.active,
button.list-group-item-danger.active,
a.list-group-item-danger.active:hover,
button.list-group-item-danger.active:hover,
a.list-group-item-danger.active:focus,
button.list-group-item-danger.active:focus {
  color: #fff;
  background-color: #a94442;
  border-color: #a94442;
}
.list-group-item-heading {
  margin-top: 0;
  margin-bottom: 5px;
}
.list-group-item-text {
  margin-bottom: 0;
  line-height: 1.3;
}
.panel {
  margin-bottom: 18px;
  background-color: #fff;
  border: 1px solid transparent;
  border-radius: 2px;
  -webkit-box-shadow: 0 1px 1px rgba(0, 0, 0, 0.05);
  box-shadow: 0 1px 1px rgba(0, 0, 0, 0.05);
}
.panel-body {
  padding: 15px;
}
.panel-heading {
  padding: 10px 15px;
  border-bottom: 1px solid transparent;
  border-top-right-radius: 1px;
  border-top-left-radius: 1px;
}
.panel-heading > .dropdown .dropdown-toggle {
  color: inherit;
}
.panel-title {
  margin-top: 0;
  margin-bottom: 0;
  font-size: 15px;
  color: inherit;
}
.panel-title > a,
.panel-title > small,
.panel-title > .small,
.panel-title > small > a,
.panel-title > .small > a {
  color: inherit;
}
.panel-footer {
  padding: 10px 15px;
  background-color: #f5f5f5;
  border-top: 1px solid #ddd;
  border-bottom-right-radius: 1px;
  border-bottom-left-radius: 1px;
}
.panel > .list-group,
.panel > .panel-collapse > .list-group {
  margin-bottom: 0;
}
.panel > .list-group .list-group-item,
.panel > .panel-collapse > .list-group .list-group-item {
  border-width: 1px 0;
  border-radius: 0;
}
.panel > .list-group:first-child .list-group-item:first-child,
.panel > .panel-collapse > .list-group:first-child .list-group-item:first-child {
  border-top: 0;
  border-top-right-radius: 1px;
  border-top-left-radius: 1px;
}
.panel > .list-group:last-child .list-group-item:last-child,
.panel > .panel-collapse > .list-group:last-child .list-group-item:last-child {
  border-bottom: 0;
  border-bottom-right-radius: 1px;
  border-bottom-left-radius: 1px;
}
.panel > .panel-heading + .panel-collapse > .list-group .list-group-item:first-child {
  border-top-right-radius: 0;
  border-top-left-radius: 0;
}
.panel-heading + .list-group .list-group-item:first-child {
  border-top-width: 0;
}
.list-group + .panel-footer {
  border-top-width: 0;
}
.panel > .table,
.panel > .table-responsive > .table,
.panel > .panel-collapse > .table {
  margin-bottom: 0;
}
.panel > .table caption,
.panel > .table-responsive > .table caption,
.panel > .panel-collapse > .table caption {
  padding-left: 15px;
  padding-right: 15px;
}
.panel > .table:first-child,
.panel > .table-responsive:first-child > .table:first-child {
  border-top-right-radius: 1px;
  border-top-left-radius: 1px;
}
.panel > .table:first-child > thead:first-child > tr:first-child,
.panel > .table-responsive:first-child > .table:first-child > thead:first-child > tr:first-child,
.panel > .table:first-child > tbody:first-child > tr:first-child,
.panel > .table-responsive:first-child > .table:first-child > tbody:first-child > tr:first-child {
  border-top-left-radius: 1px;
  border-top-right-radius: 1px;
}
.panel > .table:first-child > thead:first-child > tr:first-child td:first-child,
.panel > .table-responsive:first-child > .table:first-child > thead:first-child > tr:first-child td:first-child,
.panel > .table:first-child > tbody:first-child > tr:first-child td:first-child,
.panel > .table-responsive:first-child > .table:first-child > tbody:first-child > tr:first-child td:first-child,
.panel > .table:first-child > thead:first-child > tr:first-child th:first-child,
.panel > .table-responsive:first-child > .table:first-child > thead:first-child > tr:first-child th:first-child,
.panel > .table:first-child > tbody:first-child > tr:first-child th:first-child,
.panel > .table-responsive:first-child > .table:first-child > tbody:first-child > tr:first-child th:first-child {
  border-top-left-radius: 1px;
}
.panel > .table:first-child > thead:first-child > tr:first-child td:last-child,
.panel > .table-responsive:first-child > .table:first-child > thead:first-child > tr:first-child td:last-child,
.panel > .table:first-child > tbody:first-child > tr:first-child td:last-child,
.panel > .table-responsive:first-child > .table:first-child > tbody:first-child > tr:first-child td:last-child,
.panel > .table:first-child > thead:first-child > tr:first-child th:last-child,
.panel > .table-responsive:first-child > .table:first-child > thead:first-child > tr:first-child th:last-child,
.panel > .table:first-child > tbody:first-child > tr:first-child th:last-child,
.panel > .table-responsive:first-child > .table:first-child > tbody:first-child > tr:first-child th:last-child {
  border-top-right-radius: 1px;
}
.panel > .table:last-child,
.panel > .table-responsive:last-child > .table:last-child {
  border-bottom-right-radius: 1px;
  border-bottom-left-radius: 1px;
}
.panel > .table:last-child > tbody:last-child > tr:last-child,
.panel > .table-responsive:last-child > .table:last-child > tbody:last-child > tr:last-child,
.panel > .table:last-child > tfoot:last-child > tr:last-child,
.panel > .table-responsive:last-child > .table:last-child > tfoot:last-child > tr:last-child {
  border-bottom-left-radius: 1px;
  border-bottom-right-radius: 1px;
}
.panel > .table:last-child > tbody:last-child > tr:last-child td:first-child,
.panel > .table-responsive:last-child > .table:last-child > tbody:last-child > tr:last-child td:first-child,
.panel > .table:last-child > tfoot:last-child > tr:last-child td:first-child,
.panel > .table-responsive:last-child > .table:last-child > tfoot:last-child > tr:last-child td:first-child,
.panel > .table:last-child > tbody:last-child > tr:last-child th:first-child,
.panel > .table-responsive:last-child > .table:last-child > tbody:last-child > tr:last-child th:first-child,
.panel > .table:last-child > tfoot:last-child > tr:last-child th:first-child,
.panel > .table-responsive:last-child > .table:last-child > tfoot:last-child > tr:last-child th:first-child {
  border-bottom-left-radius: 1px;
}
.panel > .table:last-child > tbody:last-child > tr:last-child td:last-child,
.panel > .table-responsive:last-child > .table:last-child > tbody:last-child > tr:last-child td:last-child,
.panel > .table:last-child > tfoot:last-child > tr:last-child td:last-child,
.panel > .table-responsive:last-child > .table:last-child > tfoot:last-child > tr:last-child td:last-child,
.panel > .table:last-child > tbody:last-child > tr:last-child th:last-child,
.panel > .table-responsive:last-child > .table:last-child > tbody:last-child > tr:last-child th:last-child,
.panel > .table:last-child > tfoot:last-child > tr:last-child th:last-child,
.panel > .table-responsive:last-child > .table:last-child > tfoot:last-child > tr:last-child th:last-child {
  border-bottom-right-radius: 1px;
}
.panel > .panel-body + .table,
.panel > .panel-body + .table-responsive,
.panel > .table + .panel-body,
.panel > .table-responsive + .panel-body {
  border-top: 1px solid #ddd;
}
.panel > .table > tbody:first-child > tr:first-child th,
.panel > .table > tbody:first-child > tr:first-child td {
  border-top: 0;
}
.panel > .table-bordered,
.panel > .table-responsive > .table-bordered {
  border: 0;
}
.panel > .table-bordered > thead > tr > th:first-child,
.panel > .table-responsive > .table-bordered > thead > tr > th:first-child,
.panel > .table-bordered > tbody > tr > th:first-child,
.panel > .table-responsive > .table-bordered > tbody > tr > th:first-child,
.panel > .table-bordered > tfoot > tr > th:first-child,
.panel > .table-responsive > .table-bordered > tfoot > tr > th:first-child,
.panel > .table-bordered > thead > tr > td:first-child,
.panel > .table-responsive > .table-bordered > thead > tr > td:first-child,
.panel > .table-bordered > tbody > tr > td:first-child,
.panel > .table-responsive > .table-bordered > tbody > tr > td:first-child,
.panel > .table-bordered > tfoot > tr > td:first-child,
.panel > .table-responsive > .table-bordered > tfoot > tr > td:first-child {
  border-left: 0;
}
.panel > .table-bordered > thead > tr > th:last-child,
.panel > .table-responsive > .table-bordered > thead > tr > th:last-child,
.panel > .table-bordered > tbody > tr > th:last-child,
.panel > .table-responsive > .table-bordered > tbody > tr > th:last-child,
.panel > .table-bordered > tfoot > tr > th:last-child,
.panel > .table-responsive > .table-bordered > tfoot > tr > th:last-child,
.panel > .table-bordered > thead > tr > td:last-child,
.panel > .table-responsive > .table-bordered > thead > tr > td:last-child,
.panel > .table-bordered > tbody > tr > td:last-child,
.panel > .table-responsive > .table-bordered > tbody > tr > td:last-child,
.panel > .table-bordered > tfoot > tr > td:last-child,
.panel > .table-responsive > .table-bordered > tfoot > tr > td:last-child {
  border-right: 0;
}
.panel > .table-bordered > thead > tr:first-child > td,
.panel > .table-responsive > .table-bordered > thead > tr:first-child > td,
.panel > .table-bordered > tbody > tr:first-child > td,
.panel > .table-responsive > .table-bordered > tbody > tr:first-child > td,
.panel > .table-bordered > thead > tr:first-child > th,
.panel > .table-responsive > .table-bordered > thead > tr:first-child > th,
.panel > .table-bordered > tbody > tr:first-child > th,
.panel > .table-responsive > .table-bordered > tbody > tr:first-child > th {
  border-bottom: 0;
}
.panel > .table-bordered > tbody > tr:last-child > td,
.panel > .table-responsive > .table-bordered > tbody > tr:last-child > td,
.panel > .table-bordered > tfoot > tr:last-child > td,
.panel > .table-responsive > .table-bordered > tfoot > tr:last-child > td,
.panel > .table-bordered > tbody > tr:last-child > th,
.panel > .table-responsive > .table-bordered > tbody > tr:last-child > th,
.panel > .table-bordered > tfoot > tr:last-child > th,
.panel > .table-responsive > .table-bordered > tfoot > tr:last-child > th {
  border-bottom: 0;
}
.panel > .table-responsive {
  border: 0;
  margin-bottom: 0;
}
.panel-group {
  margin-bottom: 18px;
}
.panel-group .panel {
  margin-bottom: 0;
  border-radius: 2px;
}
.panel-group .panel + .panel {
  margin-top: 5px;
}
.panel-group .panel-heading {
  border-bottom: 0;
}
.panel-group .panel-heading + .panel-collapse > .panel-body,
.panel-group .panel-heading + .panel-collapse > .list-group {
  border-top: 1px solid #ddd;
}
.panel-group .panel-footer {
  border-top: 0;
}
.panel-group .panel-footer + .panel-collapse .panel-body {
  border-bottom: 1px solid #ddd;
}
.panel-default {
  border-color: #ddd;
}
.panel-default > .panel-heading {
  color: #333333;
  background-color: #f5f5f5;
  border-color: #ddd;
}
.panel-default > .panel-heading + .panel-collapse > .panel-body {
  border-top-color: #ddd;
}
.panel-default > .panel-heading .badge {
  color: #f5f5f5;
  background-color: #333333;
}
.panel-default > .panel-footer + .panel-collapse > .panel-body {
  border-bottom-color: #ddd;
}
.panel-primary {
  border-color: #337ab7;
}
.panel-primary > .panel-heading {
  color: #fff;
  background-color: #337ab7;
  border-color: #337ab7;
}
.panel-primary > .panel-heading + .panel-collapse > .panel-body {
  border-top-color: #337ab7;
}
.panel-primary > .panel-heading .badge {
  color: #337ab7;
  background-color: #fff;
}
.panel-primary > .panel-footer + .panel-collapse > .panel-body {
  border-bottom-color: #337ab7;
}
.panel-success {
  border-color: #d6e9c6;
}
.panel-success > .panel-heading {
  color: #3c763d;
  background-color: #dff0d8;
  border-color: #d6e9c6;
}
.panel-success > .panel-heading + .panel-collapse > .panel-body {
  border-top-color: #d6e9c6;
}
.panel-success > .panel-heading .badge {
  color: #dff0d8;
  background-color: #3c763d;
}
.panel-success > .panel-footer + .panel-collapse > .panel-body {
  border-bottom-color: #d6e9c6;
}
.panel-info {
  border-color: #bce8f1;
}
.panel-info > .panel-heading {
  color: #31708f;
  background-color: #d9edf7;
  border-color: #bce8f1;
}
.panel-info > .panel-heading + .panel-collapse > .panel-body {
  border-top-color: #bce8f1;
}
.panel-info > .panel-heading .badge {
  color: #d9edf7;
  background-color: #31708f;
}
.panel-info > .panel-footer + .panel-collapse > .panel-body {
  border-bottom-color: #bce8f1;
}
.panel-warning {
  border-color: #faebcc;
}
.panel-warning > .panel-heading {
  color: #8a6d3b;
  background-color: #fcf8e3;
  border-color: #faebcc;
}
.panel-warning > .panel-heading + .panel-collapse > .panel-body {
  border-top-color: #faebcc;
}
.panel-warning > .panel-heading .badge {
  color: #fcf8e3;
  background-color: #8a6d3b;
}
.panel-warning > .panel-footer + .panel-collapse > .panel-body {
  border-bottom-color: #faebcc;
}
.panel-danger {
  border-color: #ebccd1;
}
.panel-danger > .panel-heading {
  color: #a94442;
  background-color: #f2dede;
  border-color: #ebccd1;
}
.panel-danger > .panel-heading + .panel-collapse > .panel-body {
  border-top-color: #ebccd1;
}
.panel-danger > .panel-heading .badge {
  color: #f2dede;
  background-color: #a94442;
}
.panel-danger > .panel-footer + .panel-collapse > .panel-body {
  border-bottom-color: #ebccd1;
}
.embed-responsive {
  position: relative;
  display: block;
  height: 0;
  padding: 0;
  overflow: hidden;
}
.embed-responsive .embed-responsive-item,
.embed-responsive iframe,
.embed-responsive embed,
.embed-responsive object,
.embed-responsive video {
  position: absolute;
  top: 0;
  left: 0;
  bottom: 0;
  height: 100%;
  width: 100%;
  border: 0;
}
.embed-responsive-16by9 {
  padding-bottom: 56.25%;
}
.embed-responsive-4by3 {
  padding-bottom: 75%;
}
.well {
  min-height: 20px;
  padding: 19px;
  margin-bottom: 20px;
  background-color: #f5f5f5;
  border: 1px solid #e3e3e3;
  border-radius: 2px;
  -webkit-box-shadow: inset 0 1px 1px rgba(0, 0, 0, 0.05);
  box-shadow: inset 0 1px 1px rgba(0, 0, 0, 0.05);
}
.well blockquote {
  border-color: #ddd;
  border-color: rgba(0, 0, 0, 0.15);
}
.well-lg {
  padding: 24px;
  border-radius: 3px;
}
.well-sm {
  padding: 9px;
  border-radius: 1px;
}
.close {
  float: right;
  font-size: 19.5px;
  font-weight: bold;
  line-height: 1;
  color: #000;
  text-shadow: 0 1px 0 #fff;
  opacity: 0.2;
  filter: alpha(opacity=20);
}
.close:hover,
.close:focus {
  color: #000;
  text-decoration: none;
  cursor: pointer;
  opacity: 0.5;
  filter: alpha(opacity=50);
}
button.close {
  padding: 0;
  cursor: pointer;
  background: transparent;
  border: 0;
  -webkit-appearance: none;
}
.modal-open {
  overflow: hidden;
}
.modal {
  display: none;
  overflow: hidden;
  position: fixed;
  top: 0;
  right: 0;
  bottom: 0;
  left: 0;
  z-index: 1050;
  -webkit-overflow-scrolling: touch;
  outline: 0;
}
.modal.fade .modal-dialog {
  -webkit-transform: translate(0, -25%);
  -ms-transform: translate(0, -25%);
  -o-transform: translate(0, -25%);
  transform: translate(0, -25%);
  -webkit-transition: -webkit-transform 0.3s ease-out;
  -moz-transition: -moz-transform 0.3s ease-out;
  -o-transition: -o-transform 0.3s ease-out;
  transition: transform 0.3s ease-out;
}
.modal.in .modal-dialog {
  -webkit-transform: translate(0, 0);
  -ms-transform: translate(0, 0);
  -o-transform: translate(0, 0);
  transform: translate(0, 0);
}
.modal-open .modal {
  overflow-x: hidden;
  overflow-y: auto;
}
.modal-dialog {
  position: relative;
  width: auto;
  margin: 10px;
}
.modal-content {
  position: relative;
  background-color: #fff;
  border: 1px solid #999;
  border: 1px solid rgba(0, 0, 0, 0.2);
  border-radius: 3px;
  -webkit-box-shadow: 0 3px 9px rgba(0, 0, 0, 0.5);
  box-shadow: 0 3px 9px rgba(0, 0, 0, 0.5);
  background-clip: padding-box;
  outline: 0;
}
.modal-backdrop {
  position: fixed;
  top: 0;
  right: 0;
  bottom: 0;
  left: 0;
  z-index: 1040;
  background-color: #000;
}
.modal-backdrop.fade {
  opacity: 0;
  filter: alpha(opacity=0);
}
.modal-backdrop.in {
  opacity: 0.5;
  filter: alpha(opacity=50);
}
.modal-header {
  padding: 15px;
  border-bottom: 1px solid #e5e5e5;
}
.modal-header .close {
  margin-top: -2px;
}
.modal-title {
  margin: 0;
  line-height: 1.42857143;
}
.modal-body {
  position: relative;
  padding: 15px;
}
.modal-footer {
  padding: 15px;
  text-align: right;
  border-top: 1px solid #e5e5e5;
}
.modal-footer .btn + .btn {
  margin-left: 5px;
  margin-bottom: 0;
}
.modal-footer .btn-group .btn + .btn {
  margin-left: -1px;
}
.modal-footer .btn-block + .btn-block {
  margin-left: 0;
}
.modal-scrollbar-measure {
  position: absolute;
  top: -9999px;
  width: 50px;
  height: 50px;
  overflow: scroll;
}
@media (min-width: 768px) {
  .modal-dialog {
    width: 600px;
    margin: 30px auto;
  }
  .modal-content {
    -webkit-box-shadow: 0 5px 15px rgba(0, 0, 0, 0.5);
    box-shadow: 0 5px 15px rgba(0, 0, 0, 0.5);
  }
  .modal-sm {
    width: 300px;
  }
}
@media (min-width: 992px) {
  .modal-lg {
    width: 900px;
  }
}
.tooltip {
  position: absolute;
  z-index: 1070;
  display: block;
  font-family: "Helvetica Neue", Helvetica, Arial, sans-serif;
  font-style: normal;
  font-weight: normal;
  letter-spacing: normal;
  line-break: auto;
  line-height: 1.42857143;
  text-align: left;
  text-align: start;
  text-decoration: none;
  text-shadow: none;
  text-transform: none;
  white-space: normal;
  word-break: normal;
  word-spacing: normal;
  word-wrap: normal;
  font-size: 12px;
  opacity: 0;
  filter: alpha(opacity=0);
}
.tooltip.in {
  opacity: 0.9;
  filter: alpha(opacity=90);
}
.tooltip.top {
  margin-top: -3px;
  padding: 5px 0;
}
.tooltip.right {
  margin-left: 3px;
  padding: 0 5px;
}
.tooltip.bottom {
  margin-top: 3px;
  padding: 5px 0;
}
.tooltip.left {
  margin-left: -3px;
  padding: 0 5px;
}
.tooltip-inner {
  max-width: 200px;
  padding: 3px 8px;
  color: #fff;
  text-align: center;
  background-color: #000;
  border-radius: 2px;
}
.tooltip-arrow {
  position: absolute;
  width: 0;
  height: 0;
  border-color: transparent;
  border-style: solid;
}
.tooltip.top .tooltip-arrow {
  bottom: 0;
  left: 50%;
  margin-left: -5px;
  border-width: 5px 5px 0;
  border-top-color: #000;
}
.tooltip.top-left .tooltip-arrow {
  bottom: 0;
  right: 5px;
  margin-bottom: -5px;
  border-width: 5px 5px 0;
  border-top-color: #000;
}
.tooltip.top-right .tooltip-arrow {
  bottom: 0;
  left: 5px;
  margin-bottom: -5px;
  border-width: 5px 5px 0;
  border-top-color: #000;
}
.tooltip.right .tooltip-arrow {
  top: 50%;
  left: 0;
  margin-top: -5px;
  border-width: 5px 5px 5px 0;
  border-right-color: #000;
}
.tooltip.left .tooltip-arrow {
  top: 50%;
  right: 0;
  margin-top: -5px;
  border-width: 5px 0 5px 5px;
  border-left-color: #000;
}
.tooltip.bottom .tooltip-arrow {
  top: 0;
  left: 50%;
  margin-left: -5px;
  border-width: 0 5px 5px;
  border-bottom-color: #000;
}
.tooltip.bottom-left .tooltip-arrow {
  top: 0;
  right: 5px;
  margin-top: -5px;
  border-width: 0 5px 5px;
  border-bottom-color: #000;
}
.tooltip.bottom-right .tooltip-arrow {
  top: 0;
  left: 5px;
  margin-top: -5px;
  border-width: 0 5px 5px;
  border-bottom-color: #000;
}
.popover {
  position: absolute;
  top: 0;
  left: 0;
  z-index: 1060;
  display: none;
  max-width: 276px;
  padding: 1px;
  font-family: "Helvetica Neue", Helvetica, Arial, sans-serif;
  font-style: normal;
  font-weight: normal;
  letter-spacing: normal;
  line-break: auto;
  line-height: 1.42857143;
  text-align: left;
  text-align: start;
  text-decoration: none;
  text-shadow: none;
  text-transform: none;
  white-space: normal;
  word-break: normal;
  word-spacing: normal;
  word-wrap: normal;
  font-size: 13px;
  background-color: #fff;
  background-clip: padding-box;
  border: 1px solid #ccc;
  border: 1px solid rgba(0, 0, 0, 0.2);
  border-radius: 3px;
  -webkit-box-shadow: 0 5px 10px rgba(0, 0, 0, 0.2);
  box-shadow: 0 5px 10px rgba(0, 0, 0, 0.2);
}
.popover.top {
  margin-top: -10px;
}
.popover.right {
  margin-left: 10px;
}
.popover.bottom {
  margin-top: 10px;
}
.popover.left {
  margin-left: -10px;
}
.popover-title {
  margin: 0;
  padding: 8px 14px;
  font-size: 13px;
  background-color: #f7f7f7;
  border-bottom: 1px solid #ebebeb;
  border-radius: 2px 2px 0 0;
}
.popover-content {
  padding: 9px 14px;
}
.popover > .arrow,
.popover > .arrow:after {
  position: absolute;
  display: block;
  width: 0;
  height: 0;
  border-color: transparent;
  border-style: solid;
}
.popover > .arrow {
  border-width: 11px;
}
.popover > .arrow:after {
  border-width: 10px;
  content: "";
}
.popover.top > .arrow {
  left: 50%;
  margin-left: -11px;
  border-bottom-width: 0;
  border-top-color: #999999;
  border-top-color: rgba(0, 0, 0, 0.25);
  bottom: -11px;
}
.popover.top > .arrow:after {
  content: " ";
  bottom: 1px;
  margin-left: -10px;
  border-bottom-width: 0;
  border-top-color: #fff;
}
.popover.right > .arrow {
  top: 50%;
  left: -11px;
  margin-top: -11px;
  border-left-width: 0;
  border-right-color: #999999;
  border-right-color: rgba(0, 0, 0, 0.25);
}
.popover.right > .arrow:after {
  content: " ";
  left: 1px;
  bottom: -10px;
  border-left-width: 0;
  border-right-color: #fff;
}
.popover.bottom > .arrow {
  left: 50%;
  margin-left: -11px;
  border-top-width: 0;
  border-bottom-color: #999999;
  border-bottom-color: rgba(0, 0, 0, 0.25);
  top: -11px;
}
.popover.bottom > .arrow:after {
  content: " ";
  top: 1px;
  margin-left: -10px;
  border-top-width: 0;
  border-bottom-color: #fff;
}
.popover.left > .arrow {
  top: 50%;
  right: -11px;
  margin-top: -11px;
  border-right-width: 0;
  border-left-color: #999999;
  border-left-color: rgba(0, 0, 0, 0.25);
}
.popover.left > .arrow:after {
  content: " ";
  right: 1px;
  border-right-width: 0;
  border-left-color: #fff;
  bottom: -10px;
}
.carousel {
  position: relative;
}
.carousel-inner {
  position: relative;
  overflow: hidden;
  width: 100%;
}
.carousel-inner > .item {
  display: none;
  position: relative;
  -webkit-transition: 0.6s ease-in-out left;
  -o-transition: 0.6s ease-in-out left;
  transition: 0.6s ease-in-out left;
}
.carousel-inner > .item > img,
.carousel-inner > .item > a > img {
  line-height: 1;
}
@media all and (transform-3d), (-webkit-transform-3d) {
  .carousel-inner > .item {
    -webkit-transition: -webkit-transform 0.6s ease-in-out;
    -moz-transition: -moz-transform 0.6s ease-in-out;
    -o-transition: -o-transform 0.6s ease-in-out;
    transition: transform 0.6s ease-in-out;
    -webkit-backface-visibility: hidden;
    -moz-backface-visibility: hidden;
    backface-visibility: hidden;
    -webkit-perspective: 1000px;
    -moz-perspective: 1000px;
    perspective: 1000px;
  }
  .carousel-inner > .item.next,
  .carousel-inner > .item.active.right {
    -webkit-transform: translate3d(100%, 0, 0);
    transform: translate3d(100%, 0, 0);
    left: 0;
  }
  .carousel-inner > .item.prev,
  .carousel-inner > .item.active.left {
    -webkit-transform: translate3d(-100%, 0, 0);
    transform: translate3d(-100%, 0, 0);
    left: 0;
  }
  .carousel-inner > .item.next.left,
  .carousel-inner > .item.prev.right,
  .carousel-inner > .item.active {
    -webkit-transform: translate3d(0, 0, 0);
    transform: translate3d(0, 0, 0);
    left: 0;
  }
}
.carousel-inner > .active,
.carousel-inner > .next,
.carousel-inner > .prev {
  display: block;
}
.carousel-inner > .active {
  left: 0;
}
.carousel-inner > .next,
.carousel-inner > .prev {
  position: absolute;
  top: 0;
  width: 100%;
}
.carousel-inner > .next {
  left: 100%;
}
.carousel-inner > .prev {
  left: -100%;
}
.carousel-inner > .next.left,
.carousel-inner > .prev.right {
  left: 0;
}
.carousel-inner > .active.left {
  left: -100%;
}
.carousel-inner > .active.right {
  left: 100%;
}
.carousel-control {
  position: absolute;
  top: 0;
  left: 0;
  bottom: 0;
  width: 15%;
  opacity: 0.5;
  filter: alpha(opacity=50);
  font-size: 20px;
  color: #fff;
  text-align: center;
  text-shadow: 0 1px 2px rgba(0, 0, 0, 0.6);
  background-color: rgba(0, 0, 0, 0);
}
.carousel-control.left {
  background-image: -webkit-linear-gradient(left, rgba(0, 0, 0, 0.5) 0%, rgba(0, 0, 0, 0.0001) 100%);
  background-image: -o-linear-gradient(left, rgba(0, 0, 0, 0.5) 0%, rgba(0, 0, 0, 0.0001) 100%);
  background-image: linear-gradient(to right, rgba(0, 0, 0, 0.5) 0%, rgba(0, 0, 0, 0.0001) 100%);
  background-repeat: repeat-x;
  filter: progid:DXImageTransform.Microsoft.gradient(startColorstr='#80000000', endColorstr='#00000000', GradientType=1);
}
.carousel-control.right {
  left: auto;
  right: 0;
  background-image: -webkit-linear-gradient(left, rgba(0, 0, 0, 0.0001) 0%, rgba(0, 0, 0, 0.5) 100%);
  background-image: -o-linear-gradient(left, rgba(0, 0, 0, 0.0001) 0%, rgba(0, 0, 0, 0.5) 100%);
  background-image: linear-gradient(to right, rgba(0, 0, 0, 0.0001) 0%, rgba(0, 0, 0, 0.5) 100%);
  background-repeat: repeat-x;
  filter: progid:DXImageTransform.Microsoft.gradient(startColorstr='#00000000', endColorstr='#80000000', GradientType=1);
}
.carousel-control:hover,
.carousel-control:focus {
  outline: 0;
  color: #fff;
  text-decoration: none;
  opacity: 0.9;
  filter: alpha(opacity=90);
}
.carousel-control .icon-prev,
.carousel-control .icon-next,
.carousel-control .glyphicon-chevron-left,
.carousel-control .glyphicon-chevron-right {
  position: absolute;
  top: 50%;
  margin-top: -10px;
  z-index: 5;
  display: inline-block;
}
.carousel-control .icon-prev,
.carousel-control .glyphicon-chevron-left {
  left: 50%;
  margin-left: -10px;
}
.carousel-control .icon-next,
.carousel-control .glyphicon-chevron-right {
  right: 50%;
  margin-right: -10px;
}
.carousel-control .icon-prev,
.carousel-control .icon-next {
  width: 20px;
  height: 20px;
  line-height: 1;
  font-family: serif;
}
.carousel-control .icon-prev:before {
  content: '\2039';
}
.carousel-control .icon-next:before {
  content: '\203a';
}
.carousel-indicators {
  position: absolute;
  bottom: 10px;
  left: 50%;
  z-index: 15;
  width: 60%;
  margin-left: -30%;
  padding-left: 0;
  list-style: none;
  text-align: center;
}
.carousel-indicators li {
  display: inline-block;
  width: 10px;
  height: 10px;
  margin: 1px;
  text-indent: -999px;
  border: 1px solid #fff;
  border-radius: 10px;
  cursor: pointer;
  background-color: #000 \9;
  background-color: rgba(0, 0, 0, 0);
}
.carousel-indicators .active {
  margin: 0;
  width: 12px;
  height: 12px;
  background-color: #fff;
}
.carousel-caption {
  position: absolute;
  left: 15%;
  right: 15%;
  bottom: 20px;
  z-index: 10;
  padding-top: 20px;
  padding-bottom: 20px;
  color: #fff;
  text-align: center;
  text-shadow: 0 1px 2px rgba(0, 0, 0, 0.6);
}
.carousel-caption .btn {
  text-shadow: none;
}
@media screen and (min-width: 768px) {
  .carousel-control .glyphicon-chevron-left,
  .carousel-control .glyphicon-chevron-right,
  .carousel-control .icon-prev,
  .carousel-control .icon-next {
    width: 30px;
    height: 30px;
    margin-top: -10px;
    font-size: 30px;
  }
  .carousel-control .glyphicon-chevron-left,
  .carousel-control .icon-prev {
    margin-left: -10px;
  }
  .carousel-control .glyphicon-chevron-right,
  .carousel-control .icon-next {
    margin-right: -10px;
  }
  .carousel-caption {
    left: 20%;
    right: 20%;
    padding-bottom: 30px;
  }
  .carousel-indicators {
    bottom: 20px;
  }
}
.clearfix:before,
.clearfix:after,
.dl-horizontal dd:before,
.dl-horizontal dd:after,
.container:before,
.container:after,
.container-fluid:before,
.container-fluid:after,
.row:before,
.row:after,
.form-horizontal .form-group:before,
.form-horizontal .form-group:after,
.btn-toolbar:before,
.btn-toolbar:after,
.btn-group-vertical > .btn-group:before,
.btn-group-vertical > .btn-group:after,
.nav:before,
.nav:after,
.navbar:before,
.navbar:after,
.navbar-header:before,
.navbar-header:after,
.navbar-collapse:before,
.navbar-collapse:after,
.pager:before,
.pager:after,
.panel-body:before,
.panel-body:after,
.modal-header:before,
.modal-header:after,
.modal-footer:before,
.modal-footer:after,
.item_buttons:before,
.item_buttons:after {
  content: " ";
  display: table;
}
.clearfix:after,
.dl-horizontal dd:after,
.container:after,
.container-fluid:after,
.row:after,
.form-horizontal .form-group:after,
.btn-toolbar:after,
.btn-group-vertical > .btn-group:after,
.nav:after,
.navbar:after,
.navbar-header:after,
.navbar-collapse:after,
.pager:after,
.panel-body:after,
.modal-header:after,
.modal-footer:after,
.item_buttons:after {
  clear: both;
}
.center-block {
  display: block;
  margin-left: auto;
  margin-right: auto;
}
.pull-right {
  float: right !important;
}
.pull-left {
  float: left !important;
}
.hide {
  display: none !important;
}
.show {
  display: block !important;
}
.invisible {
  visibility: hidden;
}
.text-hide {
  font: 0/0 a;
  color: transparent;
  text-shadow: none;
  background-color: transparent;
  border: 0;
}
.hidden {
  display: none !important;
}
.affix {
  position: fixed;
}
@-ms-viewport {
  width: device-width;
}
.visible-xs,
.visible-sm,
.visible-md,
.visible-lg {
  display: none !important;
}
.visible-xs-block,
.visible-xs-inline,
.visible-xs-inline-block,
.visible-sm-block,
.visible-sm-inline,
.visible-sm-inline-block,
.visible-md-block,
.visible-md-inline,
.visible-md-inline-block,
.visible-lg-block,
.visible-lg-inline,
.visible-lg-inline-block {
  display: none !important;
}
@media (max-width: 767px) {
  .visible-xs {
    display: block !important;
  }
  table.visible-xs {
    display: table !important;
  }
  tr.visible-xs {
    display: table-row !important;
  }
  th.visible-xs,
  td.visible-xs {
    display: table-cell !important;
  }
}
@media (max-width: 767px) {
  .visible-xs-block {
    display: block !important;
  }
}
@media (max-width: 767px) {
  .visible-xs-inline {
    display: inline !important;
  }
}
@media (max-width: 767px) {
  .visible-xs-inline-block {
    display: inline-block !important;
  }
}
@media (min-width: 768px) and (max-width: 991px) {
  .visible-sm {
    display: block !important;
  }
  table.visible-sm {
    display: table !important;
  }
  tr.visible-sm {
    display: table-row !important;
  }
  th.visible-sm,
  td.visible-sm {
    display: table-cell !important;
  }
}
@media (min-width: 768px) and (max-width: 991px) {
  .visible-sm-block {
    display: block !important;
  }
}
@media (min-width: 768px) and (max-width: 991px) {
  .visible-sm-inline {
    display: inline !important;
  }
}
@media (min-width: 768px) and (max-width: 991px) {
  .visible-sm-inline-block {
    display: inline-block !important;
  }
}
@media (min-width: 992px) and (max-width: 1199px) {
  .visible-md {
    display: block !important;
  }
  table.visible-md {
    display: table !important;
  }
  tr.visible-md {
    display: table-row !important;
  }
  th.visible-md,
  td.visible-md {
    display: table-cell !important;
  }
}
@media (min-width: 992px) and (max-width: 1199px) {
  .visible-md-block {
    display: block !important;
  }
}
@media (min-width: 992px) and (max-width: 1199px) {
  .visible-md-inline {
    display: inline !important;
  }
}
@media (min-width: 992px) and (max-width: 1199px) {
  .visible-md-inline-block {
    display: inline-block !important;
  }
}
@media (min-width: 1200px) {
  .visible-lg {
    display: block !important;
  }
  table.visible-lg {
    display: table !important;
  }
  tr.visible-lg {
    display: table-row !important;
  }
  th.visible-lg,
  td.visible-lg {
    display: table-cell !important;
  }
}
@media (min-width: 1200px) {
  .visible-lg-block {
    display: block !important;
  }
}
@media (min-width: 1200px) {
  .visible-lg-inline {
    display: inline !important;
  }
}
@media (min-width: 1200px) {
  .visible-lg-inline-block {
    display: inline-block !important;
  }
}
@media (max-width: 767px) {
  .hidden-xs {
    display: none !important;
  }
}
@media (min-width: 768px) and (max-width: 991px) {
  .hidden-sm {
    display: none !important;
  }
}
@media (min-width: 992px) and (max-width: 1199px) {
  .hidden-md {
    display: none !important;
  }
}
@media (min-width: 1200px) {
  .hidden-lg {
    display: none !important;
  }
}
.visible-print {
  display: none !important;
}
@media print {
  .visible-print {
    display: block !important;
  }
  table.visible-print {
    display: table !important;
  }
  tr.visible-print {
    display: table-row !important;
  }
  th.visible-print,
  td.visible-print {
    display: table-cell !important;
  }
}
.visible-print-block {
  display: none !important;
}
@media print {
  .visible-print-block {
    display: block !important;
  }
}
.visible-print-inline {
  display: none !important;
}
@media print {
  .visible-print-inline {
    display: inline !important;
  }
}
.visible-print-inline-block {
  display: none !important;
}
@media print {
  .visible-print-inline-block {
    display: inline-block !important;
  }
}
@media print {
  .hidden-print {
    display: none !important;
  }
}
/*!
*
* Font Awesome
*
*/
/*!
 *  Font Awesome 4.2.0 by @davegandy - http://fontawesome.io - @fontawesome
 *  License - http://fontawesome.io/license (Font: SIL OFL 1.1, CSS: MIT License)
 */
/* FONT PATH
 * -------------------------- */
@font-face {
  font-family: 'FontAwesome';
  src: url('../components/font-awesome/fonts/fontawesome-webfont.eot?v=4.2.0');
  src: url('../components/font-awesome/fonts/fontawesome-webfont.eot?#iefix&v=4.2.0') format('embedded-opentype'), url('../components/font-awesome/fonts/fontawesome-webfont.woff?v=4.2.0') format('woff'), url('../components/font-awesome/fonts/fontawesome-webfont.ttf?v=4.2.0') format('truetype'), url('../components/font-awesome/fonts/fontawesome-webfont.svg?v=4.2.0#fontawesomeregular') format('svg');
  font-weight: normal;
  font-style: normal;
}
.fa {
  display: inline-block;
  font: normal normal normal 14px/1 FontAwesome;
  font-size: inherit;
  text-rendering: auto;
  -webkit-font-smoothing: antialiased;
  -moz-osx-font-smoothing: grayscale;
}
/* makes the font 33% larger relative to the icon container */
.fa-lg {
  font-size: 1.33333333em;
  line-height: 0.75em;
  vertical-align: -15%;
}
.fa-2x {
  font-size: 2em;
}
.fa-3x {
  font-size: 3em;
}
.fa-4x {
  font-size: 4em;
}
.fa-5x {
  font-size: 5em;
}
.fa-fw {
  width: 1.28571429em;
  text-align: center;
}
.fa-ul {
  padding-left: 0;
  margin-left: 2.14285714em;
  list-style-type: none;
}
.fa-ul > li {
  position: relative;
}
.fa-li {
  position: absolute;
  left: -2.14285714em;
  width: 2.14285714em;
  top: 0.14285714em;
  text-align: center;
}
.fa-li.fa-lg {
  left: -1.85714286em;
}
.fa-border {
  padding: .2em .25em .15em;
  border: solid 0.08em #eee;
  border-radius: .1em;
}
.pull-right {
  float: right;
}
.pull-left {
  float: left;
}
.fa.pull-left {
  margin-right: .3em;
}
.fa.pull-right {
  margin-left: .3em;
}
.fa-spin {
  -webkit-animation: fa-spin 2s infinite linear;
  animation: fa-spin 2s infinite linear;
}
@-webkit-keyframes fa-spin {
  0% {
    -webkit-transform: rotate(0deg);
    transform: rotate(0deg);
  }
  100% {
    -webkit-transform: rotate(359deg);
    transform: rotate(359deg);
  }
}
@keyframes fa-spin {
  0% {
    -webkit-transform: rotate(0deg);
    transform: rotate(0deg);
  }
  100% {
    -webkit-transform: rotate(359deg);
    transform: rotate(359deg);
  }
}
.fa-rotate-90 {
  filter: progid:DXImageTransform.Microsoft.BasicImage(rotation=1);
  -webkit-transform: rotate(90deg);
  -ms-transform: rotate(90deg);
  transform: rotate(90deg);
}
.fa-rotate-180 {
  filter: progid:DXImageTransform.Microsoft.BasicImage(rotation=2);
  -webkit-transform: rotate(180deg);
  -ms-transform: rotate(180deg);
  transform: rotate(180deg);
}
.fa-rotate-270 {
  filter: progid:DXImageTransform.Microsoft.BasicImage(rotation=3);
  -webkit-transform: rotate(270deg);
  -ms-transform: rotate(270deg);
  transform: rotate(270deg);
}
.fa-flip-horizontal {
  filter: progid:DXImageTransform.Microsoft.BasicImage(rotation=0, mirror=1);
  -webkit-transform: scale(-1, 1);
  -ms-transform: scale(-1, 1);
  transform: scale(-1, 1);
}
.fa-flip-vertical {
  filter: progid:DXImageTransform.Microsoft.BasicImage(rotation=2, mirror=1);
  -webkit-transform: scale(1, -1);
  -ms-transform: scale(1, -1);
  transform: scale(1, -1);
}
:root .fa-rotate-90,
:root .fa-rotate-180,
:root .fa-rotate-270,
:root .fa-flip-horizontal,
:root .fa-flip-vertical {
  filter: none;
}
.fa-stack {
  position: relative;
  display: inline-block;
  width: 2em;
  height: 2em;
  line-height: 2em;
  vertical-align: middle;
}
.fa-stack-1x,
.fa-stack-2x {
  position: absolute;
  left: 0;
  width: 100%;
  text-align: center;
}
.fa-stack-1x {
  line-height: inherit;
}
.fa-stack-2x {
  font-size: 2em;
}
.fa-inverse {
  color: #fff;
}
/* Font Awesome uses the Unicode Private Use Area (PUA) to ensure screen
   readers do not read off random characters that represent icons */
.fa-glass:before {
  content: "\f000";
}
.fa-music:before {
  content: "\f001";
}
.fa-search:before {
  content: "\f002";
}
.fa-envelope-o:before {
  content: "\f003";
}
.fa-heart:before {
  content: "\f004";
}
.fa-star:before {
  content: "\f005";
}
.fa-star-o:before {
  content: "\f006";
}
.fa-user:before {
  content: "\f007";
}
.fa-film:before {
  content: "\f008";
}
.fa-th-large:before {
  content: "\f009";
}
.fa-th:before {
  content: "\f00a";
}
.fa-th-list:before {
  content: "\f00b";
}
.fa-check:before {
  content: "\f00c";
}
.fa-remove:before,
.fa-close:before,
.fa-times:before {
  content: "\f00d";
}
.fa-search-plus:before {
  content: "\f00e";
}
.fa-search-minus:before {
  content: "\f010";
}
.fa-power-off:before {
  content: "\f011";
}
.fa-signal:before {
  content: "\f012";
}
.fa-gear:before,
.fa-cog:before {
  content: "\f013";
}
.fa-trash-o:before {
  content: "\f014";
}
.fa-home:before {
  content: "\f015";
}
.fa-file-o:before {
  content: "\f016";
}
.fa-clock-o:before {
  content: "\f017";
}
.fa-road:before {
  content: "\f018";
}
.fa-download:before {
  content: "\f019";
}
.fa-arrow-circle-o-down:before {
  content: "\f01a";
}
.fa-arrow-circle-o-up:before {
  content: "\f01b";
}
.fa-inbox:before {
  content: "\f01c";
}
.fa-play-circle-o:before {
  content: "\f01d";
}
.fa-rotate-right:before,
.fa-repeat:before {
  content: "\f01e";
}
.fa-refresh:before {
  content: "\f021";
}
.fa-list-alt:before {
  content: "\f022";
}
.fa-lock:before {
  content: "\f023";
}
.fa-flag:before {
  content: "\f024";
}
.fa-headphones:before {
  content: "\f025";
}
.fa-volume-off:before {
  content: "\f026";
}
.fa-volume-down:before {
  content: "\f027";
}
.fa-volume-up:before {
  content: "\f028";
}
.fa-qrcode:before {
  content: "\f029";
}
.fa-barcode:before {
  content: "\f02a";
}
.fa-tag:before {
  content: "\f02b";
}
.fa-tags:before {
  content: "\f02c";
}
.fa-book:before {
  content: "\f02d";
}
.fa-bookmark:before {
  content: "\f02e";
}
.fa-print:before {
  content: "\f02f";
}
.fa-camera:before {
  content: "\f030";
}
.fa-font:before {
  content: "\f031";
}
.fa-bold:before {
  content: "\f032";
}
.fa-italic:before {
  content: "\f033";
}
.fa-text-height:before {
  content: "\f034";
}
.fa-text-width:before {
  content: "\f035";
}
.fa-align-left:before {
  content: "\f036";
}
.fa-align-center:before {
  content: "\f037";
}
.fa-align-right:before {
  content: "\f038";
}
.fa-align-justify:before {
  content: "\f039";
}
.fa-list:before {
  content: "\f03a";
}
.fa-dedent:before,
.fa-outdent:before {
  content: "\f03b";
}
.fa-indent:before {
  content: "\f03c";
}
.fa-video-camera:before {
  content: "\f03d";
}
.fa-photo:before,
.fa-image:before,
.fa-picture-o:before {
  content: "\f03e";
}
.fa-pencil:before {
  content: "\f040";
}
.fa-map-marker:before {
  content: "\f041";
}
.fa-adjust:before {
  content: "\f042";
}
.fa-tint:before {
  content: "\f043";
}
.fa-edit:before,
.fa-pencil-square-o:before {
  content: "\f044";
}
.fa-share-square-o:before {
  content: "\f045";
}
.fa-check-square-o:before {
  content: "\f046";
}
.fa-arrows:before {
  content: "\f047";
}
.fa-step-backward:before {
  content: "\f048";
}
.fa-fast-backward:before {
  content: "\f049";
}
.fa-backward:before {
  content: "\f04a";
}
.fa-play:before {
  content: "\f04b";
}
.fa-pause:before {
  content: "\f04c";
}
.fa-stop:before {
  content: "\f04d";
}
.fa-forward:before {
  content: "\f04e";
}
.fa-fast-forward:before {
  content: "\f050";
}
.fa-step-forward:before {
  content: "\f051";
}
.fa-eject:before {
  content: "\f052";
}
.fa-chevron-left:before {
  content: "\f053";
}
.fa-chevron-right:before {
  content: "\f054";
}
.fa-plus-circle:before {
  content: "\f055";
}
.fa-minus-circle:before {
  content: "\f056";
}
.fa-times-circle:before {
  content: "\f057";
}
.fa-check-circle:before {
  content: "\f058";
}
.fa-question-circle:before {
  content: "\f059";
}
.fa-info-circle:before {
  content: "\f05a";
}
.fa-crosshairs:before {
  content: "\f05b";
}
.fa-times-circle-o:before {
  content: "\f05c";
}
.fa-check-circle-o:before {
  content: "\f05d";
}
.fa-ban:before {
  content: "\f05e";
}
.fa-arrow-left:before {
  content: "\f060";
}
.fa-arrow-right:before {
  content: "\f061";
}
.fa-arrow-up:before {
  content: "\f062";
}
.fa-arrow-down:before {
  content: "\f063";
}
.fa-mail-forward:before,
.fa-share:before {
  content: "\f064";
}
.fa-expand:before {
  content: "\f065";
}
.fa-compress:before {
  content: "\f066";
}
.fa-plus:before {
  content: "\f067";
}
.fa-minus:before {
  content: "\f068";
}
.fa-asterisk:before {
  content: "\f069";
}
.fa-exclamation-circle:before {
  content: "\f06a";
}
.fa-gift:before {
  content: "\f06b";
}
.fa-leaf:before {
  content: "\f06c";
}
.fa-fire:before {
  content: "\f06d";
}
.fa-eye:before {
  content: "\f06e";
}
.fa-eye-slash:before {
  content: "\f070";
}
.fa-warning:before,
.fa-exclamation-triangle:before {
  content: "\f071";
}
.fa-plane:before {
  content: "\f072";
}
.fa-calendar:before {
  content: "\f073";
}
.fa-random:before {
  content: "\f074";
}
.fa-comment:before {
  content: "\f075";
}
.fa-magnet:before {
  content: "\f076";
}
.fa-chevron-up:before {
  content: "\f077";
}
.fa-chevron-down:before {
  content: "\f078";
}
.fa-retweet:before {
  content: "\f079";
}
.fa-shopping-cart:before {
  content: "\f07a";
}
.fa-folder:before {
  content: "\f07b";
}
.fa-folder-open:before {
  content: "\f07c";
}
.fa-arrows-v:before {
  content: "\f07d";
}
.fa-arrows-h:before {
  content: "\f07e";
}
.fa-bar-chart-o:before,
.fa-bar-chart:before {
  content: "\f080";
}
.fa-twitter-square:before {
  content: "\f081";
}
.fa-facebook-square:before {
  content: "\f082";
}
.fa-camera-retro:before {
  content: "\f083";
}
.fa-key:before {
  content: "\f084";
}
.fa-gears:before,
.fa-cogs:before {
  content: "\f085";
}
.fa-comments:before {
  content: "\f086";
}
.fa-thumbs-o-up:before {
  content: "\f087";
}
.fa-thumbs-o-down:before {
  content: "\f088";
}
.fa-star-half:before {
  content: "\f089";
}
.fa-heart-o:before {
  content: "\f08a";
}
.fa-sign-out:before {
  content: "\f08b";
}
.fa-linkedin-square:before {
  content: "\f08c";
}
.fa-thumb-tack:before {
  content: "\f08d";
}
.fa-external-link:before {
  content: "\f08e";
}
.fa-sign-in:before {
  content: "\f090";
}
.fa-trophy:before {
  content: "\f091";
}
.fa-github-square:before {
  content: "\f092";
}
.fa-upload:before {
  content: "\f093";
}
.fa-lemon-o:before {
  content: "\f094";
}
.fa-phone:before {
  content: "\f095";
}
.fa-square-o:before {
  content: "\f096";
}
.fa-bookmark-o:before {
  content: "\f097";
}
.fa-phone-square:before {
  content: "\f098";
}
.fa-twitter:before {
  content: "\f099";
}
.fa-facebook:before {
  content: "\f09a";
}
.fa-github:before {
  content: "\f09b";
}
.fa-unlock:before {
  content: "\f09c";
}
.fa-credit-card:before {
  content: "\f09d";
}
.fa-rss:before {
  content: "\f09e";
}
.fa-hdd-o:before {
  content: "\f0a0";
}
.fa-bullhorn:before {
  content: "\f0a1";
}
.fa-bell:before {
  content: "\f0f3";
}
.fa-certificate:before {
  content: "\f0a3";
}
.fa-hand-o-right:before {
  content: "\f0a4";
}
.fa-hand-o-left:before {
  content: "\f0a5";
}
.fa-hand-o-up:before {
  content: "\f0a6";
}
.fa-hand-o-down:before {
  content: "\f0a7";
}
.fa-arrow-circle-left:before {
  content: "\f0a8";
}
.fa-arrow-circle-right:before {
  content: "\f0a9";
}
.fa-arrow-circle-up:before {
  content: "\f0aa";
}
.fa-arrow-circle-down:before {
  content: "\f0ab";
}
.fa-globe:before {
  content: "\f0ac";
}
.fa-wrench:before {
  content: "\f0ad";
}
.fa-tasks:before {
  content: "\f0ae";
}
.fa-filter:before {
  content: "\f0b0";
}
.fa-briefcase:before {
  content: "\f0b1";
}
.fa-arrows-alt:before {
  content: "\f0b2";
}
.fa-group:before,
.fa-users:before {
  content: "\f0c0";
}
.fa-chain:before,
.fa-link:before {
  content: "\f0c1";
}
.fa-cloud:before {
  content: "\f0c2";
}
.fa-flask:before {
  content: "\f0c3";
}
.fa-cut:before,
.fa-scissors:before {
  content: "\f0c4";
}
.fa-copy:before,
.fa-files-o:before {
  content: "\f0c5";
}
.fa-paperclip:before {
  content: "\f0c6";
}
.fa-save:before,
.fa-floppy-o:before {
  content: "\f0c7";
}
.fa-square:before {
  content: "\f0c8";
}
.fa-navicon:before,
.fa-reorder:before,
.fa-bars:before {
  content: "\f0c9";
}
.fa-list-ul:before {
  content: "\f0ca";
}
.fa-list-ol:before {
  content: "\f0cb";
}
.fa-strikethrough:before {
  content: "\f0cc";
}
.fa-underline:before {
  content: "\f0cd";
}
.fa-table:before {
  content: "\f0ce";
}
.fa-magic:before {
  content: "\f0d0";
}
.fa-truck:before {
  content: "\f0d1";
}
.fa-pinterest:before {
  content: "\f0d2";
}
.fa-pinterest-square:before {
  content: "\f0d3";
}
.fa-google-plus-square:before {
  content: "\f0d4";
}
.fa-google-plus:before {
  content: "\f0d5";
}
.fa-money:before {
  content: "\f0d6";
}
.fa-caret-down:before {
  content: "\f0d7";
}
.fa-caret-up:before {
  content: "\f0d8";
}
.fa-caret-left:before {
  content: "\f0d9";
}
.fa-caret-right:before {
  content: "\f0da";
}
.fa-columns:before {
  content: "\f0db";
}
.fa-unsorted:before,
.fa-sort:before {
  content: "\f0dc";
}
.fa-sort-down:before,
.fa-sort-desc:before {
  content: "\f0dd";
}
.fa-sort-up:before,
.fa-sort-asc:before {
  content: "\f0de";
}
.fa-envelope:before {
  content: "\f0e0";
}
.fa-linkedin:before {
  content: "\f0e1";
}
.fa-rotate-left:before,
.fa-undo:before {
  content: "\f0e2";
}
.fa-legal:before,
.fa-gavel:before {
  content: "\f0e3";
}
.fa-dashboard:before,
.fa-tachometer:before {
  content: "\f0e4";
}
.fa-comment-o:before {
  content: "\f0e5";
}
.fa-comments-o:before {
  content: "\f0e6";
}
.fa-flash:before,
.fa-bolt:before {
  content: "\f0e7";
}
.fa-sitemap:before {
  content: "\f0e8";
}
.fa-umbrella:before {
  content: "\f0e9";
}
.fa-paste:before,
.fa-clipboard:before {
  content: "\f0ea";
}
.fa-lightbulb-o:before {
  content: "\f0eb";
}
.fa-exchange:before {
  content: "\f0ec";
}
.fa-cloud-download:before {
  content: "\f0ed";
}
.fa-cloud-upload:before {
  content: "\f0ee";
}
.fa-user-md:before {
  content: "\f0f0";
}
.fa-stethoscope:before {
  content: "\f0f1";
}
.fa-suitcase:before {
  content: "\f0f2";
}
.fa-bell-o:before {
  content: "\f0a2";
}
.fa-coffee:before {
  content: "\f0f4";
}
.fa-cutlery:before {
  content: "\f0f5";
}
.fa-file-text-o:before {
  content: "\f0f6";
}
.fa-building-o:before {
  content: "\f0f7";
}
.fa-hospital-o:before {
  content: "\f0f8";
}
.fa-ambulance:before {
  content: "\f0f9";
}
.fa-medkit:before {
  content: "\f0fa";
}
.fa-fighter-jet:before {
  content: "\f0fb";
}
.fa-beer:before {
  content: "\f0fc";
}
.fa-h-square:before {
  content: "\f0fd";
}
.fa-plus-square:before {
  content: "\f0fe";
}
.fa-angle-double-left:before {
  content: "\f100";
}
.fa-angle-double-right:before {
  content: "\f101";
}
.fa-angle-double-up:before {
  content: "\f102";
}
.fa-angle-double-down:before {
  content: "\f103";
}
.fa-angle-left:before {
  content: "\f104";
}
.fa-angle-right:before {
  content: "\f105";
}
.fa-angle-up:before {
  content: "\f106";
}
.fa-angle-down:before {
  content: "\f107";
}
.fa-desktop:before {
  content: "\f108";
}
.fa-laptop:before {
  content: "\f109";
}
.fa-tablet:before {
  content: "\f10a";
}
.fa-mobile-phone:before,
.fa-mobile:before {
  content: "\f10b";
}
.fa-circle-o:before {
  content: "\f10c";
}
.fa-quote-left:before {
  content: "\f10d";
}
.fa-quote-right:before {
  content: "\f10e";
}
.fa-spinner:before {
  content: "\f110";
}
.fa-circle:before {
  content: "\f111";
}
.fa-mail-reply:before,
.fa-reply:before {
  content: "\f112";
}
.fa-github-alt:before {
  content: "\f113";
}
.fa-folder-o:before {
  content: "\f114";
}
.fa-folder-open-o:before {
  content: "\f115";
}
.fa-smile-o:before {
  content: "\f118";
}
.fa-frown-o:before {
  content: "\f119";
}
.fa-meh-o:before {
  content: "\f11a";
}
.fa-gamepad:before {
  content: "\f11b";
}
.fa-keyboard-o:before {
  content: "\f11c";
}
.fa-flag-o:before {
  content: "\f11d";
}
.fa-flag-checkered:before {
  content: "\f11e";
}
.fa-terminal:before {
  content: "\f120";
}
.fa-code:before {
  content: "\f121";
}
.fa-mail-reply-all:before,
.fa-reply-all:before {
  content: "\f122";
}
.fa-star-half-empty:before,
.fa-star-half-full:before,
.fa-star-half-o:before {
  content: "\f123";
}
.fa-location-arrow:before {
  content: "\f124";
}
.fa-crop:before {
  content: "\f125";
}
.fa-code-fork:before {
  content: "\f126";
}
.fa-unlink:before,
.fa-chain-broken:before {
  content: "\f127";
}
.fa-question:before {
  content: "\f128";
}
.fa-info:before {
  content: "\f129";
}
.fa-exclamation:before {
  content: "\f12a";
}
.fa-superscript:before {
  content: "\f12b";
}
.fa-subscript:before {
  content: "\f12c";
}
.fa-eraser:before {
  content: "\f12d";
}
.fa-puzzle-piece:before {
  content: "\f12e";
}
.fa-microphone:before {
  content: "\f130";
}
.fa-microphone-slash:before {
  content: "\f131";
}
.fa-shield:before {
  content: "\f132";
}
.fa-calendar-o:before {
  content: "\f133";
}
.fa-fire-extinguisher:before {
  content: "\f134";
}
.fa-rocket:before {
  content: "\f135";
}
.fa-maxcdn:before {
  content: "\f136";
}
.fa-chevron-circle-left:before {
  content: "\f137";
}
.fa-chevron-circle-right:before {
  content: "\f138";
}
.fa-chevron-circle-up:before {
  content: "\f139";
}
.fa-chevron-circle-down:before {
  content: "\f13a";
}
.fa-html5:before {
  content: "\f13b";
}
.fa-css3:before {
  content: "\f13c";
}
.fa-anchor:before {
  content: "\f13d";
}
.fa-unlock-alt:before {
  content: "\f13e";
}
.fa-bullseye:before {
  content: "\f140";
}
.fa-ellipsis-h:before {
  content: "\f141";
}
.fa-ellipsis-v:before {
  content: "\f142";
}
.fa-rss-square:before {
  content: "\f143";
}
.fa-play-circle:before {
  content: "\f144";
}
.fa-ticket:before {
  content: "\f145";
}
.fa-minus-square:before {
  content: "\f146";
}
.fa-minus-square-o:before {
  content: "\f147";
}
.fa-level-up:before {
  content: "\f148";
}
.fa-level-down:before {
  content: "\f149";
}
.fa-check-square:before {
  content: "\f14a";
}
.fa-pencil-square:before {
  content: "\f14b";
}
.fa-external-link-square:before {
  content: "\f14c";
}
.fa-share-square:before {
  content: "\f14d";
}
.fa-compass:before {
  content: "\f14e";
}
.fa-toggle-down:before,
.fa-caret-square-o-down:before {
  content: "\f150";
}
.fa-toggle-up:before,
.fa-caret-square-o-up:before {
  content: "\f151";
}
.fa-toggle-right:before,
.fa-caret-square-o-right:before {
  content: "\f152";
}
.fa-euro:before,
.fa-eur:before {
  content: "\f153";
}
.fa-gbp:before {
  content: "\f154";
}
.fa-dollar:before,
.fa-usd:before {
  content: "\f155";
}
.fa-rupee:before,
.fa-inr:before {
  content: "\f156";
}
.fa-cny:before,
.fa-rmb:before,
.fa-yen:before,
.fa-jpy:before {
  content: "\f157";
}
.fa-ruble:before,
.fa-rouble:before,
.fa-rub:before {
  content: "\f158";
}
.fa-won:before,
.fa-krw:before {
  content: "\f159";
}
.fa-bitcoin:before,
.fa-btc:before {
  content: "\f15a";
}
.fa-file:before {
  content: "\f15b";
}
.fa-file-text:before {
  content: "\f15c";
}
.fa-sort-alpha-asc:before {
  content: "\f15d";
}
.fa-sort-alpha-desc:before {
  content: "\f15e";
}
.fa-sort-amount-asc:before {
  content: "\f160";
}
.fa-sort-amount-desc:before {
  content: "\f161";
}
.fa-sort-numeric-asc:before {
  content: "\f162";
}
.fa-sort-numeric-desc:before {
  content: "\f163";
}
.fa-thumbs-up:before {
  content: "\f164";
}
.fa-thumbs-down:before {
  content: "\f165";
}
.fa-youtube-square:before {
  content: "\f166";
}
.fa-youtube:before {
  content: "\f167";
}
.fa-xing:before {
  content: "\f168";
}
.fa-xing-square:before {
  content: "\f169";
}
.fa-youtube-play:before {
  content: "\f16a";
}
.fa-dropbox:before {
  content: "\f16b";
}
.fa-stack-overflow:before {
  content: "\f16c";
}
.fa-instagram:before {
  content: "\f16d";
}
.fa-flickr:before {
  content: "\f16e";
}
.fa-adn:before {
  content: "\f170";
}
.fa-bitbucket:before {
  content: "\f171";
}
.fa-bitbucket-square:before {
  content: "\f172";
}
.fa-tumblr:before {
  content: "\f173";
}
.fa-tumblr-square:before {
  content: "\f174";
}
.fa-long-arrow-down:before {
  content: "\f175";
}
.fa-long-arrow-up:before {
  content: "\f176";
}
.fa-long-arrow-left:before {
  content: "\f177";
}
.fa-long-arrow-right:before {
  content: "\f178";
}
.fa-apple:before {
  content: "\f179";
}
.fa-windows:before {
  content: "\f17a";
}
.fa-android:before {
  content: "\f17b";
}
.fa-linux:before {
  content: "\f17c";
}
.fa-dribbble:before {
  content: "\f17d";
}
.fa-skype:before {
  content: "\f17e";
}
.fa-foursquare:before {
  content: "\f180";
}
.fa-trello:before {
  content: "\f181";
}
.fa-female:before {
  content: "\f182";
}
.fa-male:before {
  content: "\f183";
}
.fa-gittip:before {
  content: "\f184";
}
.fa-sun-o:before {
  content: "\f185";
}
.fa-moon-o:before {
  content: "\f186";
}
.fa-archive:before {
  content: "\f187";
}
.fa-bug:before {
  content: "\f188";
}
.fa-vk:before {
  content: "\f189";
}
.fa-weibo:before {
  content: "\f18a";
}
.fa-renren:before {
  content: "\f18b";
}
.fa-pagelines:before {
  content: "\f18c";
}
.fa-stack-exchange:before {
  content: "\f18d";
}
.fa-arrow-circle-o-right:before {
  content: "\f18e";
}
.fa-arrow-circle-o-left:before {
  content: "\f190";
}
.fa-toggle-left:before,
.fa-caret-square-o-left:before {
  content: "\f191";
}
.fa-dot-circle-o:before {
  content: "\f192";
}
.fa-wheelchair:before {
  content: "\f193";
}
.fa-vimeo-square:before {
  content: "\f194";
}
.fa-turkish-lira:before,
.fa-try:before {
  content: "\f195";
}
.fa-plus-square-o:before {
  content: "\f196";
}
.fa-space-shuttle:before {
  content: "\f197";
}
.fa-slack:before {
  content: "\f198";
}
.fa-envelope-square:before {
  content: "\f199";
}
.fa-wordpress:before {
  content: "\f19a";
}
.fa-openid:before {
  content: "\f19b";
}
.fa-institution:before,
.fa-bank:before,
.fa-university:before {
  content: "\f19c";
}
.fa-mortar-board:before,
.fa-graduation-cap:before {
  content: "\f19d";
}
.fa-yahoo:before {
  content: "\f19e";
}
.fa-google:before {
  content: "\f1a0";
}
.fa-reddit:before {
  content: "\f1a1";
}
.fa-reddit-square:before {
  content: "\f1a2";
}
.fa-stumbleupon-circle:before {
  content: "\f1a3";
}
.fa-stumbleupon:before {
  content: "\f1a4";
}
.fa-delicious:before {
  content: "\f1a5";
}
.fa-digg:before {
  content: "\f1a6";
}
.fa-pied-piper:before {
  content: "\f1a7";
}
.fa-pied-piper-alt:before {
  content: "\f1a8";
}
.fa-drupal:before {
  content: "\f1a9";
}
.fa-joomla:before {
  content: "\f1aa";
}
.fa-language:before {
  content: "\f1ab";
}
.fa-fax:before {
  content: "\f1ac";
}
.fa-building:before {
  content: "\f1ad";
}
.fa-child:before {
  content: "\f1ae";
}
.fa-paw:before {
  content: "\f1b0";
}
.fa-spoon:before {
  content: "\f1b1";
}
.fa-cube:before {
  content: "\f1b2";
}
.fa-cubes:before {
  content: "\f1b3";
}
.fa-behance:before {
  content: "\f1b4";
}
.fa-behance-square:before {
  content: "\f1b5";
}
.fa-steam:before {
  content: "\f1b6";
}
.fa-steam-square:before {
  content: "\f1b7";
}
.fa-recycle:before {
  content: "\f1b8";
}
.fa-automobile:before,
.fa-car:before {
  content: "\f1b9";
}
.fa-cab:before,
.fa-taxi:before {
  content: "\f1ba";
}
.fa-tree:before {
  content: "\f1bb";
}
.fa-spotify:before {
  content: "\f1bc";
}
.fa-deviantart:before {
  content: "\f1bd";
}
.fa-soundcloud:before {
  content: "\f1be";
}
.fa-database:before {
  content: "\f1c0";
}
.fa-file-pdf-o:before {
  content: "\f1c1";
}
.fa-file-word-o:before {
  content: "\f1c2";
}
.fa-file-excel-o:before {
  content: "\f1c3";
}
.fa-file-powerpoint-o:before {
  content: "\f1c4";
}
.fa-file-photo-o:before,
.fa-file-picture-o:before,
.fa-file-image-o:before {
  content: "\f1c5";
}
.fa-file-zip-o:before,
.fa-file-archive-o:before {
  content: "\f1c6";
}
.fa-file-sound-o:before,
.fa-file-audio-o:before {
  content: "\f1c7";
}
.fa-file-movie-o:before,
.fa-file-video-o:before {
  content: "\f1c8";
}
.fa-file-code-o:before {
  content: "\f1c9";
}
.fa-vine:before {
  content: "\f1ca";
}
.fa-codepen:before {
  content: "\f1cb";
}
.fa-jsfiddle:before {
  content: "\f1cc";
}
.fa-life-bouy:before,
.fa-life-buoy:before,
.fa-life-saver:before,
.fa-support:before,
.fa-life-ring:before {
  content: "\f1cd";
}
.fa-circle-o-notch:before {
  content: "\f1ce";
}
.fa-ra:before,
.fa-rebel:before {
  content: "\f1d0";
}
.fa-ge:before,
.fa-empire:before {
  content: "\f1d1";
}
.fa-git-square:before {
  content: "\f1d2";
}
.fa-git:before {
  content: "\f1d3";
}
.fa-hacker-news:before {
  content: "\f1d4";
}
.fa-tencent-weibo:before {
  content: "\f1d5";
}
.fa-qq:before {
  content: "\f1d6";
}
.fa-wechat:before,
.fa-weixin:before {
  content: "\f1d7";
}
.fa-send:before,
.fa-paper-plane:before {
  content: "\f1d8";
}
.fa-send-o:before,
.fa-paper-plane-o:before {
  content: "\f1d9";
}
.fa-history:before {
  content: "\f1da";
}
.fa-circle-thin:before {
  content: "\f1db";
}
.fa-header:before {
  content: "\f1dc";
}
.fa-paragraph:before {
  content: "\f1dd";
}
.fa-sliders:before {
  content: "\f1de";
}
.fa-share-alt:before {
  content: "\f1e0";
}
.fa-share-alt-square:before {
  content: "\f1e1";
}
.fa-bomb:before {
  content: "\f1e2";
}
.fa-soccer-ball-o:before,
.fa-futbol-o:before {
  content: "\f1e3";
}
.fa-tty:before {
  content: "\f1e4";
}
.fa-binoculars:before {
  content: "\f1e5";
}
.fa-plug:before {
  content: "\f1e6";
}
.fa-slideshare:before {
  content: "\f1e7";
}
.fa-twitch:before {
  content: "\f1e8";
}
.fa-yelp:before {
  content: "\f1e9";
}
.fa-newspaper-o:before {
  content: "\f1ea";
}
.fa-wifi:before {
  content: "\f1eb";
}
.fa-calculator:before {
  content: "\f1ec";
}
.fa-paypal:before {
  content: "\f1ed";
}
.fa-google-wallet:before {
  content: "\f1ee";
}
.fa-cc-visa:before {
  content: "\f1f0";
}
.fa-cc-mastercard:before {
  content: "\f1f1";
}
.fa-cc-discover:before {
  content: "\f1f2";
}
.fa-cc-amex:before {
  content: "\f1f3";
}
.fa-cc-paypal:before {
  content: "\f1f4";
}
.fa-cc-stripe:before {
  content: "\f1f5";
}
.fa-bell-slash:before {
  content: "\f1f6";
}
.fa-bell-slash-o:before {
  content: "\f1f7";
}
.fa-trash:before {
  content: "\f1f8";
}
.fa-copyright:before {
  content: "\f1f9";
}
.fa-at:before {
  content: "\f1fa";
}
.fa-eyedropper:before {
  content: "\f1fb";
}
.fa-paint-brush:before {
  content: "\f1fc";
}
.fa-birthday-cake:before {
  content: "\f1fd";
}
.fa-area-chart:before {
  content: "\f1fe";
}
.fa-pie-chart:before {
  content: "\f200";
}
.fa-line-chart:before {
  content: "\f201";
}
.fa-lastfm:before {
  content: "\f202";
}
.fa-lastfm-square:before {
  content: "\f203";
}
.fa-toggle-off:before {
  content: "\f204";
}
.fa-toggle-on:before {
  content: "\f205";
}
.fa-bicycle:before {
  content: "\f206";
}
.fa-bus:before {
  content: "\f207";
}
.fa-ioxhost:before {
  content: "\f208";
}
.fa-angellist:before {
  content: "\f209";
}
.fa-cc:before {
  content: "\f20a";
}
.fa-shekel:before,
.fa-sheqel:before,
.fa-ils:before {
  content: "\f20b";
}
.fa-meanpath:before {
  content: "\f20c";
}
/*!
*
* IPython base
*
*/
.modal.fade .modal-dialog {
  -webkit-transform: translate(0, 0);
  -ms-transform: translate(0, 0);
  -o-transform: translate(0, 0);
  transform: translate(0, 0);
}
code {
  color: #000;
}
pre {
  font-size: inherit;
  line-height: inherit;
}
label {
  font-weight: normal;
}
/* Make the page background atleast 100% the height of the view port */
/* Make the page itself atleast 70% the height of the view port */
.border-box-sizing {
  box-sizing: border-box;
  -moz-box-sizing: border-box;
  -webkit-box-sizing: border-box;
}
.corner-all {
  border-radius: 2px;
}
.no-padding {
  padding: 0px;
}
/* Flexible box model classes */
/* Taken from Alex Russell http://infrequently.org/2009/08/css-3-progress/ */
/* This file is a compatability layer.  It allows the usage of flexible box 
model layouts accross multiple browsers, including older browsers.  The newest,
universal implementation of the flexible box model is used when available (see
`Modern browsers` comments below).  Browsers that are known to implement this 
new spec completely include:

    Firefox 28.0+
    Chrome 29.0+
    Internet Explorer 11+ 
    Opera 17.0+

Browsers not listed, including Safari, are supported via the styling under the
`Old browsers` comments below.
*/
.hbox {
  /* Old browsers */
  display: -webkit-box;
  -webkit-box-orient: horizontal;
  -webkit-box-align: stretch;
  display: -moz-box;
  -moz-box-orient: horizontal;
  -moz-box-align: stretch;
  display: box;
  box-orient: horizontal;
  box-align: stretch;
  /* Modern browsers */
  display: flex;
  flex-direction: row;
  align-items: stretch;
}
.hbox > * {
  /* Old browsers */
  -webkit-box-flex: 0;
  -moz-box-flex: 0;
  box-flex: 0;
  /* Modern browsers */
  flex: none;
}
.vbox {
  /* Old browsers */
  display: -webkit-box;
  -webkit-box-orient: vertical;
  -webkit-box-align: stretch;
  display: -moz-box;
  -moz-box-orient: vertical;
  -moz-box-align: stretch;
  display: box;
  box-orient: vertical;
  box-align: stretch;
  /* Modern browsers */
  display: flex;
  flex-direction: column;
  align-items: stretch;
}
.vbox > * {
  /* Old browsers */
  -webkit-box-flex: 0;
  -moz-box-flex: 0;
  box-flex: 0;
  /* Modern browsers */
  flex: none;
}
.hbox.reverse,
.vbox.reverse,
.reverse {
  /* Old browsers */
  -webkit-box-direction: reverse;
  -moz-box-direction: reverse;
  box-direction: reverse;
  /* Modern browsers */
  flex-direction: row-reverse;
}
.hbox.box-flex0,
.vbox.box-flex0,
.box-flex0 {
  /* Old browsers */
  -webkit-box-flex: 0;
  -moz-box-flex: 0;
  box-flex: 0;
  /* Modern browsers */
  flex: none;
  width: auto;
}
.hbox.box-flex1,
.vbox.box-flex1,
.box-flex1 {
  /* Old browsers */
  -webkit-box-flex: 1;
  -moz-box-flex: 1;
  box-flex: 1;
  /* Modern browsers */
  flex: 1;
}
.hbox.box-flex,
.vbox.box-flex,
.box-flex {
  /* Old browsers */
  /* Old browsers */
  -webkit-box-flex: 1;
  -moz-box-flex: 1;
  box-flex: 1;
  /* Modern browsers */
  flex: 1;
}
.hbox.box-flex2,
.vbox.box-flex2,
.box-flex2 {
  /* Old browsers */
  -webkit-box-flex: 2;
  -moz-box-flex: 2;
  box-flex: 2;
  /* Modern browsers */
  flex: 2;
}
.box-group1 {
  /*  Deprecated */
  -webkit-box-flex-group: 1;
  -moz-box-flex-group: 1;
  box-flex-group: 1;
}
.box-group2 {
  /* Deprecated */
  -webkit-box-flex-group: 2;
  -moz-box-flex-group: 2;
  box-flex-group: 2;
}
.hbox.start,
.vbox.start,
.start {
  /* Old browsers */
  -webkit-box-pack: start;
  -moz-box-pack: start;
  box-pack: start;
  /* Modern browsers */
  justify-content: flex-start;
}
.hbox.end,
.vbox.end,
.end {
  /* Old browsers */
  -webkit-box-pack: end;
  -moz-box-pack: end;
  box-pack: end;
  /* Modern browsers */
  justify-content: flex-end;
}
.hbox.center,
.vbox.center,
.center {
  /* Old browsers */
  -webkit-box-pack: center;
  -moz-box-pack: center;
  box-pack: center;
  /* Modern browsers */
  justify-content: center;
}
.hbox.baseline,
.vbox.baseline,
.baseline {
  /* Old browsers */
  -webkit-box-pack: baseline;
  -moz-box-pack: baseline;
  box-pack: baseline;
  /* Modern browsers */
  justify-content: baseline;
}
.hbox.stretch,
.vbox.stretch,
.stretch {
  /* Old browsers */
  -webkit-box-pack: stretch;
  -moz-box-pack: stretch;
  box-pack: stretch;
  /* Modern browsers */
  justify-content: stretch;
}
.hbox.align-start,
.vbox.align-start,
.align-start {
  /* Old browsers */
  -webkit-box-align: start;
  -moz-box-align: start;
  box-align: start;
  /* Modern browsers */
  align-items: flex-start;
}
.hbox.align-end,
.vbox.align-end,
.align-end {
  /* Old browsers */
  -webkit-box-align: end;
  -moz-box-align: end;
  box-align: end;
  /* Modern browsers */
  align-items: flex-end;
}
.hbox.align-center,
.vbox.align-center,
.align-center {
  /* Old browsers */
  -webkit-box-align: center;
  -moz-box-align: center;
  box-align: center;
  /* Modern browsers */
  align-items: center;
}
.hbox.align-baseline,
.vbox.align-baseline,
.align-baseline {
  /* Old browsers */
  -webkit-box-align: baseline;
  -moz-box-align: baseline;
  box-align: baseline;
  /* Modern browsers */
  align-items: baseline;
}
.hbox.align-stretch,
.vbox.align-stretch,
.align-stretch {
  /* Old browsers */
  -webkit-box-align: stretch;
  -moz-box-align: stretch;
  box-align: stretch;
  /* Modern browsers */
  align-items: stretch;
}
div.error {
  margin: 2em;
  text-align: center;
}
div.error > h1 {
  font-size: 500%;
  line-height: normal;
}
div.error > p {
  font-size: 200%;
  line-height: normal;
}
div.traceback-wrapper {
  text-align: left;
  max-width: 800px;
  margin: auto;
}
/**
 * Primary styles
 *
 * Author: Jupyter Development Team
 */
body {
  background-color: #fff;
  /* This makes sure that the body covers the entire window and needs to
       be in a different element than the display: box in wrapper below */
  position: absolute;
  left: 0px;
  right: 0px;
  top: 0px;
  bottom: 0px;
  overflow: visible;
}
body > #header {
  /* Initially hidden to prevent FLOUC */
  display: none;
  background-color: #fff;
  /* Display over codemirror */
  position: relative;
  z-index: 100;
}
body > #header #header-container {
  padding-bottom: 5px;
  padding-top: 5px;
  box-sizing: border-box;
  -moz-box-sizing: border-box;
  -webkit-box-sizing: border-box;
}
body > #header .header-bar {
  width: 100%;
  height: 1px;
  background: #e7e7e7;
  margin-bottom: -1px;
}
@media print {
  body > #header {
    display: none !important;
  }
}
#header-spacer {
  width: 100%;
  visibility: hidden;
}
@media print {
  #header-spacer {
    display: none;
  }
}
#ipython_notebook {
  padding-left: 0px;
  padding-top: 1px;
  padding-bottom: 1px;
}
@media (max-width: 991px) {
  #ipython_notebook {
    margin-left: 10px;
  }
}
[dir="rtl"] #ipython_notebook {
  float: right !important;
}
#noscript {
  width: auto;
  padding-top: 16px;
  padding-bottom: 16px;
  text-align: center;
  font-size: 22px;
  color: red;
  font-weight: bold;
}
#ipython_notebook img {
  height: 28px;
}
#site {
  width: 100%;
  display: none;
  box-sizing: border-box;
  -moz-box-sizing: border-box;
  -webkit-box-sizing: border-box;
  overflow: auto;
}
@media print {
  #site {
    height: auto !important;
  }
}
/* Smaller buttons */
.ui-button .ui-button-text {
  padding: 0.2em 0.8em;
  font-size: 77%;
}
input.ui-button {
  padding: 0.3em 0.9em;
}
span#login_widget {
  float: right;
}
span#login_widget > .button,
#logout {
  color: #333;
  background-color: #fff;
  border-color: #ccc;
}
span#login_widget > .button:focus,
#logout:focus,
span#login_widget > .button.focus,
#logout.focus {
  color: #333;
  background-color: #e6e6e6;
  border-color: #8c8c8c;
}
span#login_widget > .button:hover,
#logout:hover {
  color: #333;
  background-color: #e6e6e6;
  border-color: #adadad;
}
span#login_widget > .button:active,
#logout:active,
span#login_widget > .button.active,
#logout.active,
.open > .dropdown-togglespan#login_widget > .button,
.open > .dropdown-toggle#logout {
  color: #333;
  background-color: #e6e6e6;
  border-color: #adadad;
}
span#login_widget > .button:active:hover,
#logout:active:hover,
span#login_widget > .button.active:hover,
#logout.active:hover,
.open > .dropdown-togglespan#login_widget > .button:hover,
.open > .dropdown-toggle#logout:hover,
span#login_widget > .button:active:focus,
#logout:active:focus,
span#login_widget > .button.active:focus,
#logout.active:focus,
.open > .dropdown-togglespan#login_widget > .button:focus,
.open > .dropdown-toggle#logout:focus,
span#login_widget > .button:active.focus,
#logout:active.focus,
span#login_widget > .button.active.focus,
#logout.active.focus,
.open > .dropdown-togglespan#login_widget > .button.focus,
.open > .dropdown-toggle#logout.focus {
  color: #333;
  background-color: #d4d4d4;
  border-color: #8c8c8c;
}
span#login_widget > .button:active,
#logout:active,
span#login_widget > .button.active,
#logout.active,
.open > .dropdown-togglespan#login_widget > .button,
.open > .dropdown-toggle#logout {
  background-image: none;
}
span#login_widget > .button.disabled:hover,
#logout.disabled:hover,
span#login_widget > .button[disabled]:hover,
#logout[disabled]:hover,
fieldset[disabled] span#login_widget > .button:hover,
fieldset[disabled] #logout:hover,
span#login_widget > .button.disabled:focus,
#logout.disabled:focus,
span#login_widget > .button[disabled]:focus,
#logout[disabled]:focus,
fieldset[disabled] span#login_widget > .button:focus,
fieldset[disabled] #logout:focus,
span#login_widget > .button.disabled.focus,
#logout.disabled.focus,
span#login_widget > .button[disabled].focus,
#logout[disabled].focus,
fieldset[disabled] span#login_widget > .button.focus,
fieldset[disabled] #logout.focus {
  background-color: #fff;
  border-color: #ccc;
}
span#login_widget > .button .badge,
#logout .badge {
  color: #fff;
  background-color: #333;
}
.nav-header {
  text-transform: none;
}
#header > span {
  margin-top: 10px;
}
.modal_stretch .modal-dialog {
  /* Old browsers */
  display: -webkit-box;
  -webkit-box-orient: vertical;
  -webkit-box-align: stretch;
  display: -moz-box;
  -moz-box-orient: vertical;
  -moz-box-align: stretch;
  display: box;
  box-orient: vertical;
  box-align: stretch;
  /* Modern browsers */
  display: flex;
  flex-direction: column;
  align-items: stretch;
  min-height: 80vh;
}
.modal_stretch .modal-dialog .modal-body {
  max-height: calc(100vh - 200px);
  overflow: auto;
  flex: 1;
}
@media (min-width: 768px) {
  .modal .modal-dialog {
    width: 700px;
  }
}
@media (min-width: 768px) {
  select.form-control {
    margin-left: 12px;
    margin-right: 12px;
  }
}
/*!
*
* IPython auth
*
*/
.center-nav {
  display: inline-block;
  margin-bottom: -4px;
}
/*!
*
* IPython tree view
*
*/
/* We need an invisible input field on top of the sentense*/
/* "Drag file onto the list ..." */
.alternate_upload {
  background-color: none;
  display: inline;
}
.alternate_upload.form {
  padding: 0;
  margin: 0;
}
.alternate_upload input.fileinput {
  text-align: center;
  vertical-align: middle;
  display: inline;
  opacity: 0;
  z-index: 2;
  width: 12ex;
  margin-right: -12ex;
}
.alternate_upload .btn-upload {
  height: 22px;
}
/**
 * Primary styles
 *
 * Author: Jupyter Development Team
 */
[dir="rtl"] #tabs li {
  float: right;
}
ul#tabs {
  margin-bottom: 4px;
}
[dir="rtl"] ul#tabs {
  margin-right: 0px;
}
ul#tabs a {
  padding-top: 6px;
  padding-bottom: 4px;
}
ul.breadcrumb a:focus,
ul.breadcrumb a:hover {
  text-decoration: none;
}
ul.breadcrumb i.icon-home {
  font-size: 16px;
  margin-right: 4px;
}
ul.breadcrumb span {
  color: #5e5e5e;
}
.list_toolbar {
  padding: 4px 0 4px 0;
  vertical-align: middle;
}
.list_toolbar .tree-buttons {
  padding-top: 1px;
}
[dir="rtl"] .list_toolbar .tree-buttons {
  float: left !important;
}
[dir="rtl"] .list_toolbar .pull-right {
  padding-top: 1px;
  float: left !important;
}
[dir="rtl"] .list_toolbar .pull-left {
  float: right !important;
}
.dynamic-buttons {
  padding-top: 3px;
  display: inline-block;
}
.list_toolbar [class*="span"] {
  min-height: 24px;
}
.list_header {
  font-weight: bold;
  background-color: #EEE;
}
.list_placeholder {
  font-weight: bold;
  padding-top: 4px;
  padding-bottom: 4px;
  padding-left: 7px;
  padding-right: 7px;
}
.list_container {
  margin-top: 4px;
  margin-bottom: 20px;
  border: 1px solid #ddd;
  border-radius: 2px;
}
.list_container > div {
  border-bottom: 1px solid #ddd;
}
.list_container > div:hover .list-item {
  background-color: red;
}
.list_container > div:last-child {
  border: none;
}
.list_item:hover .list_item {
  background-color: #ddd;
}
.list_item a {
  text-decoration: none;
}
.list_item:hover {
  background-color: #fafafa;
}
.list_header > div,
.list_item > div {
  padding-top: 4px;
  padding-bottom: 4px;
  padding-left: 7px;
  padding-right: 7px;
  line-height: 22px;
}
.list_header > div input,
.list_item > div input {
  margin-right: 7px;
  margin-left: 14px;
  vertical-align: baseline;
  line-height: 22px;
  position: relative;
  top: -1px;
}
.list_header > div .item_link,
.list_item > div .item_link {
  margin-left: -1px;
  vertical-align: baseline;
  line-height: 22px;
}
.new-file input[type=checkbox] {
  visibility: hidden;
}
.item_name {
  line-height: 22px;
  height: 24px;
}
.item_icon {
  font-size: 14px;
  color: #5e5e5e;
  margin-right: 7px;
  margin-left: 7px;
  line-height: 22px;
  vertical-align: baseline;
}
.item_buttons {
  line-height: 1em;
  margin-left: -5px;
}
.item_buttons .btn,
.item_buttons .btn-group,
.item_buttons .input-group {
  float: left;
}
.item_buttons > .btn,
.item_buttons > .btn-group,
.item_buttons > .input-group {
  margin-left: 5px;
}
.item_buttons .btn {
  min-width: 13ex;
}
.item_buttons .running-indicator {
  padding-top: 4px;
  color: #5cb85c;
}
.item_buttons .kernel-name {
  padding-top: 4px;
  color: #5bc0de;
  margin-right: 7px;
  float: left;
}
.toolbar_info {
  height: 24px;
  line-height: 24px;
}
.list_item input:not([type=checkbox]) {
  padding-top: 3px;
  padding-bottom: 3px;
  height: 22px;
  line-height: 14px;
  margin: 0px;
}
.highlight_text {
  color: blue;
}
#project_name {
  display: inline-block;
  padding-left: 7px;
  margin-left: -2px;
}
#project_name > .breadcrumb {
  padding: 0px;
  margin-bottom: 0px;
  background-color: transparent;
  font-weight: bold;
}
#tree-selector {
  padding-right: 0px;
}
[dir="rtl"] #tree-selector a {
  float: right;
}
#button-select-all {
  min-width: 50px;
}
#select-all {
  margin-left: 7px;
  margin-right: 2px;
}
.menu_icon {
  margin-right: 2px;
}
.tab-content .row {
  margin-left: 0px;
  margin-right: 0px;
}
.folder_icon:before {
  display: inline-block;
  font: normal normal normal 14px/1 FontAwesome;
  font-size: inherit;
  text-rendering: auto;
  -webkit-font-smoothing: antialiased;
  -moz-osx-font-smoothing: grayscale;
  content: "\f114";
}
.folder_icon:before.pull-left {
  margin-right: .3em;
}
.folder_icon:before.pull-right {
  margin-left: .3em;
}
.notebook_icon:before {
  display: inline-block;
  font: normal normal normal 14px/1 FontAwesome;
  font-size: inherit;
  text-rendering: auto;
  -webkit-font-smoothing: antialiased;
  -moz-osx-font-smoothing: grayscale;
  content: "\f02d";
  position: relative;
  top: -1px;
}
.notebook_icon:before.pull-left {
  margin-right: .3em;
}
.notebook_icon:before.pull-right {
  margin-left: .3em;
}
.running_notebook_icon:before {
  display: inline-block;
  font: normal normal normal 14px/1 FontAwesome;
  font-size: inherit;
  text-rendering: auto;
  -webkit-font-smoothing: antialiased;
  -moz-osx-font-smoothing: grayscale;
  content: "\f02d";
  position: relative;
  top: -1px;
  color: #5cb85c;
}
.running_notebook_icon:before.pull-left {
  margin-right: .3em;
}
.running_notebook_icon:before.pull-right {
  margin-left: .3em;
}
.file_icon:before {
  display: inline-block;
  font: normal normal normal 14px/1 FontAwesome;
  font-size: inherit;
  text-rendering: auto;
  -webkit-font-smoothing: antialiased;
  -moz-osx-font-smoothing: grayscale;
  content: "\f016";
  position: relative;
  top: -2px;
}
.file_icon:before.pull-left {
  margin-right: .3em;
}
.file_icon:before.pull-right {
  margin-left: .3em;
}
#notebook_toolbar .pull-right {
  padding-top: 0px;
  margin-right: -1px;
}
ul#new-menu {
  left: auto;
  right: 0;
}
[dir="rtl"] #new-menu {
  text-align: right;
}
.kernel-menu-icon {
  padding-right: 12px;
  width: 24px;
  content: "\f096";
}
.kernel-menu-icon:before {
  content: "\f096";
}
.kernel-menu-icon-current:before {
  content: "\f00c";
}
#tab_content {
  padding-top: 20px;
}
#running .panel-group .panel {
  margin-top: 3px;
  margin-bottom: 1em;
}
#running .panel-group .panel .panel-heading {
  background-color: #EEE;
  padding-top: 4px;
  padding-bottom: 4px;
  padding-left: 7px;
  padding-right: 7px;
  line-height: 22px;
}
#running .panel-group .panel .panel-heading a:focus,
#running .panel-group .panel .panel-heading a:hover {
  text-decoration: none;
}
#running .panel-group .panel .panel-body {
  padding: 0px;
}
#running .panel-group .panel .panel-body .list_container {
  margin-top: 0px;
  margin-bottom: 0px;
  border: 0px;
  border-radius: 0px;
}
#running .panel-group .panel .panel-body .list_container .list_item {
  border-bottom: 1px solid #ddd;
}
#running .panel-group .panel .panel-body .list_container .list_item:last-child {
  border-bottom: 0px;
}
[dir="rtl"] #running .col-sm-8 {
  float: right !important;
}
.delete-button {
  display: none;
}
.duplicate-button {
  display: none;
}
.rename-button {
  display: none;
}
.shutdown-button {
  display: none;
}
.dynamic-instructions {
  display: inline-block;
  padding-top: 4px;
}
/*!
*
* IPython text editor webapp
*
*/
.selected-keymap i.fa {
  padding: 0px 5px;
}
.selected-keymap i.fa:before {
  content: "\f00c";
}
#mode-menu {
  overflow: auto;
  max-height: 20em;
}
.edit_app #header {
  -webkit-box-shadow: 0px 0px 12px 1px rgba(87, 87, 87, 0.2);
  box-shadow: 0px 0px 12px 1px rgba(87, 87, 87, 0.2);
}
.edit_app #menubar .navbar {
  /* Use a negative 1 bottom margin, so the border overlaps the border of the
    header */
  margin-bottom: -1px;
}
.dirty-indicator {
  display: inline-block;
  font: normal normal normal 14px/1 FontAwesome;
  font-size: inherit;
  text-rendering: auto;
  -webkit-font-smoothing: antialiased;
  -moz-osx-font-smoothing: grayscale;
  width: 20px;
}
.dirty-indicator.pull-left {
  margin-right: .3em;
}
.dirty-indicator.pull-right {
  margin-left: .3em;
}
.dirty-indicator-dirty {
  display: inline-block;
  font: normal normal normal 14px/1 FontAwesome;
  font-size: inherit;
  text-rendering: auto;
  -webkit-font-smoothing: antialiased;
  -moz-osx-font-smoothing: grayscale;
  width: 20px;
}
.dirty-indicator-dirty.pull-left {
  margin-right: .3em;
}
.dirty-indicator-dirty.pull-right {
  margin-left: .3em;
}
.dirty-indicator-clean {
  display: inline-block;
  font: normal normal normal 14px/1 FontAwesome;
  font-size: inherit;
  text-rendering: auto;
  -webkit-font-smoothing: antialiased;
  -moz-osx-font-smoothing: grayscale;
  width: 20px;
}
.dirty-indicator-clean.pull-left {
  margin-right: .3em;
}
.dirty-indicator-clean.pull-right {
  margin-left: .3em;
}
.dirty-indicator-clean:before {
  display: inline-block;
  font: normal normal normal 14px/1 FontAwesome;
  font-size: inherit;
  text-rendering: auto;
  -webkit-font-smoothing: antialiased;
  -moz-osx-font-smoothing: grayscale;
  content: "\f00c";
}
.dirty-indicator-clean:before.pull-left {
  margin-right: .3em;
}
.dirty-indicator-clean:before.pull-right {
  margin-left: .3em;
}
#filename {
  font-size: 16pt;
  display: table;
  padding: 0px 5px;
}
#current-mode {
  padding-left: 5px;
  padding-right: 5px;
}
#texteditor-backdrop {
  padding-top: 20px;
  padding-bottom: 20px;
}
@media not print {
  #texteditor-backdrop {
    background-color: #EEE;
  }
}
@media print {
  #texteditor-backdrop #texteditor-container .CodeMirror-gutter,
  #texteditor-backdrop #texteditor-container .CodeMirror-gutters {
    background-color: #fff;
  }
}
@media not print {
  #texteditor-backdrop #texteditor-container .CodeMirror-gutter,
  #texteditor-backdrop #texteditor-container .CodeMirror-gutters {
    background-color: #fff;
  }
}
@media not print {
  #texteditor-backdrop #texteditor-container {
    padding: 0px;
    background-color: #fff;
    -webkit-box-shadow: 0px 0px 12px 1px rgba(87, 87, 87, 0.2);
    box-shadow: 0px 0px 12px 1px rgba(87, 87, 87, 0.2);
  }
}
/*!
*
* IPython notebook
*
*/
/* CSS font colors for translated ANSI colors. */
.ansibold {
  font-weight: bold;
}
/* use dark versions for foreground, to improve visibility */
.ansiblack {
  color: black;
}
.ansired {
  color: darkred;
}
.ansigreen {
  color: darkgreen;
}
.ansiyellow {
  color: #c4a000;
}
.ansiblue {
  color: darkblue;
}
.ansipurple {
  color: darkviolet;
}
.ansicyan {
  color: steelblue;
}
.ansigray {
  color: gray;
}
/* and light for background, for the same reason */
.ansibgblack {
  background-color: black;
}
.ansibgred {
  background-color: red;
}
.ansibggreen {
  background-color: green;
}
.ansibgyellow {
  background-color: yellow;
}
.ansibgblue {
  background-color: blue;
}
.ansibgpurple {
  background-color: magenta;
}
.ansibgcyan {
  background-color: cyan;
}
.ansibggray {
  background-color: gray;
}
div.cell {
  /* Old browsers */
  display: -webkit-box;
  -webkit-box-orient: vertical;
  -webkit-box-align: stretch;
  display: -moz-box;
  -moz-box-orient: vertical;
  -moz-box-align: stretch;
  display: box;
  box-orient: vertical;
  box-align: stretch;
  /* Modern browsers */
  display: flex;
  flex-direction: column;
  align-items: stretch;
  border-radius: 2px;
  box-sizing: border-box;
  -moz-box-sizing: border-box;
  -webkit-box-sizing: border-box;
  border-width: 1px;
  border-style: solid;
  border-color: transparent;
  width: 100%;
  padding: 5px;
  /* This acts as a spacer between cells, that is outside the border */
  margin: 0px;
  outline: none;
  border-left-width: 1px;
  padding-left: 5px;
  background: linear-gradient(to right, transparent -40px, transparent 1px, transparent 1px, transparent 100%);
}
div.cell.jupyter-soft-selected {
  border-left-color: #90CAF9;
  border-left-color: #E3F2FD;
  border-left-width: 1px;
  padding-left: 5px;
  border-right-color: #E3F2FD;
  border-right-width: 1px;
  background: #E3F2FD;
}
@media print {
  div.cell.jupyter-soft-selected {
    border-color: transparent;
  }
}
div.cell.selected {
  border-color: #ababab;
  border-left-width: 0px;
  padding-left: 6px;
  background: linear-gradient(to right, #42A5F5 -40px, #42A5F5 5px, transparent 5px, transparent 100%);
}
@media print {
  div.cell.selected {
    border-color: transparent;
  }
}
div.cell.selected.jupyter-soft-selected {
  border-left-width: 0;
  padding-left: 6px;
  background: linear-gradient(to right, #42A5F5 -40px, #42A5F5 7px, #E3F2FD 7px, #E3F2FD 100%);
}
.edit_mode div.cell.selected {
  border-color: #66BB6A;
  border-left-width: 0px;
  padding-left: 6px;
  background: linear-gradient(to right, #66BB6A -40px, #66BB6A 5px, transparent 5px, transparent 100%);
}
@media print {
  .edit_mode div.cell.selected {
    border-color: transparent;
  }
}
.prompt {
  /* This needs to be wide enough for 3 digit prompt numbers: In[100]: */
  min-width: 14ex;
  /* This padding is tuned to match the padding on the CodeMirror editor. */
  padding: 0.4em;
  margin: 0px;
  font-family: monospace;
  text-align: right;
  /* This has to match that of the the CodeMirror class line-height below */
  line-height: 1.21429em;
  /* Don't highlight prompt number selection */
  -webkit-touch-callout: none;
  -webkit-user-select: none;
  -khtml-user-select: none;
  -moz-user-select: none;
  -ms-user-select: none;
  user-select: none;
  /* Use default cursor */
  cursor: default;
}
@media (max-width: 540px) {
  .prompt {
    text-align: left;
  }
}
div.inner_cell {
  min-width: 0;
  /* Old browsers */
  display: -webkit-box;
  -webkit-box-orient: vertical;
  -webkit-box-align: stretch;
  display: -moz-box;
  -moz-box-orient: vertical;
  -moz-box-align: stretch;
  display: box;
  box-orient: vertical;
  box-align: stretch;
  /* Modern browsers */
  display: flex;
  flex-direction: column;
  align-items: stretch;
  /* Old browsers */
  -webkit-box-flex: 1;
  -moz-box-flex: 1;
  box-flex: 1;
  /* Modern browsers */
  flex: 1;
}
/* input_area and input_prompt must match in top border and margin for alignment */
div.input_area {
  border: 1px solid #cfcfcf;
  border-radius: 2px;
  background: #f7f7f7;
  line-height: 1.21429em;
}
/* This is needed so that empty prompt areas can collapse to zero height when there
   is no content in the output_subarea and the prompt. The main purpose of this is
   to make sure that empty JavaScript output_subareas have no height. */
div.prompt:empty {
  padding-top: 0;
  padding-bottom: 0;
}
div.unrecognized_cell {
  padding: 5px 5px 5px 0px;
  /* Old browsers */
  display: -webkit-box;
  -webkit-box-orient: horizontal;
  -webkit-box-align: stretch;
  display: -moz-box;
  -moz-box-orient: horizontal;
  -moz-box-align: stretch;
  display: box;
  box-orient: horizontal;
  box-align: stretch;
  /* Modern browsers */
  display: flex;
  flex-direction: row;
  align-items: stretch;
}
div.unrecognized_cell .inner_cell {
  border-radius: 2px;
  padding: 5px;
  font-weight: bold;
  color: red;
  border: 1px solid #cfcfcf;
  background: #eaeaea;
}
div.unrecognized_cell .inner_cell a {
  color: inherit;
  text-decoration: none;
}
div.unrecognized_cell .inner_cell a:hover {
  color: inherit;
  text-decoration: none;
}
@media (max-width: 540px) {
  div.unrecognized_cell > div.prompt {
    display: none;
  }
}
div.code_cell {
  /* avoid page breaking on code cells when printing */
}
@media print {
  div.code_cell {
    page-break-inside: avoid;
  }
}
/* any special styling for code cells that are currently running goes here */
div.input {
  page-break-inside: avoid;
  /* Old browsers */
  display: -webkit-box;
  -webkit-box-orient: horizontal;
  -webkit-box-align: stretch;
  display: -moz-box;
  -moz-box-orient: horizontal;
  -moz-box-align: stretch;
  display: box;
  box-orient: horizontal;
  box-align: stretch;
  /* Modern browsers */
  display: flex;
  flex-direction: row;
  align-items: stretch;
}
@media (max-width: 540px) {
  div.input {
    /* Old browsers */
    display: -webkit-box;
    -webkit-box-orient: vertical;
    -webkit-box-align: stretch;
    display: -moz-box;
    -moz-box-orient: vertical;
    -moz-box-align: stretch;
    display: box;
    box-orient: vertical;
    box-align: stretch;
    /* Modern browsers */
    display: flex;
    flex-direction: column;
    align-items: stretch;
  }
}
/* input_area and input_prompt must match in top border and margin for alignment */
div.input_prompt {
  color: #303F9F;
  border-top: 1px solid transparent;
}
div.input_area > div.highlight {
  margin: 0.4em;
  border: none;
  padding: 0px;
  background-color: transparent;
}
div.input_area > div.highlight > pre {
  margin: 0px;
  border: none;
  padding: 0px;
  background-color: transparent;
}
/* The following gets added to the <head> if it is detected that the user has a
 * monospace font with inconsistent normal/bold/italic height.  See
 * notebookmain.js.  Such fonts will have keywords vertically offset with
 * respect to the rest of the text.  The user should select a better font.
 * See: https://github.com/ipython/ipython/issues/1503
 *
 * .CodeMirror span {
 *      vertical-align: bottom;
 * }
 */
.CodeMirror {
  line-height: 1.21429em;
  /* Changed from 1em to our global default */
  font-size: 14px;
  height: auto;
  /* Changed to auto to autogrow */
  background: none;
  /* Changed from white to allow our bg to show through */
}
.CodeMirror-scroll {
  /*  The CodeMirror docs are a bit fuzzy on if overflow-y should be hidden or visible.*/
  /*  We have found that if it is visible, vertical scrollbars appear with font size changes.*/
  overflow-y: hidden;
  overflow-x: auto;
}
.CodeMirror-lines {
  /* In CM2, this used to be 0.4em, but in CM3 it went to 4px. We need the em value because */
  /* we have set a different line-height and want this to scale with that. */
  padding: 0.4em;
}
.CodeMirror-linenumber {
  padding: 0 8px 0 4px;
}
.CodeMirror-gutters {
  border-bottom-left-radius: 2px;
  border-top-left-radius: 2px;
}
.CodeMirror pre {
  /* In CM3 this went to 4px from 0 in CM2. We need the 0 value because of how we size */
  /* .CodeMirror-lines */
  padding: 0;
  border: 0;
  border-radius: 0;
}
/*

Original style from softwaremaniacs.org (c) Ivan Sagalaev <Maniac@SoftwareManiacs.Org>
Adapted from GitHub theme

*/
.highlight-base {
  color: #000;
}
.highlight-variable {
  color: #000;
}
.highlight-variable-2 {
  color: #1a1a1a;
}
.highlight-variable-3 {
  color: #333333;
}
.highlight-string {
  color: #BA2121;
}
.highlight-comment {
  color: #408080;
  font-style: italic;
}
.highlight-number {
  color: #080;
}
.highlight-atom {
  color: #88F;
}
.highlight-keyword {
  color: #008000;
  font-weight: bold;
}
.highlight-builtin {
  color: #008000;
}
.highlight-error {
  color: #f00;
}
.highlight-operator {
  color: #AA22FF;
  font-weight: bold;
}
.highlight-meta {
  color: #AA22FF;
}
/* previously not defined, copying from default codemirror */
.highlight-def {
  color: #00f;
}
.highlight-string-2 {
  color: #f50;
}
.highlight-qualifier {
  color: #555;
}
.highlight-bracket {
  color: #997;
}
.highlight-tag {
  color: #170;
}
.highlight-attribute {
  color: #00c;
}
.highlight-header {
  color: blue;
}
.highlight-quote {
  color: #090;
}
.highlight-link {
  color: #00c;
}
/* apply the same style to codemirror */
.cm-s-ipython span.cm-keyword {
  color: #008000;
  font-weight: bold;
}
.cm-s-ipython span.cm-atom {
  color: #88F;
}
.cm-s-ipython span.cm-number {
  color: #080;
}
.cm-s-ipython span.cm-def {
  color: #00f;
}
.cm-s-ipython span.cm-variable {
  color: #000;
}
.cm-s-ipython span.cm-operator {
  color: #AA22FF;
  font-weight: bold;
}
.cm-s-ipython span.cm-variable-2 {
  color: #1a1a1a;
}
.cm-s-ipython span.cm-variable-3 {
  color: #333333;
}
.cm-s-ipython span.cm-comment {
  color: #408080;
  font-style: italic;
}
.cm-s-ipython span.cm-string {
  color: #BA2121;
}
.cm-s-ipython span.cm-string-2 {
  color: #f50;
}
.cm-s-ipython span.cm-meta {
  color: #AA22FF;
}
.cm-s-ipython span.cm-qualifier {
  color: #555;
}
.cm-s-ipython span.cm-builtin {
  color: #008000;
}
.cm-s-ipython span.cm-bracket {
  color: #997;
}
.cm-s-ipython span.cm-tag {
  color: #170;
}
.cm-s-ipython span.cm-attribute {
  color: #00c;
}
.cm-s-ipython span.cm-header {
  color: blue;
}
.cm-s-ipython span.cm-quote {
  color: #090;
}
.cm-s-ipython span.cm-link {
  color: #00c;
}
.cm-s-ipython span.cm-error {
  color: #f00;
}
.cm-s-ipython span.cm-tab {
  background: url(data:image/png;base64,iVBORw0KGgoAAAANSUhEUgAAADAAAAAMCAYAAAAkuj5RAAAAAXNSR0IArs4c6QAAAGFJREFUSMft1LsRQFAQheHPowAKoACx3IgEKtaEHujDjORSgWTH/ZOdnZOcM/sgk/kFFWY0qV8foQwS4MKBCS3qR6ixBJvElOobYAtivseIE120FaowJPN75GMu8j/LfMwNjh4HUpwg4LUAAAAASUVORK5CYII=);
  background-position: right;
  background-repeat: no-repeat;
}
div.output_wrapper {
  /* this position must be relative to enable descendents to be absolute within it */
  position: relative;
  /* Old browsers */
  display: -webkit-box;
  -webkit-box-orient: vertical;
  -webkit-box-align: stretch;
  display: -moz-box;
  -moz-box-orient: vertical;
  -moz-box-align: stretch;
  display: box;
  box-orient: vertical;
  box-align: stretch;
  /* Modern browsers */
  display: flex;
  flex-direction: column;
  align-items: stretch;
  z-index: 1;
}
/* class for the output area when it should be height-limited */
div.output_scroll {
  /* ideally, this would be max-height, but FF barfs all over that */
  height: 24em;
  /* FF needs this *and the wrapper* to specify full width, or it will shrinkwrap */
  width: 100%;
  overflow: auto;
  border-radius: 2px;
  -webkit-box-shadow: inset 0 2px 8px rgba(0, 0, 0, 0.8);
  box-shadow: inset 0 2px 8px rgba(0, 0, 0, 0.8);
  display: block;
}
/* output div while it is collapsed */
div.output_collapsed {
  margin: 0px;
  padding: 0px;
  /* Old browsers */
  display: -webkit-box;
  -webkit-box-orient: vertical;
  -webkit-box-align: stretch;
  display: -moz-box;
  -moz-box-orient: vertical;
  -moz-box-align: stretch;
  display: box;
  box-orient: vertical;
  box-align: stretch;
  /* Modern browsers */
  display: flex;
  flex-direction: column;
  align-items: stretch;
}
div.out_prompt_overlay {
  height: 100%;
  padding: 0px 0.4em;
  position: absolute;
  border-radius: 2px;
}
div.out_prompt_overlay:hover {
  /* use inner shadow to get border that is computed the same on WebKit/FF */
  -webkit-box-shadow: inset 0 0 1px #000;
  box-shadow: inset 0 0 1px #000;
  background: rgba(240, 240, 240, 0.5);
}
div.output_prompt {
  color: #D84315;
}
/* This class is the outer container of all output sections. */
div.output_area {
  padding: 0px;
  page-break-inside: avoid;
  /* Old browsers */
  display: -webkit-box;
  -webkit-box-orient: horizontal;
  -webkit-box-align: stretch;
  display: -moz-box;
  -moz-box-orient: horizontal;
  -moz-box-align: stretch;
  display: box;
  box-orient: horizontal;
  box-align: stretch;
  /* Modern browsers */
  display: flex;
  flex-direction: row;
  align-items: stretch;
}
div.output_area .MathJax_Display {
  text-align: left !important;
}
div.output_area .rendered_html table {
  margin-left: 0;
  margin-right: 0;
}
div.output_area .rendered_html img {
  margin-left: 0;
  margin-right: 0;
}
div.output_area img,
div.output_area svg {
  max-width: 100%;
  height: auto;
}
div.output_area img.unconfined,
div.output_area svg.unconfined {
  max-width: none;
}
/* This is needed to protect the pre formating from global settings such
   as that of bootstrap */
.output {
  /* Old browsers */
  display: -webkit-box;
  -webkit-box-orient: vertical;
  -webkit-box-align: stretch;
  display: -moz-box;
  -moz-box-orient: vertical;
  -moz-box-align: stretch;
  display: box;
  box-orient: vertical;
  box-align: stretch;
  /* Modern browsers */
  display: flex;
  flex-direction: column;
  align-items: stretch;
}
@media (max-width: 540px) {
  div.output_area {
    /* Old browsers */
    display: -webkit-box;
    -webkit-box-orient: vertical;
    -webkit-box-align: stretch;
    display: -moz-box;
    -moz-box-orient: vertical;
    -moz-box-align: stretch;
    display: box;
    box-orient: vertical;
    box-align: stretch;
    /* Modern browsers */
    display: flex;
    flex-direction: column;
    align-items: stretch;
  }
}
div.output_area pre {
  margin: 0;
  padding: 0;
  border: 0;
  vertical-align: baseline;
  color: black;
  background-color: transparent;
  border-radius: 0;
}
/* This class is for the output subarea inside the output_area and after
   the prompt div. */
div.output_subarea {
  overflow-x: auto;
  padding: 0.4em;
  /* Old browsers */
  -webkit-box-flex: 1;
  -moz-box-flex: 1;
  box-flex: 1;
  /* Modern browsers */
  flex: 1;
  max-width: calc(100% - 14ex);
}
div.output_scroll div.output_subarea {
  overflow-x: visible;
}
/* The rest of the output_* classes are for special styling of the different
   output types */
/* all text output has this class: */
div.output_text {
  text-align: left;
  color: #000;
  /* This has to match that of the the CodeMirror class line-height below */
  line-height: 1.21429em;
}
/* stdout/stderr are 'text' as well as 'stream', but execute_result/error are *not* streams */
div.output_stderr {
  background: #fdd;
  /* very light red background for stderr */
}
div.output_latex {
  text-align: left;
}
/* Empty output_javascript divs should have no height */
div.output_javascript:empty {
  padding: 0;
}
.js-error {
  color: darkred;
}
/* raw_input styles */
div.raw_input_container {
  line-height: 1.21429em;
  padding-top: 5px;
}
pre.raw_input_prompt {
  /* nothing needed here. */
}
input.raw_input {
  font-family: monospace;
  font-size: inherit;
  color: inherit;
  width: auto;
  /* make sure input baseline aligns with prompt */
  vertical-align: baseline;
  /* padding + margin = 0.5em between prompt and cursor */
  padding: 0em 0.25em;
  margin: 0em 0.25em;
}
input.raw_input:focus {
  box-shadow: none;
}
p.p-space {
  margin-bottom: 10px;
}
div.output_unrecognized {
  padding: 5px;
  font-weight: bold;
  color: red;
}
div.output_unrecognized a {
  color: inherit;
  text-decoration: none;
}
div.output_unrecognized a:hover {
  color: inherit;
  text-decoration: none;
}
.rendered_html {
  color: #000;
  /* any extras will just be numbers: */
}
.rendered_html em {
  font-style: italic;
}
.rendered_html strong {
  font-weight: bold;
}
.rendered_html u {
  text-decoration: underline;
}
.rendered_html :link {
  text-decoration: underline;
}
.rendered_html :visited {
  text-decoration: underline;
}
.rendered_html h1 {
  font-size: 185.7%;
  margin: 1.08em 0 0 0;
  font-weight: bold;
  line-height: 1.0;
}
.rendered_html h2 {
  font-size: 157.1%;
  margin: 1.27em 0 0 0;
  font-weight: bold;
  line-height: 1.0;
}
.rendered_html h3 {
  font-size: 128.6%;
  margin: 1.55em 0 0 0;
  font-weight: bold;
  line-height: 1.0;
}
.rendered_html h4 {
  font-size: 100%;
  margin: 2em 0 0 0;
  font-weight: bold;
  line-height: 1.0;
}
.rendered_html h5 {
  font-size: 100%;
  margin: 2em 0 0 0;
  font-weight: bold;
  line-height: 1.0;
  font-style: italic;
}
.rendered_html h6 {
  font-size: 100%;
  margin: 2em 0 0 0;
  font-weight: bold;
  line-height: 1.0;
  font-style: italic;
}
.rendered_html h1:first-child {
  margin-top: 0.538em;
}
.rendered_html h2:first-child {
  margin-top: 0.636em;
}
.rendered_html h3:first-child {
  margin-top: 0.777em;
}
.rendered_html h4:first-child {
  margin-top: 1em;
}
.rendered_html h5:first-child {
  margin-top: 1em;
}
.rendered_html h6:first-child {
  margin-top: 1em;
}
.rendered_html ul {
  list-style: disc;
  margin: 0em 2em;
  padding-left: 0px;
}
.rendered_html ul ul {
  list-style: square;
  margin: 0em 2em;
}
.rendered_html ul ul ul {
  list-style: circle;
  margin: 0em 2em;
}
.rendered_html ol {
  list-style: decimal;
  margin: 0em 2em;
  padding-left: 0px;
}
.rendered_html ol ol {
  list-style: upper-alpha;
  margin: 0em 2em;
}
.rendered_html ol ol ol {
  list-style: lower-alpha;
  margin: 0em 2em;
}
.rendered_html ol ol ol ol {
  list-style: lower-roman;
  margin: 0em 2em;
}
.rendered_html ol ol ol ol ol {
  list-style: decimal;
  margin: 0em 2em;
}
.rendered_html * + ul {
  margin-top: 1em;
}
.rendered_html * + ol {
  margin-top: 1em;
}
.rendered_html hr {
  color: black;
  background-color: black;
}
.rendered_html pre {
  margin: 1em 2em;
}
.rendered_html pre,
.rendered_html code {
  border: 0;
  background-color: #fff;
  color: #000;
  font-size: 100%;
  padding: 0px;
}
.rendered_html blockquote {
  margin: 1em 2em;
}
.rendered_html table {
  margin-left: auto;
  margin-right: auto;
  border: 1px solid black;
  border-collapse: collapse;
}
.rendered_html tr,
.rendered_html th,
.rendered_html td {
  border: 1px solid black;
  border-collapse: collapse;
  margin: 1em 2em;
}
.rendered_html td,
.rendered_html th {
  text-align: left;
  vertical-align: middle;
  padding: 4px;
}
.rendered_html th {
  font-weight: bold;
}
.rendered_html * + table {
  margin-top: 1em;
}
.rendered_html p {
  text-align: left;
}
.rendered_html * + p {
  margin-top: 1em;
}
.rendered_html img {
  display: block;
  margin-left: auto;
  margin-right: auto;
}
.rendered_html * + img {
  margin-top: 1em;
}
.rendered_html img,
.rendered_html svg {
  max-width: 100%;
  height: auto;
}
.rendered_html img.unconfined,
.rendered_html svg.unconfined {
  max-width: none;
}
div.text_cell {
  /* Old browsers */
  display: -webkit-box;
  -webkit-box-orient: horizontal;
  -webkit-box-align: stretch;
  display: -moz-box;
  -moz-box-orient: horizontal;
  -moz-box-align: stretch;
  display: box;
  box-orient: horizontal;
  box-align: stretch;
  /* Modern browsers */
  display: flex;
  flex-direction: row;
  align-items: stretch;
}
@media (max-width: 540px) {
  div.text_cell > div.prompt {
    display: none;
  }
}
div.text_cell_render {
  /*font-family: "Helvetica Neue", Arial, Helvetica, Geneva, sans-serif;*/
  outline: none;
  resize: none;
  width: inherit;
  border-style: none;
  padding: 0.5em 0.5em 0.5em 0.4em;
  color: #000;
  box-sizing: border-box;
  -moz-box-sizing: border-box;
  -webkit-box-sizing: border-box;
}
a.anchor-link:link {
  text-decoration: none;
  padding: 0px 20px;
  visibility: hidden;
}
h1:hover .anchor-link,
h2:hover .anchor-link,
h3:hover .anchor-link,
h4:hover .anchor-link,
h5:hover .anchor-link,
h6:hover .anchor-link {
  visibility: visible;
}
.text_cell.rendered .input_area {
  display: none;
}
.text_cell.rendered .rendered_html {
  overflow-x: auto;
  overflow-y: hidden;
}
.text_cell.unrendered .text_cell_render {
  display: none;
}
.cm-header-1,
.cm-header-2,
.cm-header-3,
.cm-header-4,
.cm-header-5,
.cm-header-6 {
  font-weight: bold;
  font-family: "Helvetica Neue", Helvetica, Arial, sans-serif;
}
.cm-header-1 {
  font-size: 185.7%;
}
.cm-header-2 {
  font-size: 157.1%;
}
.cm-header-3 {
  font-size: 128.6%;
}
.cm-header-4 {
  font-size: 110%;
}
.cm-header-5 {
  font-size: 100%;
  font-style: italic;
}
.cm-header-6 {
  font-size: 100%;
  font-style: italic;
}
/*!
*
* IPython notebook webapp
*
*/
@media (max-width: 767px) {
  .notebook_app {
    padding-left: 0px;
    padding-right: 0px;
  }
}
#ipython-main-app {
  box-sizing: border-box;
  -moz-box-sizing: border-box;
  -webkit-box-sizing: border-box;
  height: 100%;
}
div#notebook_panel {
  margin: 0px;
  padding: 0px;
  box-sizing: border-box;
  -moz-box-sizing: border-box;
  -webkit-box-sizing: border-box;
  height: 100%;
}
div#notebook {
  font-size: 14px;
  line-height: 20px;
  overflow-y: hidden;
  overflow-x: auto;
  width: 100%;
  /* This spaces the page away from the edge of the notebook area */
  padding-top: 20px;
  margin: 0px;
  outline: none;
  box-sizing: border-box;
  -moz-box-sizing: border-box;
  -webkit-box-sizing: border-box;
  min-height: 100%;
}
@media not print {
  #notebook-container {
    padding: 15px;
    background-color: #fff;
    min-height: 0;
    -webkit-box-shadow: 0px 0px 12px 1px rgba(87, 87, 87, 0.2);
    box-shadow: 0px 0px 12px 1px rgba(87, 87, 87, 0.2);
  }
}
@media print {
  #notebook-container {
    width: 100%;
  }
}
div.ui-widget-content {
  border: 1px solid #ababab;
  outline: none;
}
pre.dialog {
  background-color: #f7f7f7;
  border: 1px solid #ddd;
  border-radius: 2px;
  padding: 0.4em;
  padding-left: 2em;
}
p.dialog {
  padding: 0.2em;
}
/* Word-wrap output correctly.  This is the CSS3 spelling, though Firefox seems
   to not honor it correctly.  Webkit browsers (Chrome, rekonq, Safari) do.
 */
pre,
code,
kbd,
samp {
  white-space: pre-wrap;
}
#fonttest {
  font-family: monospace;
}
p {
  margin-bottom: 0;
}
.end_space {
  min-height: 100px;
  transition: height .2s ease;
}
.notebook_app > #header {
  -webkit-box-shadow: 0px 0px 12px 1px rgba(87, 87, 87, 0.2);
  box-shadow: 0px 0px 12px 1px rgba(87, 87, 87, 0.2);
}
@media not print {
  .notebook_app {
    background-color: #EEE;
  }
}
kbd {
  border-style: solid;
  border-width: 1px;
  box-shadow: none;
  margin: 2px;
  padding-left: 2px;
  padding-right: 2px;
  padding-top: 1px;
  padding-bottom: 1px;
}
/* CSS for the cell toolbar */
.celltoolbar {
  border: thin solid #CFCFCF;
  border-bottom: none;
  background: #EEE;
  border-radius: 2px 2px 0px 0px;
  width: 100%;
  height: 29px;
  padding-right: 4px;
  /* Old browsers */
  display: -webkit-box;
  -webkit-box-orient: horizontal;
  -webkit-box-align: stretch;
  display: -moz-box;
  -moz-box-orient: horizontal;
  -moz-box-align: stretch;
  display: box;
  box-orient: horizontal;
  box-align: stretch;
  /* Modern browsers */
  display: flex;
  flex-direction: row;
  align-items: stretch;
  /* Old browsers */
  -webkit-box-pack: end;
  -moz-box-pack: end;
  box-pack: end;
  /* Modern browsers */
  justify-content: flex-end;
  display: -webkit-flex;
}
@media print {
  .celltoolbar {
    display: none;
  }
}
.ctb_hideshow {
  display: none;
  vertical-align: bottom;
}
/* ctb_show is added to the ctb_hideshow div to show the cell toolbar.
   Cell toolbars are only shown when the ctb_global_show class is also set.
*/
.ctb_global_show .ctb_show.ctb_hideshow {
  display: block;
}
.ctb_global_show .ctb_show + .input_area,
.ctb_global_show .ctb_show + div.text_cell_input,
.ctb_global_show .ctb_show ~ div.text_cell_render {
  border-top-right-radius: 0px;
  border-top-left-radius: 0px;
}
.ctb_global_show .ctb_show ~ div.text_cell_render {
  border: 1px solid #cfcfcf;
}
.celltoolbar {
  font-size: 87%;
  padding-top: 3px;
}
.celltoolbar select {
  display: block;
  width: 100%;
  height: 32px;
  padding: 6px 12px;
  font-size: 13px;
  line-height: 1.42857143;
  color: #555555;
  background-color: #fff;
  background-image: none;
  border: 1px solid #ccc;
  border-radius: 2px;
  -webkit-box-shadow: inset 0 1px 1px rgba(0, 0, 0, 0.075);
  box-shadow: inset 0 1px 1px rgba(0, 0, 0, 0.075);
  -webkit-transition: border-color ease-in-out .15s, box-shadow ease-in-out .15s;
  -o-transition: border-color ease-in-out .15s, box-shadow ease-in-out .15s;
  transition: border-color ease-in-out .15s, box-shadow ease-in-out .15s;
  height: 30px;
  padding: 5px 10px;
  font-size: 12px;
  line-height: 1.5;
  border-radius: 1px;
  width: inherit;
  font-size: inherit;
  height: 22px;
  padding: 0px;
  display: inline-block;
}
.celltoolbar select:focus {
  border-color: #66afe9;
  outline: 0;
  -webkit-box-shadow: inset 0 1px 1px rgba(0,0,0,.075), 0 0 8px rgba(102, 175, 233, 0.6);
  box-shadow: inset 0 1px 1px rgba(0,0,0,.075), 0 0 8px rgba(102, 175, 233, 0.6);
}
.celltoolbar select::-moz-placeholder {
  color: #999;
  opacity: 1;
}
.celltoolbar select:-ms-input-placeholder {
  color: #999;
}
.celltoolbar select::-webkit-input-placeholder {
  color: #999;
}
.celltoolbar select::-ms-expand {
  border: 0;
  background-color: transparent;
}
.celltoolbar select[disabled],
.celltoolbar select[readonly],
fieldset[disabled] .celltoolbar select {
  background-color: #eeeeee;
  opacity: 1;
}
.celltoolbar select[disabled],
fieldset[disabled] .celltoolbar select {
  cursor: not-allowed;
}
textarea.celltoolbar select {
  height: auto;
}
select.celltoolbar select {
  height: 30px;
  line-height: 30px;
}
textarea.celltoolbar select,
select[multiple].celltoolbar select {
  height: auto;
}
.celltoolbar label {
  margin-left: 5px;
  margin-right: 5px;
}
.completions {
  position: absolute;
  z-index: 110;
  overflow: hidden;
  border: 1px solid #ababab;
  border-radius: 2px;
  -webkit-box-shadow: 0px 6px 10px -1px #adadad;
  box-shadow: 0px 6px 10px -1px #adadad;
  line-height: 1;
}
.completions select {
  background: white;
  outline: none;
  border: none;
  padding: 0px;
  margin: 0px;
  overflow: auto;
  font-family: monospace;
  font-size: 110%;
  color: #000;
  width: auto;
}
.completions select option.context {
  color: #286090;
}
#kernel_logo_widget {
  float: right !important;
  float: right;
}
#kernel_logo_widget .current_kernel_logo {
  display: none;
  margin-top: -1px;
  margin-bottom: -1px;
  width: 32px;
  height: 32px;
}
#menubar {
  box-sizing: border-box;
  -moz-box-sizing: border-box;
  -webkit-box-sizing: border-box;
  margin-top: 1px;
}
#menubar .navbar {
  border-top: 1px;
  border-radius: 0px 0px 2px 2px;
  margin-bottom: 0px;
}
#menubar .navbar-toggle {
  float: left;
  padding-top: 7px;
  padding-bottom: 7px;
  border: none;
}
#menubar .navbar-collapse {
  clear: left;
}
.nav-wrapper {
  border-bottom: 1px solid #e7e7e7;
}
i.menu-icon {
  padding-top: 4px;
}
ul#help_menu li a {
  overflow: hidden;
  padding-right: 2.2em;
}
ul#help_menu li a i {
  margin-right: -1.2em;
}
.dropdown-submenu {
  position: relative;
}
.dropdown-submenu > .dropdown-menu {
  top: 0;
  left: 100%;
  margin-top: -6px;
  margin-left: -1px;
}
.dropdown-submenu:hover > .dropdown-menu {
  display: block;
}
.dropdown-submenu > a:after {
  display: inline-block;
  font: normal normal normal 14px/1 FontAwesome;
  font-size: inherit;
  text-rendering: auto;
  -webkit-font-smoothing: antialiased;
  -moz-osx-font-smoothing: grayscale;
  display: block;
  content: "\f0da";
  float: right;
  color: #333333;
  margin-top: 2px;
  margin-right: -10px;
}
.dropdown-submenu > a:after.pull-left {
  margin-right: .3em;
}
.dropdown-submenu > a:after.pull-right {
  margin-left: .3em;
}
.dropdown-submenu:hover > a:after {
  color: #262626;
}
.dropdown-submenu.pull-left {
  float: none;
}
.dropdown-submenu.pull-left > .dropdown-menu {
  left: -100%;
  margin-left: 10px;
}
#notification_area {
  float: right !important;
  float: right;
  z-index: 10;
}
.indicator_area {
  float: right !important;
  float: right;
  color: #777;
  margin-left: 5px;
  margin-right: 5px;
  width: 11px;
  z-index: 10;
  text-align: center;
  width: auto;
}
#kernel_indicator {
  float: right !important;
  float: right;
  color: #777;
  margin-left: 5px;
  margin-right: 5px;
  width: 11px;
  z-index: 10;
  text-align: center;
  width: auto;
  border-left: 1px solid;
}
#kernel_indicator .kernel_indicator_name {
  padding-left: 5px;
  padding-right: 5px;
}
#modal_indicator {
  float: right !important;
  float: right;
  color: #777;
  margin-left: 5px;
  margin-right: 5px;
  width: 11px;
  z-index: 10;
  text-align: center;
  width: auto;
}
#readonly-indicator {
  float: right !important;
  float: right;
  color: #777;
  margin-left: 5px;
  margin-right: 5px;
  width: 11px;
  z-index: 10;
  text-align: center;
  width: auto;
  margin-top: 2px;
  margin-bottom: 0px;
  margin-left: 0px;
  margin-right: 0px;
  display: none;
}
.modal_indicator:before {
  width: 1.28571429em;
  text-align: center;
}
.edit_mode .modal_indicator:before {
  display: inline-block;
  font: normal normal normal 14px/1 FontAwesome;
  font-size: inherit;
  text-rendering: auto;
  -webkit-font-smoothing: antialiased;
  -moz-osx-font-smoothing: grayscale;
  content: "\f040";
}
.edit_mode .modal_indicator:before.pull-left {
  margin-right: .3em;
}
.edit_mode .modal_indicator:before.pull-right {
  margin-left: .3em;
}
.command_mode .modal_indicator:before {
  display: inline-block;
  font: normal normal normal 14px/1 FontAwesome;
  font-size: inherit;
  text-rendering: auto;
  -webkit-font-smoothing: antialiased;
  -moz-osx-font-smoothing: grayscale;
  content: ' ';
}
.command_mode .modal_indicator:before.pull-left {
  margin-right: .3em;
}
.command_mode .modal_indicator:before.pull-right {
  margin-left: .3em;
}
.kernel_idle_icon:before {
  display: inline-block;
  font: normal normal normal 14px/1 FontAwesome;
  font-size: inherit;
  text-rendering: auto;
  -webkit-font-smoothing: antialiased;
  -moz-osx-font-smoothing: grayscale;
  content: "\f10c";
}
.kernel_idle_icon:before.pull-left {
  margin-right: .3em;
}
.kernel_idle_icon:before.pull-right {
  margin-left: .3em;
}
.kernel_busy_icon:before {
  display: inline-block;
  font: normal normal normal 14px/1 FontAwesome;
  font-size: inherit;
  text-rendering: auto;
  -webkit-font-smoothing: antialiased;
  -moz-osx-font-smoothing: grayscale;
  content: "\f111";
}
.kernel_busy_icon:before.pull-left {
  margin-right: .3em;
}
.kernel_busy_icon:before.pull-right {
  margin-left: .3em;
}
.kernel_dead_icon:before {
  display: inline-block;
  font: normal normal normal 14px/1 FontAwesome;
  font-size: inherit;
  text-rendering: auto;
  -webkit-font-smoothing: antialiased;
  -moz-osx-font-smoothing: grayscale;
  content: "\f1e2";
}
.kernel_dead_icon:before.pull-left {
  margin-right: .3em;
}
.kernel_dead_icon:before.pull-right {
  margin-left: .3em;
}
.kernel_disconnected_icon:before {
  display: inline-block;
  font: normal normal normal 14px/1 FontAwesome;
  font-size: inherit;
  text-rendering: auto;
  -webkit-font-smoothing: antialiased;
  -moz-osx-font-smoothing: grayscale;
  content: "\f127";
}
.kernel_disconnected_icon:before.pull-left {
  margin-right: .3em;
}
.kernel_disconnected_icon:before.pull-right {
  margin-left: .3em;
}
.notification_widget {
  color: #777;
  z-index: 10;
  background: rgba(240, 240, 240, 0.5);
  margin-right: 4px;
  color: #333;
  background-color: #fff;
  border-color: #ccc;
}
.notification_widget:focus,
.notification_widget.focus {
  color: #333;
  background-color: #e6e6e6;
  border-color: #8c8c8c;
}
.notification_widget:hover {
  color: #333;
  background-color: #e6e6e6;
  border-color: #adadad;
}
.notification_widget:active,
.notification_widget.active,
.open > .dropdown-toggle.notification_widget {
  color: #333;
  background-color: #e6e6e6;
  border-color: #adadad;
}
.notification_widget:active:hover,
.notification_widget.active:hover,
.open > .dropdown-toggle.notification_widget:hover,
.notification_widget:active:focus,
.notification_widget.active:focus,
.open > .dropdown-toggle.notification_widget:focus,
.notification_widget:active.focus,
.notification_widget.active.focus,
.open > .dropdown-toggle.notification_widget.focus {
  color: #333;
  background-color: #d4d4d4;
  border-color: #8c8c8c;
}
.notification_widget:active,
.notification_widget.active,
.open > .dropdown-toggle.notification_widget {
  background-image: none;
}
.notification_widget.disabled:hover,
.notification_widget[disabled]:hover,
fieldset[disabled] .notification_widget:hover,
.notification_widget.disabled:focus,
.notification_widget[disabled]:focus,
fieldset[disabled] .notification_widget:focus,
.notification_widget.disabled.focus,
.notification_widget[disabled].focus,
fieldset[disabled] .notification_widget.focus {
  background-color: #fff;
  border-color: #ccc;
}
.notification_widget .badge {
  color: #fff;
  background-color: #333;
}
.notification_widget.warning {
  color: #fff;
  background-color: #f0ad4e;
  border-color: #eea236;
}
.notification_widget.warning:focus,
.notification_widget.warning.focus {
  color: #fff;
  background-color: #ec971f;
  border-color: #985f0d;
}
.notification_widget.warning:hover {
  color: #fff;
  background-color: #ec971f;
  border-color: #d58512;
}
.notification_widget.warning:active,
.notification_widget.warning.active,
.open > .dropdown-toggle.notification_widget.warning {
  color: #fff;
  background-color: #ec971f;
  border-color: #d58512;
}
.notification_widget.warning:active:hover,
.notification_widget.warning.active:hover,
.open > .dropdown-toggle.notification_widget.warning:hover,
.notification_widget.warning:active:focus,
.notification_widget.warning.active:focus,
.open > .dropdown-toggle.notification_widget.warning:focus,
.notification_widget.warning:active.focus,
.notification_widget.warning.active.focus,
.open > .dropdown-toggle.notification_widget.warning.focus {
  color: #fff;
  background-color: #d58512;
  border-color: #985f0d;
}
.notification_widget.warning:active,
.notification_widget.warning.active,
.open > .dropdown-toggle.notification_widget.warning {
  background-image: none;
}
.notification_widget.warning.disabled:hover,
.notification_widget.warning[disabled]:hover,
fieldset[disabled] .notification_widget.warning:hover,
.notification_widget.warning.disabled:focus,
.notification_widget.warning[disabled]:focus,
fieldset[disabled] .notification_widget.warning:focus,
.notification_widget.warning.disabled.focus,
.notification_widget.warning[disabled].focus,
fieldset[disabled] .notification_widget.warning.focus {
  background-color: #f0ad4e;
  border-color: #eea236;
}
.notification_widget.warning .badge {
  color: #f0ad4e;
  background-color: #fff;
}
.notification_widget.success {
  color: #fff;
  background-color: #5cb85c;
  border-color: #4cae4c;
}
.notification_widget.success:focus,
.notification_widget.success.focus {
  color: #fff;
  background-color: #449d44;
  border-color: #255625;
}
.notification_widget.success:hover {
  color: #fff;
  background-color: #449d44;
  border-color: #398439;
}
.notification_widget.success:active,
.notification_widget.success.active,
.open > .dropdown-toggle.notification_widget.success {
  color: #fff;
  background-color: #449d44;
  border-color: #398439;
}
.notification_widget.success:active:hover,
.notification_widget.success.active:hover,
.open > .dropdown-toggle.notification_widget.success:hover,
.notification_widget.success:active:focus,
.notification_widget.success.active:focus,
.open > .dropdown-toggle.notification_widget.success:focus,
.notification_widget.success:active.focus,
.notification_widget.success.active.focus,
.open > .dropdown-toggle.notification_widget.success.focus {
  color: #fff;
  background-color: #398439;
  border-color: #255625;
}
.notification_widget.success:active,
.notification_widget.success.active,
.open > .dropdown-toggle.notification_widget.success {
  background-image: none;
}
.notification_widget.success.disabled:hover,
.notification_widget.success[disabled]:hover,
fieldset[disabled] .notification_widget.success:hover,
.notification_widget.success.disabled:focus,
.notification_widget.success[disabled]:focus,
fieldset[disabled] .notification_widget.success:focus,
.notification_widget.success.disabled.focus,
.notification_widget.success[disabled].focus,
fieldset[disabled] .notification_widget.success.focus {
  background-color: #5cb85c;
  border-color: #4cae4c;
}
.notification_widget.success .badge {
  color: #5cb85c;
  background-color: #fff;
}
.notification_widget.info {
  color: #fff;
  background-color: #5bc0de;
  border-color: #46b8da;
}
.notification_widget.info:focus,
.notification_widget.info.focus {
  color: #fff;
  background-color: #31b0d5;
  border-color: #1b6d85;
}
.notification_widget.info:hover {
  color: #fff;
  background-color: #31b0d5;
  border-color: #269abc;
}
.notification_widget.info:active,
.notification_widget.info.active,
.open > .dropdown-toggle.notification_widget.info {
  color: #fff;
  background-color: #31b0d5;
  border-color: #269abc;
}
.notification_widget.info:active:hover,
.notification_widget.info.active:hover,
.open > .dropdown-toggle.notification_widget.info:hover,
.notification_widget.info:active:focus,
.notification_widget.info.active:focus,
.open > .dropdown-toggle.notification_widget.info:focus,
.notification_widget.info:active.focus,
.notification_widget.info.active.focus,
.open > .dropdown-toggle.notification_widget.info.focus {
  color: #fff;
  background-color: #269abc;
  border-color: #1b6d85;
}
.notification_widget.info:active,
.notification_widget.info.active,
.open > .dropdown-toggle.notification_widget.info {
  background-image: none;
}
.notification_widget.info.disabled:hover,
.notification_widget.info[disabled]:hover,
fieldset[disabled] .notification_widget.info:hover,
.notification_widget.info.disabled:focus,
.notification_widget.info[disabled]:focus,
fieldset[disabled] .notification_widget.info:focus,
.notification_widget.info.disabled.focus,
.notification_widget.info[disabled].focus,
fieldset[disabled] .notification_widget.info.focus {
  background-color: #5bc0de;
  border-color: #46b8da;
}
.notification_widget.info .badge {
  color: #5bc0de;
  background-color: #fff;
}
.notification_widget.danger {
  color: #fff;
  background-color: #d9534f;
  border-color: #d43f3a;
}
.notification_widget.danger:focus,
.notification_widget.danger.focus {
  color: #fff;
  background-color: #c9302c;
  border-color: #761c19;
}
.notification_widget.danger:hover {
  color: #fff;
  background-color: #c9302c;
  border-color: #ac2925;
}
.notification_widget.danger:active,
.notification_widget.danger.active,
.open > .dropdown-toggle.notification_widget.danger {
  color: #fff;
  background-color: #c9302c;
  border-color: #ac2925;
}
.notification_widget.danger:active:hover,
.notification_widget.danger.active:hover,
.open > .dropdown-toggle.notification_widget.danger:hover,
.notification_widget.danger:active:focus,
.notification_widget.danger.active:focus,
.open > .dropdown-toggle.notification_widget.danger:focus,
.notification_widget.danger:active.focus,
.notification_widget.danger.active.focus,
.open > .dropdown-toggle.notification_widget.danger.focus {
  color: #fff;
  background-color: #ac2925;
  border-color: #761c19;
}
.notification_widget.danger:active,
.notification_widget.danger.active,
.open > .dropdown-toggle.notification_widget.danger {
  background-image: none;
}
.notification_widget.danger.disabled:hover,
.notification_widget.danger[disabled]:hover,
fieldset[disabled] .notification_widget.danger:hover,
.notification_widget.danger.disabled:focus,
.notification_widget.danger[disabled]:focus,
fieldset[disabled] .notification_widget.danger:focus,
.notification_widget.danger.disabled.focus,
.notification_widget.danger[disabled].focus,
fieldset[disabled] .notification_widget.danger.focus {
  background-color: #d9534f;
  border-color: #d43f3a;
}
.notification_widget.danger .badge {
  color: #d9534f;
  background-color: #fff;
}
div#pager {
  background-color: #fff;
  font-size: 14px;
  line-height: 20px;
  overflow: hidden;
  display: none;
  position: fixed;
  bottom: 0px;
  width: 100%;
  max-height: 50%;
  padding-top: 8px;
  -webkit-box-shadow: 0px 0px 12px 1px rgba(87, 87, 87, 0.2);
  box-shadow: 0px 0px 12px 1px rgba(87, 87, 87, 0.2);
  /* Display over codemirror */
  z-index: 100;
  /* Hack which prevents jquery ui resizable from changing top. */
  top: auto !important;
}
div#pager pre {
  line-height: 1.21429em;
  color: #000;
  background-color: #f7f7f7;
  padding: 0.4em;
}
div#pager #pager-button-area {
  position: absolute;
  top: 8px;
  right: 20px;
}
div#pager #pager-contents {
  position: relative;
  overflow: auto;
  width: 100%;
  height: 100%;
}
div#pager #pager-contents #pager-container {
  position: relative;
  padding: 15px 0px;
  box-sizing: border-box;
  -moz-box-sizing: border-box;
  -webkit-box-sizing: border-box;
}
div#pager .ui-resizable-handle {
  top: 0px;
  height: 8px;
  background: #f7f7f7;
  border-top: 1px solid #cfcfcf;
  border-bottom: 1px solid #cfcfcf;
  /* This injects handle bars (a short, wide = symbol) for 
        the resize handle. */
}
div#pager .ui-resizable-handle::after {
  content: '';
  top: 2px;
  left: 50%;
  height: 3px;
  width: 30px;
  margin-left: -15px;
  position: absolute;
  border-top: 1px solid #cfcfcf;
}
.quickhelp {
  /* Old browsers */
  display: -webkit-box;
  -webkit-box-orient: horizontal;
  -webkit-box-align: stretch;
  display: -moz-box;
  -moz-box-orient: horizontal;
  -moz-box-align: stretch;
  display: box;
  box-orient: horizontal;
  box-align: stretch;
  /* Modern browsers */
  display: flex;
  flex-direction: row;
  align-items: stretch;
  line-height: 1.8em;
}
.shortcut_key {
  display: inline-block;
  width: 21ex;
  text-align: right;
  font-family: monospace;
}
.shortcut_descr {
  display: inline-block;
  /* Old browsers */
  -webkit-box-flex: 1;
  -moz-box-flex: 1;
  box-flex: 1;
  /* Modern browsers */
  flex: 1;
}
span.save_widget {
  margin-top: 6px;
}
span.save_widget span.filename {
  height: 1em;
  line-height: 1em;
  padding: 3px;
  margin-left: 16px;
  border: none;
  font-size: 146.5%;
  border-radius: 2px;
}
span.save_widget span.filename:hover {
  background-color: #e6e6e6;
}
span.checkpoint_status,
span.autosave_status {
  font-size: small;
}
@media (max-width: 767px) {
  span.save_widget {
    font-size: small;
  }
  span.checkpoint_status,
  span.autosave_status {
    display: none;
  }
}
@media (min-width: 768px) and (max-width: 991px) {
  span.checkpoint_status {
    display: none;
  }
  span.autosave_status {
    font-size: x-small;
  }
}
.toolbar {
  padding: 0px;
  margin-left: -5px;
  margin-top: 2px;
  margin-bottom: 5px;
  box-sizing: border-box;
  -moz-box-sizing: border-box;
  -webkit-box-sizing: border-box;
}
.toolbar select,
.toolbar label {
  width: auto;
  vertical-align: middle;
  margin-right: 2px;
  margin-bottom: 0px;
  display: inline;
  font-size: 92%;
  margin-left: 0.3em;
  margin-right: 0.3em;
  padding: 0px;
  padding-top: 3px;
}
.toolbar .btn {
  padding: 2px 8px;
}
.toolbar .btn-group {
  margin-top: 0px;
  margin-left: 5px;
}
#maintoolbar {
  margin-bottom: -3px;
  margin-top: -8px;
  border: 0px;
  min-height: 27px;
  margin-left: 0px;
  padding-top: 11px;
  padding-bottom: 3px;
}
#maintoolbar .navbar-text {
  float: none;
  vertical-align: middle;
  text-align: right;
  margin-left: 5px;
  margin-right: 0px;
  margin-top: 0px;
}
.select-xs {
  height: 24px;
}
.pulse,
.dropdown-menu > li > a.pulse,
li.pulse > a.dropdown-toggle,
li.pulse.open > a.dropdown-toggle {
  background-color: #F37626;
  color: white;
}
/**
 * Primary styles
 *
 * Author: Jupyter Development Team
 */
/** WARNING IF YOU ARE EDITTING THIS FILE, if this is a .css file, It has a lot
 * of chance of beeing generated from the ../less/[samename].less file, you can
 * try to get back the less file by reverting somme commit in history
 **/
/*
 * We'll try to get something pretty, so we
 * have some strange css to have the scroll bar on
 * the left with fix button on the top right of the tooltip
 */
@-moz-keyframes fadeOut {
  from {
    opacity: 1;
  }
  to {
    opacity: 0;
  }
}
@-webkit-keyframes fadeOut {
  from {
    opacity: 1;
  }
  to {
    opacity: 0;
  }
}
@-moz-keyframes fadeIn {
  from {
    opacity: 0;
  }
  to {
    opacity: 1;
  }
}
@-webkit-keyframes fadeIn {
  from {
    opacity: 0;
  }
  to {
    opacity: 1;
  }
}
/*properties of tooltip after "expand"*/
.bigtooltip {
  overflow: auto;
  height: 200px;
  -webkit-transition-property: height;
  -webkit-transition-duration: 500ms;
  -moz-transition-property: height;
  -moz-transition-duration: 500ms;
  transition-property: height;
  transition-duration: 500ms;
}
/*properties of tooltip before "expand"*/
.smalltooltip {
  -webkit-transition-property: height;
  -webkit-transition-duration: 500ms;
  -moz-transition-property: height;
  -moz-transition-duration: 500ms;
  transition-property: height;
  transition-duration: 500ms;
  text-overflow: ellipsis;
  overflow: hidden;
  height: 80px;
}
.tooltipbuttons {
  position: absolute;
  padding-right: 15px;
  top: 0px;
  right: 0px;
}
.tooltiptext {
  /*avoid the button to overlap on some docstring*/
  padding-right: 30px;
}
.ipython_tooltip {
  max-width: 700px;
  /*fade-in animation when inserted*/
  -webkit-animation: fadeOut 400ms;
  -moz-animation: fadeOut 400ms;
  animation: fadeOut 400ms;
  -webkit-animation: fadeIn 400ms;
  -moz-animation: fadeIn 400ms;
  animation: fadeIn 400ms;
  vertical-align: middle;
  background-color: #f7f7f7;
  overflow: visible;
  border: #ababab 1px solid;
  outline: none;
  padding: 3px;
  margin: 0px;
  padding-left: 7px;
  font-family: monospace;
  min-height: 50px;
  -moz-box-shadow: 0px 6px 10px -1px #adadad;
  -webkit-box-shadow: 0px 6px 10px -1px #adadad;
  box-shadow: 0px 6px 10px -1px #adadad;
  border-radius: 2px;
  position: absolute;
  z-index: 1000;
}
.ipython_tooltip a {
  float: right;
}
.ipython_tooltip .tooltiptext pre {
  border: 0;
  border-radius: 0;
  font-size: 100%;
  background-color: #f7f7f7;
}
.pretooltiparrow {
  left: 0px;
  margin: 0px;
  top: -16px;
  width: 40px;
  height: 16px;
  overflow: hidden;
  position: absolute;
}
.pretooltiparrow:before {
  background-color: #f7f7f7;
  border: 1px #ababab solid;
  z-index: 11;
  content: "";
  position: absolute;
  left: 15px;
  top: 10px;
  width: 25px;
  height: 25px;
  -webkit-transform: rotate(45deg);
  -moz-transform: rotate(45deg);
  -ms-transform: rotate(45deg);
  -o-transform: rotate(45deg);
}
ul.typeahead-list i {
  margin-left: -10px;
  width: 18px;
}
ul.typeahead-list {
  max-height: 80vh;
  overflow: auto;
}
ul.typeahead-list > li > a {
  /** Firefox bug **/
  /* see https://github.com/jupyter/notebook/issues/559 */
  white-space: normal;
}
.cmd-palette .modal-body {
  padding: 7px;
}
.cmd-palette form {
  background: white;
}
.cmd-palette input {
  outline: none;
}
.no-shortcut {
  display: none;
}
.command-shortcut:before {
  content: "(command)";
  padding-right: 3px;
  color: #777777;
}
.edit-shortcut:before {
  content: "(edit)";
  padding-right: 3px;
  color: #777777;
}
#find-and-replace #replace-preview .match,
#find-and-replace #replace-preview .insert {
  background-color: #BBDEFB;
  border-color: #90CAF9;
  border-style: solid;
  border-width: 1px;
  border-radius: 0px;
}
#find-and-replace #replace-preview .replace .match {
  background-color: #FFCDD2;
  border-color: #EF9A9A;
  border-radius: 0px;
}
#find-and-replace #replace-preview .replace .insert {
  background-color: #C8E6C9;
  border-color: #A5D6A7;
  border-radius: 0px;
}
#find-and-replace #replace-preview {
  max-height: 60vh;
  overflow: auto;
}
#find-and-replace #replace-preview pre {
  padding: 5px 10px;
}
.terminal-app {
  background: #EEE;
}
.terminal-app #header {
  background: #fff;
  -webkit-box-shadow: 0px 0px 12px 1px rgba(87, 87, 87, 0.2);
  box-shadow: 0px 0px 12px 1px rgba(87, 87, 87, 0.2);
}
.terminal-app .terminal {
  width: 100%;
  float: left;
  font-family: monospace;
  color: white;
  background: black;
  padding: 0.4em;
  border-radius: 2px;
  -webkit-box-shadow: 0px 0px 12px 1px rgba(87, 87, 87, 0.4);
  box-shadow: 0px 0px 12px 1px rgba(87, 87, 87, 0.4);
}
.terminal-app .terminal,
.terminal-app .terminal dummy-screen {
  line-height: 1em;
  font-size: 14px;
}
.terminal-app .terminal .xterm-rows {
  padding: 10px;
}
.terminal-app .terminal-cursor {
  color: black;
  background: white;
}
.terminal-app #terminado-container {
  margin-top: 20px;
}
/*# sourceMappingURL=style.min.css.map */
    </style>
<style type="text/css">
    .highlight .hll { background-color: #ffffcc }
.highlight  { background: #f8f8f8; }
.highlight .c { color: #408080; font-style: italic } /* Comment */
.highlight .err { border: 1px solid #FF0000 } /* Error */
.highlight .k { color: #008000; font-weight: bold } /* Keyword */
.highlight .o { color: #666666 } /* Operator */
.highlight .ch { color: #408080; font-style: italic } /* Comment.Hashbang */
.highlight .cm { color: #408080; font-style: italic } /* Comment.Multiline */
.highlight .cp { color: #BC7A00 } /* Comment.Preproc */
.highlight .cpf { color: #408080; font-style: italic } /* Comment.PreprocFile */
.highlight .c1 { color: #408080; font-style: italic } /* Comment.Single */
.highlight .cs { color: #408080; font-style: italic } /* Comment.Special */
.highlight .gd { color: #A00000 } /* Generic.Deleted */
.highlight .ge { font-style: italic } /* Generic.Emph */
.highlight .gr { color: #FF0000 } /* Generic.Error */
.highlight .gh { color: #000080; font-weight: bold } /* Generic.Heading */
.highlight .gi { color: #00A000 } /* Generic.Inserted */
.highlight .go { color: #888888 } /* Generic.Output */
.highlight .gp { color: #000080; font-weight: bold } /* Generic.Prompt */
.highlight .gs { font-weight: bold } /* Generic.Strong */
.highlight .gu { color: #800080; font-weight: bold } /* Generic.Subheading */
.highlight .gt { color: #0044DD } /* Generic.Traceback */
.highlight .kc { color: #008000; font-weight: bold } /* Keyword.Constant */
.highlight .kd { color: #008000; font-weight: bold } /* Keyword.Declaration */
.highlight .kn { color: #008000; font-weight: bold } /* Keyword.Namespace */
.highlight .kp { color: #008000 } /* Keyword.Pseudo */
.highlight .kr { color: #008000; font-weight: bold } /* Keyword.Reserved */
.highlight .kt { color: #B00040 } /* Keyword.Type */
.highlight .m { color: #666666 } /* Literal.Number */
.highlight .s { color: #BA2121 } /* Literal.String */
.highlight .na { color: #7D9029 } /* Name.Attribute */
.highlight .nb { color: #008000 } /* Name.Builtin */
.highlight .nc { color: #0000FF; font-weight: bold } /* Name.Class */
.highlight .no { color: #880000 } /* Name.Constant */
.highlight .nd { color: #AA22FF } /* Name.Decorator */
.highlight .ni { color: #999999; font-weight: bold } /* Name.Entity */
.highlight .ne { color: #D2413A; font-weight: bold } /* Name.Exception */
.highlight .nf { color: #0000FF } /* Name.Function */
.highlight .nl { color: #A0A000 } /* Name.Label */
.highlight .nn { color: #0000FF; font-weight: bold } /* Name.Namespace */
.highlight .nt { color: #008000; font-weight: bold } /* Name.Tag */
.highlight .nv { color: #19177C } /* Name.Variable */
.highlight .ow { color: #AA22FF; font-weight: bold } /* Operator.Word */
.highlight .w { color: #bbbbbb } /* Text.Whitespace */
.highlight .mb { color: #666666 } /* Literal.Number.Bin */
.highlight .mf { color: #666666 } /* Literal.Number.Float */
.highlight .mh { color: #666666 } /* Literal.Number.Hex */
.highlight .mi { color: #666666 } /* Literal.Number.Integer */
.highlight .mo { color: #666666 } /* Literal.Number.Oct */
.highlight .sa { color: #BA2121 } /* Literal.String.Affix */
.highlight .sb { color: #BA2121 } /* Literal.String.Backtick */
.highlight .sc { color: #BA2121 } /* Literal.String.Char */
.highlight .dl { color: #BA2121 } /* Literal.String.Delimiter */
.highlight .sd { color: #BA2121; font-style: italic } /* Literal.String.Doc */
.highlight .s2 { color: #BA2121 } /* Literal.String.Double */
.highlight .se { color: #BB6622; font-weight: bold } /* Literal.String.Escape */
.highlight .sh { color: #BA2121 } /* Literal.String.Heredoc */
.highlight .si { color: #BB6688; font-weight: bold } /* Literal.String.Interpol */
.highlight .sx { color: #008000 } /* Literal.String.Other */
.highlight .sr { color: #BB6688 } /* Literal.String.Regex */
.highlight .s1 { color: #BA2121 } /* Literal.String.Single */
.highlight .ss { color: #19177C } /* Literal.String.Symbol */
.highlight .bp { color: #008000 } /* Name.Builtin.Pseudo */
.highlight .fm { color: #0000FF } /* Name.Function.Magic */
.highlight .vc { color: #19177C } /* Name.Variable.Class */
.highlight .vg { color: #19177C } /* Name.Variable.Global */
.highlight .vi { color: #19177C } /* Name.Variable.Instance */
.highlight .vm { color: #19177C } /* Name.Variable.Magic */
.highlight .il { color: #666666 } /* Literal.Number.Integer.Long */
    </style>
<style type="text/css">
    
/* Temporary definitions which will become obsolete with Notebook release 5.0 */
.ansi-black-fg { color: #3E424D; }
.ansi-black-bg { background-color: #3E424D; }
.ansi-black-intense-fg { color: #282C36; }
.ansi-black-intense-bg { background-color: #282C36; }
.ansi-red-fg { color: #E75C58; }
.ansi-red-bg { background-color: #E75C58; }
.ansi-red-intense-fg { color: #B22B31; }
.ansi-red-intense-bg { background-color: #B22B31; }
.ansi-green-fg { color: #00A250; }
.ansi-green-bg { background-color: #00A250; }
.ansi-green-intense-fg { color: #007427; }
.ansi-green-intense-bg { background-color: #007427; }
.ansi-yellow-fg { color: #DDB62B; }
.ansi-yellow-bg { background-color: #DDB62B; }
.ansi-yellow-intense-fg { color: #B27D12; }
.ansi-yellow-intense-bg { background-color: #B27D12; }
.ansi-blue-fg { color: #208FFB; }
.ansi-blue-bg { background-color: #208FFB; }
.ansi-blue-intense-fg { color: #0065CA; }
.ansi-blue-intense-bg { background-color: #0065CA; }
.ansi-magenta-fg { color: #D160C4; }
.ansi-magenta-bg { background-color: #D160C4; }
.ansi-magenta-intense-fg { color: #A03196; }
.ansi-magenta-intense-bg { background-color: #A03196; }
.ansi-cyan-fg { color: #60C6C8; }
.ansi-cyan-bg { background-color: #60C6C8; }
.ansi-cyan-intense-fg { color: #258F8F; }
.ansi-cyan-intense-bg { background-color: #258F8F; }
.ansi-white-fg { color: #C5C1B4; }
.ansi-white-bg { background-color: #C5C1B4; }
.ansi-white-intense-fg { color: #A1A6B2; }
.ansi-white-intense-bg { background-color: #A1A6B2; }

.ansi-bold { font-weight: bold; }

    </style>


<style type="text/css">
/* Overrides of notebook CSS for static HTML export */
body {
  overflow: visible;
  padding: 8px;
}

div#notebook {
  overflow: visible;
  border-top: none;
}@media print {
  div.cell {
    display: block;
    page-break-inside: avoid;
  } 
  div.output_wrapper { 
    display: block;
    page-break-inside: avoid; 
  }
  div.output { 
    display: block;
    page-break-inside: avoid; 
  }
}
</style>

<!-- Custom stylesheet, it must be in the same directory as the html file -->
<link rel="stylesheet" href="custom.css">

<!-- Loading mathjax macro -->
<!-- Load mathjax -->
    <script src="https://cdnjs.cloudflare.com/ajax/libs/mathjax/2.7.1/MathJax.js?config=TeX-AMS_HTML"></script>
    <!-- MathJax configuration -->
    <script type="text/x-mathjax-config">
    MathJax.Hub.Config({
        tex2jax: {
            inlineMath: [ ['$','$'], ["\\(","\\)"] ],
            displayMath: [ ['$$','$$'], ["\\[","\\]"] ],
            processEscapes: true,
            processEnvironments: true
        },
        // Center justify equations in code and markdown cells. Elsewhere
        // we use CSS to left justify single line equations in code cells.
        displayAlign: 'center',
        "HTML-CSS": {
            styles: {'.MathJax_Display': {"margin": 0}},
            linebreaks: { automatic: true }
        }
    });
    </script>
    <!-- End of mathjax configuration --></head>
<body>
  <div tabindex="-1" id="notebook" class="border-box-sizing">
    <div class="container" id="notebook-container">

<div class="cell border-box-sizing text_cell rendered"><div class="prompt input_prompt">
</div>
<div class="inner_cell">
<div class="text_cell_render border-box-sizing rendered_html">
<h1 id="Developing-an-AI-application">Developing an AI application<a class="anchor-link" href="#Developing-an-AI-application">&#182;</a></h1><p>Going forward, AI algorithms will be incorporated into more and more everyday applications. For example, you might want to include an image classifier in a smart phone app. To do this, you'd use a deep learning model trained on hundreds of thousands of images as part of the overall application architecture. A large part of software development in the future will be using these types of models as common parts of applications.</p>
<p>In this project, you'll train an image classifier to recognize different species of flowers. You can imagine using something like this in a phone app that tells you the name of the flower your camera is looking at. In practice you'd train this classifier, then export it for use in your application. We'll be using <a href="http://www.robots.ox.ac.uk/~vgg/data/flowers/102/index.html">this dataset</a> of 102 flower categories, you can see a few examples below.</p>
<p><img src='assets/Flowers.png' width=500px></p>
<p>The project is broken down into multiple steps:</p>
<ul>
<li>Load and preprocess the image dataset</li>
<li>Train the image classifier on your dataset</li>
<li>Use the trained classifier to predict image content</li>
</ul>
<p>We'll lead you through each part which you'll implement in Python.</p>
<p>When you've completed this project, you'll have an application that can be trained on any set of labeled images. Here your network will be learning about flowers and end up as a command line application. But, what you do with your new skills depends on your imagination and effort in building a dataset. For example, imagine an app where you take a picture of a car, it tells you what the make and model is, then looks up information about it. Go build your own dataset and make something new.</p>
<p>First up is importing the packages you'll need. It's good practice to keep all the imports at the beginning of your code. As you work through this notebook and find you need to import a package, make sure to add the import up here.</p>

</div>
</div>
</div>
<div class="cell border-box-sizing code_cell rendered">
<div class="input">
<div class="prompt input_prompt">In&nbsp;[1]:</div>
<div class="inner_cell">
    <div class="input_area">
<div class=" highlight hl-ipython3"><pre><span></span><span class="c1"># Imports here</span>
<span class="o">%</span><span class="k">matplotlib</span> inline
<span class="o">%</span><span class="k">config</span> InlineBackend.figure_format = &#39;retina&#39;

<span class="kn">import</span> <span class="nn">matplotlib.pyplot</span> <span class="k">as</span> <span class="nn">plt</span>
<span class="kn">import</span> <span class="nn">matplotlib.image</span> <span class="k">as</span> <span class="nn">mpimg</span>
<span class="kn">import</span> <span class="nn">numpy</span> <span class="k">as</span> <span class="nn">np</span>
<span class="kn">import</span> <span class="nn">time</span>
<span class="kn">import</span> <span class="nn">torch</span>
<span class="kn">import</span> <span class="nn">matplotlib.gridspec</span> <span class="k">as</span> <span class="nn">gridspec</span>
<span class="kn">import</span> <span class="nn">torch.nn.functional</span> <span class="k">as</span> <span class="nn">F</span>
<span class="kn">import</span> <span class="nn">json</span>
<span class="kn">from</span> <span class="nn">PIL</span> <span class="k">import</span> <span class="n">Image</span>
<span class="kn">from</span> <span class="nn">torch</span> <span class="k">import</span> <span class="n">nn</span>
<span class="kn">from</span> <span class="nn">torch</span> <span class="k">import</span> <span class="n">optim</span>
<span class="kn">from</span> <span class="nn">torch.autograd</span> <span class="k">import</span> <span class="n">Variable</span>
<span class="kn">from</span> <span class="nn">torchvision</span> <span class="k">import</span> <span class="n">datasets</span><span class="p">,</span><span class="n">transforms</span><span class="p">,</span><span class="n">models</span>
<span class="kn">from</span> <span class="nn">collections</span> <span class="k">import</span> <span class="n">OrderedDict</span>
</pre></div>

</div>
</div>
</div>

</div>
<div class="cell border-box-sizing text_cell rendered"><div class="prompt input_prompt">
</div>
<div class="inner_cell">
<div class="text_cell_render border-box-sizing rendered_html">
<h2 id="Load-the-data">Load the data<a class="anchor-link" href="#Load-the-data">&#182;</a></h2><p>Here you'll use <code>torchvision</code> to load the data (<a href="http://pytorch.org/docs/0.3.0/torchvision/index.html">documentation</a>). The data should be included alongside this notebook, otherwise you can <a href="https://s3.amazonaws.com/content.udacity-data.com/nd089/flower_data.tar.gz">download it here</a>. The dataset is split into three parts, training, validation, and testing. For the training, you'll want to apply transformations such as random scaling, cropping, and flipping. This will help the network generalize leading to better performance. You'll also need to make sure the input data is resized to 224x224 pixels as required by the pre-trained networks.</p>
<p>The validation and testing sets are used to measure the model's performance on data it hasn't seen yet. For this you don't want any scaling or rotation transformations, but you'll need to resize then crop the images to the appropriate size.</p>
<p>The pre-trained networks you'll use were trained on the ImageNet dataset where each color channel was normalized separately. For all three sets you'll need to normalize the means and standard deviations of the images to what the network expects. For the means, it's <code>[0.485, 0.456, 0.406]</code> and for the standard deviations <code>[0.229, 0.224, 0.225]</code>, calculated from the ImageNet images.  These values will shift each color channel to be centered at 0 and range from -1 to 1.</p>

</div>
</div>
</div>
<div class="cell border-box-sizing code_cell rendered">
<div class="input">
<div class="prompt input_prompt">In&nbsp;[2]:</div>
<div class="inner_cell">
    <div class="input_area">
<div class=" highlight hl-ipython3"><pre><span></span><span class="n">data_dir</span> <span class="o">=</span> <span class="s1">&#39;flowers&#39;</span>
<span class="n">train_dir</span> <span class="o">=</span> <span class="n">data_dir</span> <span class="o">+</span> <span class="s1">&#39;/train&#39;</span>
<span class="n">valid_dir</span> <span class="o">=</span> <span class="n">data_dir</span> <span class="o">+</span> <span class="s1">&#39;/valid&#39;</span>
<span class="n">test_dir</span> <span class="o">=</span> <span class="n">data_dir</span> <span class="o">+</span> <span class="s1">&#39;/test&#39;</span>
</pre></div>

</div>
</div>
</div>

</div>
<div class="cell border-box-sizing code_cell rendered">
<div class="input">
<div class="prompt input_prompt">In&nbsp;[3]:</div>
<div class="inner_cell">
    <div class="input_area">
<div class=" highlight hl-ipython3"><pre><span></span><span class="c1"># TODO: Define your transforms for the training, validation, and testing sets</span>
<span class="n">data_transforms</span> <span class="o">=</span> <span class="p">{</span>
    <span class="s1">&#39;training&#39;</span><span class="p">:</span> <span class="n">transforms</span><span class="o">.</span><span class="n">Compose</span><span class="p">([</span><span class="n">transforms</span><span class="o">.</span><span class="n">RandomResizedCrop</span><span class="p">(</span><span class="mi">224</span><span class="p">),</span>
                                   <span class="n">transforms</span><span class="o">.</span><span class="n">RandomRotation</span><span class="p">(</span><span class="mi">30</span><span class="p">),</span>
                                   <span class="n">transforms</span><span class="o">.</span><span class="n">RandomHorizontalFlip</span><span class="p">(),</span>
                                   <span class="n">transforms</span><span class="o">.</span><span class="n">ToTensor</span><span class="p">(),</span>
                                   <span class="n">transforms</span><span class="o">.</span><span class="n">Normalize</span><span class="p">([</span><span class="mf">0.485</span><span class="p">,</span><span class="mf">0.456</span><span class="p">,</span><span class="mf">0.406</span><span class="p">],[</span><span class="mf">0.229</span><span class="p">,</span><span class="mf">0.224</span><span class="p">,</span><span class="mf">0.225</span><span class="p">])]),</span>
   
    <span class="s1">&#39;validation&#39;</span><span class="p">:</span> <span class="n">transforms</span><span class="o">.</span><span class="n">Compose</span><span class="p">([</span><span class="n">transforms</span><span class="o">.</span><span class="n">Resize</span><span class="p">(</span><span class="mi">256</span><span class="p">),</span>
                                      <span class="n">transforms</span><span class="o">.</span><span class="n">CenterCrop</span><span class="p">(</span><span class="mi">224</span><span class="p">),</span>
                                      <span class="n">transforms</span><span class="o">.</span><span class="n">ToTensor</span><span class="p">(),</span>
                                      <span class="n">transforms</span><span class="o">.</span><span class="n">Normalize</span><span class="p">([</span><span class="mf">0.485</span><span class="p">,</span><span class="mf">0.456</span><span class="p">,</span><span class="mf">0.406</span><span class="p">],[</span><span class="mf">0.229</span><span class="p">,</span><span class="mf">0.224</span><span class="p">,</span><span class="mf">0.225</span><span class="p">])]),</span>
    
    <span class="s1">&#39;testing&#39;</span><span class="p">:</span> <span class="n">transforms</span><span class="o">.</span><span class="n">Compose</span><span class="p">([</span><span class="n">transforms</span><span class="o">.</span><span class="n">Resize</span><span class="p">(</span><span class="mi">256</span><span class="p">),</span>
                                   <span class="n">transforms</span><span class="o">.</span><span class="n">CenterCrop</span><span class="p">(</span><span class="mi">224</span><span class="p">),</span>
                                   <span class="n">transforms</span><span class="o">.</span><span class="n">ToTensor</span><span class="p">(),</span>
                                   <span class="n">transforms</span><span class="o">.</span><span class="n">Normalize</span><span class="p">([</span><span class="mf">0.485</span><span class="p">,</span><span class="mf">0.456</span><span class="p">,</span><span class="mf">0.406</span><span class="p">],[</span><span class="mf">0.229</span><span class="p">,</span><span class="mf">0.224</span><span class="p">,</span><span class="mf">0.225</span><span class="p">])])}</span>
                

<span class="c1"># TODO: Load the datasets with ImageFolder</span>
<span class="n">image_datasets</span> <span class="o">=</span><span class="p">{</span><span class="s1">&#39;training&#39;</span><span class="p">:</span><span class="n">datasets</span><span class="o">.</span><span class="n">ImageFolder</span><span class="p">(</span><span class="n">train_dir</span><span class="p">,</span><span class="n">transform</span><span class="o">=</span><span class="n">data_transforms</span><span class="p">[</span><span class="s1">&#39;training&#39;</span><span class="p">]),</span>
                <span class="s1">&#39;validation&#39;</span><span class="p">:</span><span class="n">datasets</span><span class="o">.</span><span class="n">ImageFolder</span><span class="p">(</span><span class="n">valid_dir</span><span class="p">,</span><span class="n">transform</span><span class="o">=</span><span class="n">data_transforms</span><span class="p">[</span><span class="s1">&#39;validation&#39;</span><span class="p">]),</span>
                <span class="s1">&#39;testing&#39;</span><span class="p">:</span><span class="n">datasets</span><span class="o">.</span><span class="n">ImageFolder</span><span class="p">(</span><span class="n">test_dir</span><span class="p">,</span><span class="n">transform</span><span class="o">=</span><span class="n">data_transforms</span><span class="p">[</span><span class="s1">&#39;testing&#39;</span><span class="p">]),}</span> 

<span class="c1"># TODO: Using the image datasets and the trainforms, define the dataloaders</span>
<span class="n">dataloaders</span> <span class="o">=</span> <span class="p">{</span><span class="s1">&#39;training&#39;</span><span class="p">:</span><span class="n">torch</span><span class="o">.</span><span class="n">utils</span><span class="o">.</span><span class="n">data</span><span class="o">.</span><span class="n">DataLoader</span><span class="p">(</span><span class="n">image_datasets</span><span class="p">[</span><span class="s1">&#39;training&#39;</span><span class="p">],</span><span class="n">batch_size</span><span class="o">=</span><span class="mi">64</span><span class="p">,</span><span class="n">shuffle</span><span class="o">=</span><span class="kc">True</span><span class="p">),</span>
                <span class="s1">&#39;validation&#39;</span><span class="p">:</span><span class="n">torch</span><span class="o">.</span><span class="n">utils</span><span class="o">.</span><span class="n">data</span><span class="o">.</span><span class="n">DataLoader</span><span class="p">(</span><span class="n">image_datasets</span><span class="p">[</span><span class="s1">&#39;validation&#39;</span><span class="p">],</span><span class="n">batch_size</span><span class="o">=</span><span class="mi">64</span><span class="p">,</span><span class="n">shuffle</span><span class="o">=</span><span class="kc">True</span><span class="p">),</span>
                <span class="s1">&#39;testing&#39;</span><span class="p">:</span><span class="n">torch</span><span class="o">.</span><span class="n">utils</span><span class="o">.</span><span class="n">data</span><span class="o">.</span><span class="n">DataLoader</span><span class="p">(</span><span class="n">image_datasets</span><span class="p">[</span><span class="s1">&#39;testing&#39;</span><span class="p">],</span><span class="n">batch_size</span><span class="o">=</span><span class="mi">64</span><span class="p">,</span><span class="n">shuffle</span><span class="o">=</span><span class="kc">True</span><span class="p">)}</span>

<span class="n">class_to_idx</span><span class="o">=</span><span class="n">image_datasets</span><span class="p">[</span><span class="s1">&#39;training&#39;</span><span class="p">]</span><span class="o">.</span><span class="n">class_to_idx</span>
</pre></div>

</div>
</div>
</div>

</div>
<div class="cell border-box-sizing code_cell rendered">
<div class="input">
<div class="prompt input_prompt">In&nbsp;[4]:</div>
<div class="inner_cell">
    <div class="input_area">
<div class=" highlight hl-ipython3"><pre><span></span><span class="n">images</span><span class="p">,</span><span class="n">labels</span> <span class="o">=</span> <span class="nb">next</span> <span class="p">(</span><span class="nb">iter</span><span class="p">(</span><span class="n">dataloaders</span><span class="p">[</span><span class="s1">&#39;training&#39;</span><span class="p">]))</span>
<span class="nb">print</span><span class="p">(</span><span class="nb">len</span><span class="p">(</span><span class="n">images</span><span class="p">[</span><span class="mi">0</span><span class="p">,</span><span class="mi">2</span><span class="p">]))</span>
<span class="n">plt</span><span class="o">.</span><span class="n">imshow</span><span class="p">(</span><span class="n">images</span><span class="p">[</span><span class="mi">0</span><span class="p">,</span><span class="mi">0</span><span class="p">])</span>
</pre></div>

</div>
</div>
</div>

<div class="output_wrapper">
<div class="output">


<div class="output_area">

<div class="prompt"></div>


<div class="output_subarea output_stream output_stdout output_text">
<pre>224
</pre>
</div>
</div>

<div class="output_area">

<div class="prompt output_prompt">Out[4]:</div>




<div class="output_text output_subarea output_execute_result">
<pre>&lt;matplotlib.image.AxesImage at 0x7fe8fc5eee10&gt;</pre>
</div>

</div>

<div class="output_area">

<div class="prompt"></div>




<div class="output_png output_subarea ">
<img src="data:image/png;base64,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
"
width=259
height=251
>
</div>

</div>

</div>
</div>

</div>
<div class="cell border-box-sizing text_cell rendered"><div class="prompt input_prompt">
</div>
<div class="inner_cell">
<div class="text_cell_render border-box-sizing rendered_html">
<h3 id="Label-mapping">Label mapping<a class="anchor-link" href="#Label-mapping">&#182;</a></h3><p>You'll also need to load in a mapping from category label to category name. You can find this in the file <code>cat_to_name.json</code>. It's a JSON object which you can read in with the <a href="https://docs.python.org/2/library/json.html"><code>json</code> module</a>. This will give you a dictionary mapping the integer encoded categories to the actual names of the flowers.</p>

</div>
</div>
</div>
<div class="cell border-box-sizing code_cell rendered">
<div class="input">
<div class="prompt input_prompt">In&nbsp;[5]:</div>
<div class="inner_cell">
    <div class="input_area">
<div class=" highlight hl-ipython3"><pre><span></span><span class="kn">import</span> <span class="nn">json</span>

<span class="k">with</span> <span class="nb">open</span><span class="p">(</span><span class="s1">&#39;cat_to_name.json&#39;</span><span class="p">,</span> <span class="s1">&#39;r&#39;</span><span class="p">)</span> <span class="k">as</span> <span class="n">f</span><span class="p">:</span>
    <span class="n">cat_to_name</span> <span class="o">=</span> <span class="n">json</span><span class="o">.</span><span class="n">load</span><span class="p">(</span><span class="n">f</span><span class="p">)</span>
</pre></div>

</div>
</div>
</div>

</div>
<div class="cell border-box-sizing text_cell rendered"><div class="prompt input_prompt">
</div>
<div class="inner_cell">
<div class="text_cell_render border-box-sizing rendered_html">
<h1 id="Building-and-training-the-classifier">Building and training the classifier<a class="anchor-link" href="#Building-and-training-the-classifier">&#182;</a></h1><p>Now that the data is ready, it's time to build and train the classifier. As usual, you should use one of the pretrained models from <code>torchvision.models</code> to get the image features. Build and train a new feed-forward classifier using those features.</p>
<p>We're going to leave this part up to you. If you want to talk through it with someone, chat with your fellow students! You can also ask questions on the forums or join the instructors in office hours.</p>
<p>Refer to <a href="https://review.udacity.com/#!/rubrics/1663/view">the rubric</a> for guidance on successfully completing this section. Things you'll need to do:</p>
<ul>
<li>Load a <a href="http://pytorch.org/docs/master/torchvision/models.html">pre-trained network</a> (If you need a starting point, the VGG networks work great and are straightforward to use)</li>
<li>Define a new, untrained feed-forward network as a classifier, using ReLU activations and dropout</li>
<li>Train the classifier layers using backpropagation using the pre-trained network to get the features</li>
<li>Track the loss and accuracy on the validation set to determine the best hyperparameters</li>
</ul>
<p>We've left a cell open for you below, but use as many as you need. Our advice is to break the problem up into smaller parts you can run separately. Check that each part is doing what you expect, then move on to the next. You'll likely find that as you work through each part, you'll need to go back and modify your previous code. This is totally normal!</p>
<p>When training make sure you're updating only the weights of the feed-forward network. You should be able to get the validation accuracy above 70% if you build everything right. Make sure to try different hyperparameters (learning rate, units in the classifier, epochs, etc) to find the best model. Save those hyperparameters to use as default values in the next part of the project.</p>

</div>
</div>
</div>
<div class="cell border-box-sizing code_cell rendered">
<div class="input">
<div class="prompt input_prompt">In&nbsp;[6]:</div>
<div class="inner_cell">
    <div class="input_area">
<div class=" highlight hl-ipython3"><pre><span></span><span class="c1"># TODO: Build and train your network</span>
<span class="k">def</span> <span class="nf">get_model</span><span class="p">():</span>
    <span class="n">model</span> <span class="o">=</span> <span class="n">models</span><span class="o">.</span><span class="n">densenet121</span><span class="p">(</span><span class="n">pretrained</span> <span class="o">=</span> <span class="kc">True</span><span class="p">)</span>
    <span class="k">return</span> <span class="n">model</span>

<span class="k">def</span> <span class="nf">build_network</span><span class="p">(</span><span class="n">hidden_layers</span><span class="p">,</span><span class="n">class_to_idx</span><span class="p">):</span>
    <span class="n">model</span><span class="o">=</span> <span class="n">get_model</span><span class="p">()</span>
    <span class="k">for</span> <span class="n">param</span> <span class="ow">in</span> <span class="n">model</span><span class="o">.</span><span class="n">parameters</span><span class="p">():</span>
        <span class="n">param</span><span class="o">.</span><span class="n">requires_grad</span> <span class="o">=</span> <span class="kc">False</span>
        
    <span class="n">classifier_input_size</span> <span class="o">=</span> <span class="n">model</span><span class="o">.</span><span class="n">classifier</span><span class="o">.</span><span class="n">in_features</span> 
    <span class="nb">print</span><span class="p">(</span><span class="s2">&quot;Input size:&quot;</span><span class="p">,</span><span class="n">classifier_input_size</span><span class="p">)</span>
    <span class="n">output_size</span><span class="o">=</span> <span class="mi">102</span>
    
    <span class="n">classifier</span> <span class="o">=</span> <span class="n">nn</span><span class="o">.</span><span class="n">Sequential</span><span class="p">(</span><span class="n">OrderedDict</span><span class="p">([(</span><span class="s1">&#39;fc0&#39;</span><span class="p">,</span><span class="n">nn</span><span class="o">.</span><span class="n">Linear</span><span class="p">(</span><span class="n">classifier_input_size</span><span class="p">,</span><span class="n">hidden_layers</span><span class="p">)),</span>
                                           <span class="p">(</span><span class="s1">&#39;relu&#39;</span><span class="p">,</span><span class="n">nn</span><span class="o">.</span><span class="n">ReLU</span><span class="p">()),</span>
                                           <span class="p">(</span><span class="s1">&#39;fc1&#39;</span><span class="p">,</span><span class="n">nn</span><span class="o">.</span><span class="n">Linear</span><span class="p">(</span><span class="n">hidden_layers</span><span class="p">,</span><span class="n">output_size</span><span class="p">)),</span>
                                           <span class="p">(</span><span class="s1">&#39;output&#39;</span><span class="p">,</span><span class="n">nn</span><span class="o">.</span><span class="n">LogSoftmax</span><span class="p">(</span><span class="n">dim</span><span class="o">=</span><span class="mi">1</span><span class="p">))]))</span>
    
    <span class="n">model</span><span class="o">.</span><span class="n">classifier</span> <span class="o">=</span> <span class="n">classifier</span>
    <span class="n">model</span><span class="o">.</span><span class="n">class_to_idx</span> <span class="o">=</span> <span class="n">class_to_idx</span>
    <span class="k">return</span> <span class="n">model</span>

<span class="n">hidden_layers</span> <span class="o">=</span> <span class="mi">512</span>
<span class="n">model</span><span class="o">=</span> <span class="n">build_network</span><span class="p">(</span><span class="n">hidden_layers</span><span class="p">,</span><span class="n">class_to_idx</span><span class="p">)</span>
</pre></div>

</div>
</div>
</div>

<div class="output_wrapper">
<div class="output">


<div class="output_area">

<div class="prompt"></div>


<div class="output_subarea output_stream output_stderr output_text">
<pre>/opt/conda/lib/python3.6/site-packages/torchvision-0.2.1-py3.6.egg/torchvision/models/densenet.py:212: UserWarning: nn.init.kaiming_normal is now deprecated in favor of nn.init.kaiming_normal_.
Downloading: &#34;https://download.pytorch.org/models/densenet121-a639ec97.pth&#34; to /root/.torch/models/densenet121-a639ec97.pth
100%|██████████| 32342954/32342954 [00:01&lt;00:00, 20951179.00it/s]</pre>
</div>
</div>

<div class="output_area">

<div class="prompt"></div>


<div class="output_subarea output_stream output_stdout output_text">
<pre>Input size: 1024
</pre>
</div>
</div>

<div class="output_area">

<div class="prompt"></div>


<div class="output_subarea output_stream output_stderr output_text">
<pre>
</pre>
</div>
</div>

</div>
</div>

</div>
<div class="cell border-box-sizing code_cell rendered">
<div class="input">
<div class="prompt input_prompt">In&nbsp;[7]:</div>
<div class="inner_cell">
    <div class="input_area">
<div class=" highlight hl-ipython3"><pre><span></span><span class="k">def</span> <span class="nf">train</span><span class="p">(</span><span class="n">model</span><span class="p">,</span><span class="n">epochs</span><span class="p">,</span><span class="n">learning_rate</span><span class="p">,</span><span class="n">criterion</span><span class="p">,</span><span class="n">optimizer</span><span class="p">,</span><span class="n">training_loader</span><span class="p">,</span><span class="n">validation_loader</span><span class="p">):</span>
    <span class="n">model</span><span class="o">.</span><span class="n">train</span><span class="p">()</span>
    <span class="n">print_every</span> <span class="o">=</span> <span class="mi">40</span>
    <span class="n">steps</span> <span class="o">=</span> <span class="mi">0</span>
    <span class="n">use_gpu</span> <span class="o">=</span> <span class="kc">False</span>
    
    <span class="k">if</span> <span class="n">torch</span><span class="o">.</span><span class="n">cuda</span><span class="o">.</span><span class="n">is_available</span><span class="p">():</span>
        <span class="n">use_gpu</span> <span class="o">=</span> <span class="kc">True</span>
        <span class="n">model</span><span class="o">.</span><span class="n">cuda</span><span class="p">()</span>
    
    <span class="k">else</span><span class="p">:</span>
        <span class="n">model</span><span class="o">.</span><span class="n">cpu</span><span class="p">()</span>
        
    
    <span class="k">for</span> <span class="n">epoch</span> <span class="ow">in</span> <span class="nb">range</span><span class="p">(</span><span class="n">epochs</span><span class="p">):</span>
        <span class="n">running_loss</span> <span class="o">=</span> <span class="mi">0</span>
        
        <span class="k">for</span> <span class="n">inputs</span><span class="p">,</span><span class="n">labels</span> <span class="ow">in</span> <span class="nb">iter</span><span class="p">(</span><span class="n">training_loader</span><span class="p">):</span>
            <span class="n">steps</span> <span class="o">+=</span> <span class="mi">1</span>
            
            <span class="k">if</span> <span class="n">use_gpu</span><span class="p">:</span>
                <span class="n">inputs</span> <span class="o">=</span><span class="n">Variable</span><span class="p">(</span><span class="n">inputs</span><span class="o">.</span><span class="n">float</span><span class="p">()</span><span class="o">.</span><span class="n">cuda</span><span class="p">())</span>
                <span class="n">labels</span> <span class="o">=</span> <span class="n">Variable</span><span class="p">(</span><span class="n">labels</span><span class="o">.</span><span class="n">long</span><span class="p">()</span><span class="o">.</span><span class="n">cuda</span><span class="p">())</span>
                
            <span class="k">else</span><span class="p">:</span>
                <span class="n">inputs</span> <span class="o">=</span> <span class="n">Variable</span><span class="p">(</span><span class="n">inputs</span><span class="p">)</span>
                <span class="n">labels</span> <span class="o">=</span> <span class="n">Variable</span><span class="p">(</span><span class="n">labels</span><span class="p">)</span>
                
            <span class="n">optimizer</span><span class="o">.</span><span class="n">zero_grad</span><span class="p">()</span> 
            <span class="n">output</span> <span class="o">=</span> <span class="n">model</span><span class="o">.</span><span class="n">forward</span><span class="p">(</span><span class="n">inputs</span><span class="p">)</span>
            <span class="n">loss</span> <span class="o">=</span> <span class="n">criterion</span><span class="p">(</span><span class="n">output</span><span class="p">,</span><span class="n">labels</span><span class="p">)</span>
            <span class="n">loss</span><span class="o">.</span><span class="n">backward</span><span class="p">()</span>
            <span class="n">optimizer</span><span class="o">.</span><span class="n">step</span><span class="p">()</span>
            <span class="n">running_loss</span> <span class="o">+=</span> <span class="n">loss</span><span class="o">.</span><span class="n">data</span><span class="p">[</span><span class="mi">0</span><span class="p">]</span>
            
            <span class="k">if</span> <span class="n">steps</span> <span class="o">%</span> <span class="n">print_every</span> <span class="o">==</span> <span class="mi">0</span><span class="p">:</span>
                <span class="n">validation_loss</span><span class="p">,</span><span class="n">accuracy</span> <span class="o">=</span> <span class="n">validate</span><span class="p">(</span><span class="n">model</span><span class="p">,</span><span class="n">criterion</span><span class="p">,</span><span class="n">validation_loader</span><span class="p">)</span>
                
                <span class="nb">print</span><span class="p">(</span><span class="s2">&quot;Epoch:</span><span class="si">{}</span><span class="s2">/</span><span class="si">{}</span><span class="s2">&quot;</span><span class="o">.</span><span class="n">format</span><span class="p">(</span><span class="n">epoch</span><span class="o">+</span><span class="mi">1</span><span class="p">,</span><span class="n">epochs</span><span class="p">),</span>
                     <span class="s2">&quot;Training Loss:</span><span class="si">{:.3f}</span><span class="s2">&quot;</span><span class="o">.</span><span class="n">format</span><span class="p">(</span><span class="n">running_loss</span><span class="o">/</span><span class="n">print_every</span><span class="p">),</span>
                     <span class="s2">&quot;Validation Loss:</span><span class="si">{:.3f}</span><span class="s2">&quot;</span><span class="o">.</span><span class="n">format</span><span class="p">(</span><span class="n">validation_loss</span><span class="p">),</span>
                     <span class="s2">&quot;Validation Accuracy:</span><span class="si">{:.3f}</span><span class="s2">&quot;</span><span class="o">.</span><span class="n">format</span><span class="p">(</span><span class="n">accuracy</span><span class="p">))</span>
                
                
            
</pre></div>

</div>
</div>
</div>

</div>
<div class="cell border-box-sizing code_cell rendered">
<div class="input">
<div class="prompt input_prompt">In&nbsp;[9]:</div>
<div class="inner_cell">
    <div class="input_area">
<div class=" highlight hl-ipython3"><pre><span></span><span class="k">def</span> <span class="nf">validate</span><span class="p">(</span><span class="n">model</span><span class="p">,</span><span class="n">criterion</span><span class="p">,</span><span class="n">data_loader</span><span class="p">):</span>
    <span class="n">model</span><span class="o">.</span><span class="n">eval</span><span class="p">()</span>
    <span class="n">accuracy</span> <span class="o">=</span> <span class="mi">0</span>
    <span class="n">test_loss</span> <span class="o">=</span> <span class="mi">0</span>
    
    <span class="k">for</span> <span class="n">inputs</span><span class="p">,</span><span class="n">labels</span> <span class="ow">in</span> <span class="nb">iter</span><span class="p">(</span><span class="n">data_loader</span><span class="p">):</span>
        <span class="k">if</span> <span class="n">torch</span><span class="o">.</span><span class="n">cuda</span><span class="o">.</span><span class="n">is_available</span><span class="p">():</span>
            <span class="n">inputs</span> <span class="o">=</span> <span class="n">Variable</span><span class="p">(</span><span class="n">inputs</span><span class="o">.</span><span class="n">float</span><span class="p">()</span><span class="o">.</span><span class="n">cuda</span><span class="p">(),</span><span class="n">volatile</span><span class="o">=</span><span class="kc">True</span><span class="p">)</span>
            <span class="n">labels</span> <span class="o">=</span> <span class="n">Variable</span><span class="p">(</span><span class="n">labels</span><span class="o">.</span><span class="n">long</span><span class="p">()</span><span class="o">.</span><span class="n">cuda</span><span class="p">(),</span><span class="n">volatile</span><span class="o">=</span><span class="kc">True</span><span class="p">)</span>
            
        <span class="k">else</span><span class="p">:</span>
            <span class="n">inputs</span> <span class="o">=</span> <span class="n">Variable</span><span class="p">(</span><span class="n">inputs</span><span class="p">,</span><span class="n">volatile</span><span class="o">=</span><span class="kc">True</span><span class="p">)</span>
            <span class="n">labels</span> <span class="o">=</span> <span class="n">Variable</span><span class="p">(</span><span class="n">labels</span><span class="p">,</span><span class="n">volatile</span><span class="o">=</span><span class="kc">True</span><span class="p">)</span>
            
        <span class="n">output</span> <span class="o">=</span> <span class="n">model</span><span class="o">.</span><span class="n">forward</span><span class="p">(</span><span class="n">inputs</span><span class="p">)</span>
        <span class="n">test_loss</span> <span class="o">+=</span> <span class="n">criterion</span><span class="p">(</span><span class="n">output</span><span class="p">,</span><span class="n">labels</span><span class="p">)</span><span class="o">.</span><span class="n">data</span><span class="p">[</span><span class="mi">0</span><span class="p">]</span>
        <span class="n">ps</span> <span class="o">=</span><span class="n">torch</span><span class="o">.</span><span class="n">exp</span><span class="p">(</span><span class="n">output</span><span class="p">)</span><span class="o">.</span><span class="n">data</span>
        <span class="n">equality</span> <span class="o">=</span> <span class="p">(</span><span class="n">labels</span><span class="o">.</span><span class="n">data</span> <span class="o">==</span> <span class="n">ps</span><span class="o">.</span><span class="n">max</span><span class="p">(</span><span class="mi">1</span><span class="p">)[</span><span class="mi">1</span><span class="p">])</span>
        <span class="n">accuracy</span> <span class="o">+=</span> <span class="n">equality</span><span class="o">.</span><span class="n">type_as</span><span class="p">(</span><span class="n">torch</span><span class="o">.</span><span class="n">FloatTensor</span><span class="p">())</span><span class="o">.</span><span class="n">mean</span><span class="p">()</span>
        
    <span class="k">return</span> <span class="n">test_loss</span><span class="o">/</span><span class="nb">len</span><span class="p">(</span><span class="n">data_loader</span><span class="p">),</span><span class="n">accuracy</span><span class="o">/</span><span class="nb">len</span><span class="p">(</span><span class="n">data_loader</span><span class="p">)</span>
</pre></div>

</div>
</div>
</div>

</div>
<div class="cell border-box-sizing code_cell rendered">
<div class="input">
<div class="prompt input_prompt">In&nbsp;[10]:</div>
<div class="inner_cell">
    <div class="input_area">
<div class=" highlight hl-ipython3"><pre><span></span><span class="n">epochs</span> <span class="o">=</span> <span class="mi">9</span>
<span class="n">learning_rate</span> <span class="o">=</span> <span class="mf">0.001</span>
<span class="n">criterion</span> <span class="o">=</span> <span class="n">nn</span><span class="o">.</span><span class="n">NLLLoss</span><span class="p">()</span>
<span class="n">optimizer</span> <span class="o">=</span> <span class="n">optim</span><span class="o">.</span><span class="n">Adam</span><span class="p">(</span><span class="n">model</span><span class="o">.</span><span class="n">classifier</span><span class="o">.</span><span class="n">parameters</span><span class="p">(),</span><span class="n">lr</span><span class="o">=</span><span class="n">learning_rate</span><span class="p">)</span>
<span class="n">train</span><span class="p">(</span><span class="n">model</span><span class="p">,</span> <span class="n">epochs</span><span class="p">,</span> <span class="n">learning_rate</span><span class="p">,</span> <span class="n">criterion</span><span class="p">,</span> <span class="n">optimizer</span><span class="p">,</span> <span class="n">dataloaders</span><span class="p">[</span><span class="s1">&#39;training&#39;</span><span class="p">],</span><span class="n">dataloaders</span><span class="p">[</span><span class="s1">&#39;validation&#39;</span><span class="p">])</span>
</pre></div>

</div>
</div>
</div>

<div class="output_wrapper">
<div class="output">


<div class="output_area">

<div class="prompt"></div>


<div class="output_subarea output_stream output_stderr output_text">
<pre>/opt/conda/lib/python3.6/site-packages/ipykernel_launcher.py:34: UserWarning: invalid index of a 0-dim tensor. This will be an error in PyTorch 0.5. Use tensor.item() to convert a 0-dim tensor to a Python number
/opt/conda/lib/python3.6/site-packages/ipykernel_launcher.py:8: UserWarning: volatile was removed and now has no effect. Use `with torch.no_grad():` instead.
  
/opt/conda/lib/python3.6/site-packages/ipykernel_launcher.py:9: UserWarning: volatile was removed and now has no effect. Use `with torch.no_grad():` instead.
  if __name__ == &#39;__main__&#39;:
/opt/conda/lib/python3.6/site-packages/ipykernel_launcher.py:16: UserWarning: invalid index of a 0-dim tensor. This will be an error in PyTorch 0.5. Use tensor.item() to convert a 0-dim tensor to a Python number
  app.launch_new_instance()
</pre>
</div>
</div>

<div class="output_area">

<div class="prompt"></div>


<div class="output_subarea output_stream output_stdout output_text">
<pre>Epoch:1/9 Training Loss:2.862 Validation Loss:2.106 Validation Accuracy:0.557
Epoch:1/9 Training Loss:4.717 Validation Loss:1.497 Validation Accuracy:0.660
Epoch:2/9 Training Loss:0.595 Validation Loss:1.053 Validation Accuracy:0.773
Epoch:2/9 Training Loss:1.724 Validation Loss:0.950 Validation Accuracy:0.764
Epoch:2/9 Training Loss:2.743 Validation Loss:0.785 Validation Accuracy:0.819
Epoch:3/9 Training Loss:0.768 Validation Loss:0.709 Validation Accuracy:0.821
Epoch:3/9 Training Loss:1.564 Validation Loss:0.666 Validation Accuracy:0.822
Epoch:4/9 Training Loss:0.211 Validation Loss:0.608 Validation Accuracy:0.849
Epoch:4/9 Training Loss:0.898 Validation Loss:0.525 Validation Accuracy:0.855
Epoch:4/9 Training Loss:1.562 Validation Loss:0.482 Validation Accuracy:0.879
Epoch:5/9 Training Loss:0.415 Validation Loss:0.504 Validation Accuracy:0.865
Epoch:5/9 Training Loss:1.047 Validation Loss:0.503 Validation Accuracy:0.867
Epoch:6/9 Training Loss:0.072 Validation Loss:0.482 Validation Accuracy:0.883
Epoch:6/9 Training Loss:0.676 Validation Loss:0.451 Validation Accuracy:0.894
Epoch:6/9 Training Loss:1.232 Validation Loss:0.469 Validation Accuracy:0.874
Epoch:7/9 Training Loss:0.278 Validation Loss:0.495 Validation Accuracy:0.867
Epoch:7/9 Training Loss:0.792 Validation Loss:0.384 Validation Accuracy:0.898
Epoch:7/9 Training Loss:1.323 Validation Loss:0.375 Validation Accuracy:0.906
Epoch:8/9 Training Loss:0.464 Validation Loss:0.387 Validation Accuracy:0.898
Epoch:8/9 Training Loss:0.909 Validation Loss:0.377 Validation Accuracy:0.887
Epoch:9/9 Training Loss:0.207 Validation Loss:0.405 Validation Accuracy:0.894
Epoch:9/9 Training Loss:0.663 Validation Loss:0.349 Validation Accuracy:0.917
Epoch:9/9 Training Loss:1.116 Validation Loss:0.319 Validation Accuracy:0.916
</pre>
</div>
</div>

</div>
</div>

</div>
<div class="cell border-box-sizing text_cell rendered"><div class="prompt input_prompt">
</div>
<div class="inner_cell">
<div class="text_cell_render border-box-sizing rendered_html">
<h2 id="Testing-your-network">Testing your network<a class="anchor-link" href="#Testing-your-network">&#182;</a></h2><p>It's good practice to test your trained network on test data, images the network has never seen either in training or validation. This will give you a good estimate for the model's performance on completely new images. Run the test images through the network and measure the accuracy, the same way you did validation. You should be able to reach around 70% accuracy on the test set if the model has been trained well.</p>

</div>
</div>
</div>
<div class="cell border-box-sizing code_cell rendered">
<div class="input">
<div class="prompt input_prompt">In&nbsp;[11]:</div>
<div class="inner_cell">
    <div class="input_area">
<div class=" highlight hl-ipython3"><pre><span></span><span class="c1"># TODO: Do validation on the test set</span>
<span class="n">test_loss</span><span class="p">,</span><span class="n">accuracy</span> <span class="o">=</span> <span class="n">validate</span><span class="p">(</span><span class="n">model</span><span class="p">,</span><span class="n">criterion</span><span class="p">,</span><span class="n">dataloaders</span><span class="p">[</span><span class="s1">&#39;testing&#39;</span><span class="p">])</span>
<span class="nb">print</span><span class="p">(</span><span class="s2">&quot;Val. Accuracy:</span><span class="si">{:.3f}</span><span class="s2">&quot;</span><span class="o">.</span><span class="n">format</span><span class="p">(</span><span class="n">accuracy</span><span class="p">))</span>
<span class="nb">print</span><span class="p">(</span><span class="s2">&quot;Val. Loss:</span><span class="si">{:.3f}</span><span class="s2">&quot;</span><span class="o">.</span><span class="n">format</span><span class="p">(</span><span class="n">test_loss</span><span class="p">))</span>
</pre></div>

</div>
</div>
</div>

<div class="output_wrapper">
<div class="output">


<div class="output_area">

<div class="prompt"></div>


<div class="output_subarea output_stream output_stderr output_text">
<pre>/opt/conda/lib/python3.6/site-packages/ipykernel_launcher.py:8: UserWarning: volatile was removed and now has no effect. Use `with torch.no_grad():` instead.
  
/opt/conda/lib/python3.6/site-packages/ipykernel_launcher.py:9: UserWarning: volatile was removed and now has no effect. Use `with torch.no_grad():` instead.
  if __name__ == &#39;__main__&#39;:
/opt/conda/lib/python3.6/site-packages/ipykernel_launcher.py:16: UserWarning: invalid index of a 0-dim tensor. This will be an error in PyTorch 0.5. Use tensor.item() to convert a 0-dim tensor to a Python number
  app.launch_new_instance()
</pre>
</div>
</div>

<div class="output_area">

<div class="prompt"></div>


<div class="output_subarea output_stream output_stdout output_text">
<pre>Val. Accuracy:0.879
Val. Loss:0.437
</pre>
</div>
</div>

</div>
</div>

</div>
<div class="cell border-box-sizing text_cell rendered"><div class="prompt input_prompt">
</div>
<div class="inner_cell">
<div class="text_cell_render border-box-sizing rendered_html">
<h2 id="Save-the-checkpoint">Save the checkpoint<a class="anchor-link" href="#Save-the-checkpoint">&#182;</a></h2><p>Now that your network is trained, save the model so you can load it later for making predictions. You probably want to save other things such as the mapping of classes to indices which you get from one of the image datasets: <code>image_datasets['train'].class_to_idx</code>. You can attach this to the model as an attribute which makes inference easier later on.</p>
<p><code>model.class_to_idx = image_datasets['train'].class_to_idx</code></p>
<p>Remember that you'll want to completely rebuild the model later so you can use it for inference. Make sure to include any information you need in the checkpoint. If you want to load the model and keep training, you'll want to save the number of epochs as well as the optimizer state, <code>optimizer.state_dict</code>. You'll likely want to use this trained model in the next part of the project, so best to save it now.</p>

</div>
</div>
</div>
<div class="cell border-box-sizing code_cell rendered">
<div class="input">
<div class="prompt input_prompt">In&nbsp;[12]:</div>
<div class="inner_cell">
    <div class="input_area">
<div class=" highlight hl-ipython3"><pre><span></span><span class="c1"># TODO: Save the checkpoint </span>
<span class="n">checkpoint_path</span> <span class="o">=</span> <span class="s2">&quot;densenet121_checkpoint.pth&quot;</span>

<span class="n">state</span> <span class="o">=</span> <span class="p">{</span><span class="s1">&#39;arch&#39;</span><span class="p">:</span><span class="s1">&#39;densenet121&#39;</span><span class="p">,</span>
        <span class="s1">&#39;learning_rate&#39;</span><span class="p">:</span><span class="n">learning_rate</span><span class="p">,</span>
        <span class="s1">&#39;hidden_layers&#39;</span><span class="p">:</span><span class="n">hidden_layers</span><span class="p">,</span>
        <span class="s1">&#39;epochs&#39;</span><span class="p">:</span><span class="n">epochs</span><span class="p">,</span>
        <span class="s1">&#39;state_dict&#39;</span><span class="p">:</span><span class="n">model</span><span class="o">.</span><span class="n">state_dict</span><span class="p">(),</span>
        <span class="s1">&#39;optimizer&#39;</span><span class="p">:</span><span class="n">optimizer</span><span class="o">.</span><span class="n">state_dict</span><span class="p">(),</span>
        <span class="s1">&#39;class_to_idx&#39;</span><span class="p">:</span><span class="n">model</span><span class="o">.</span><span class="n">class_to_idx</span><span class="p">}</span>

<span class="n">torch</span><span class="o">.</span><span class="n">save</span><span class="p">(</span><span class="n">state</span><span class="p">,</span><span class="n">checkpoint_path</span><span class="p">)</span>
</pre></div>

</div>
</div>
</div>

</div>
<div class="cell border-box-sizing text_cell rendered"><div class="prompt input_prompt">
</div>
<div class="inner_cell">
<div class="text_cell_render border-box-sizing rendered_html">
<h2 id="Loading-the-checkpoint">Loading the checkpoint<a class="anchor-link" href="#Loading-the-checkpoint">&#182;</a></h2><p>At this point it's good to write a function that can load a checkpoint and rebuild the model. That way you can come back to this project and keep working on it without having to retrain the network.</p>

</div>
</div>
</div>
<div class="cell border-box-sizing code_cell rendered">
<div class="input">
<div class="prompt input_prompt">In&nbsp;[13]:</div>
<div class="inner_cell">
    <div class="input_area">
<div class=" highlight hl-ipython3"><pre><span></span><span class="c1"># TODO: Write a function that loads a checkpoint and rebuilds the model</span>
<span class="n">checkpoint_path</span> <span class="o">=</span> <span class="s1">&#39;densenet121_checkpoint.pth&#39;</span>
<span class="n">state</span> <span class="o">=</span> <span class="n">torch</span><span class="o">.</span><span class="n">load</span><span class="p">(</span><span class="n">checkpoint_path</span><span class="p">)</span>
<span class="n">learning_rate</span> <span class="o">=</span> <span class="n">state</span><span class="p">[</span><span class="s1">&#39;learning_rate&#39;</span><span class="p">]</span>
<span class="n">class_to_idx</span> <span class="o">=</span> <span class="n">state</span><span class="p">[</span><span class="s1">&#39;class_to_idx&#39;</span><span class="p">]</span>

<span class="n">model</span> <span class="o">=</span> <span class="n">build_network</span><span class="p">(</span><span class="n">hidden_layers</span><span class="p">,</span><span class="n">class_to_idx</span><span class="p">)</span>

<span class="n">model</span><span class="o">.</span><span class="n">load_state_dict</span><span class="p">(</span><span class="n">state</span><span class="p">[</span><span class="s1">&#39;state_dict&#39;</span><span class="p">])</span>
<span class="n">optimizer</span><span class="o">.</span><span class="n">load_state_dict</span><span class="p">(</span><span class="n">state</span><span class="p">[</span><span class="s1">&#39;optimizer&#39;</span><span class="p">])</span>
</pre></div>

</div>
</div>
</div>

<div class="output_wrapper">
<div class="output">


<div class="output_area">

<div class="prompt"></div>


<div class="output_subarea output_stream output_stderr output_text">
<pre>/opt/conda/lib/python3.6/site-packages/torchvision-0.2.1-py3.6.egg/torchvision/models/densenet.py:212: UserWarning: nn.init.kaiming_normal is now deprecated in favor of nn.init.kaiming_normal_.
</pre>
</div>
</div>

<div class="output_area">

<div class="prompt"></div>


<div class="output_subarea output_stream output_stdout output_text">
<pre>Input size: 1024
</pre>
</div>
</div>

</div>
</div>

</div>
<div class="cell border-box-sizing text_cell rendered"><div class="prompt input_prompt">
</div>
<div class="inner_cell">
<div class="text_cell_render border-box-sizing rendered_html">
<h1 id="Inference-for-classification">Inference for classification<a class="anchor-link" href="#Inference-for-classification">&#182;</a></h1><p>Now you'll write a function to use a trained network for inference. That is, you'll pass an image into the network and predict the class of the flower in the image. Write a function called <code>predict</code> that takes an image and a model, then returns the top $K$ most likely classes along with the probabilities. It should look like</p>
<div class="highlight"><pre><span></span><span class="n">probs</span><span class="p">,</span> <span class="n">classes</span> <span class="o">=</span> <span class="n">predict</span><span class="p">(</span><span class="n">image_path</span><span class="p">,</span> <span class="n">model</span><span class="p">)</span>
<span class="k">print</span><span class="p">(</span><span class="n">probs</span><span class="p">)</span>
<span class="k">print</span><span class="p">(</span><span class="n">classes</span><span class="p">)</span>
<span class="o">&gt;</span> <span class="p">[</span> <span class="mf">0.01558163</span>  <span class="mf">0.01541934</span>  <span class="mf">0.01452626</span>  <span class="mf">0.01443549</span>  <span class="mf">0.01407339</span><span class="p">]</span>
<span class="o">&gt;</span> <span class="p">[</span><span class="s1">&#39;70&#39;</span><span class="p">,</span> <span class="s1">&#39;3&#39;</span><span class="p">,</span> <span class="s1">&#39;45&#39;</span><span class="p">,</span> <span class="s1">&#39;62&#39;</span><span class="p">,</span> <span class="s1">&#39;55&#39;</span><span class="p">]</span>
</pre></div>
<p>First you'll need to handle processing the input image such that it can be used in your network.</p>
<h2 id="Image-Preprocessing">Image Preprocessing<a class="anchor-link" href="#Image-Preprocessing">&#182;</a></h2><p>You'll want to use <code>PIL</code> to load the image (<a href="https://pillow.readthedocs.io/en/latest/reference/Image.html">documentation</a>). It's best to write a function that preprocesses the image so it can be used as input for the model. This function should process the images in the same manner used for training.</p>
<p>First, resize the images where the shortest side is 256 pixels, keeping the aspect ratio. This can be done with the <a href="http://pillow.readthedocs.io/en/3.1.x/reference/Image.html#PIL.Image.Image.thumbnail"><code>thumbnail</code></a> or <a href="http://pillow.readthedocs.io/en/3.1.x/reference/Image.html#PIL.Image.Image.thumbnail"><code>resize</code></a> methods. Then you'll need to crop out the center 224x224 portion of the image.</p>
<p>Color channels of images are typically encoded as integers 0-255, but the model expected floats 0-1. You'll need to convert the values. It's easiest with a Numpy array, which you can get from a PIL image like so <code>np_image = np.array(pil_image)</code>.</p>
<p>As before, the network expects the images to be normalized in a specific way. For the means, it's <code>[0.485, 0.456, 0.406]</code> and for the standard deviations <code>[0.229, 0.224, 0.225]</code>. You'll want to subtract the means from each color channel, then divide by the standard deviation.</p>
<p>And finally, PyTorch expects the color channel to be the first dimension but it's the third dimension in the PIL image and Numpy array. You can reorder dimensions using <a href="https://docs.scipy.org/doc/numpy-1.13.0/reference/generated/numpy.ndarray.transpose.html"><code>ndarray.transpose</code></a>. The color channel needs to be first and retain the order of the other two dimensions.</p>

</div>
</div>
</div>
<div class="cell border-box-sizing code_cell rendered">
<div class="input">
<div class="prompt input_prompt">In&nbsp;[14]:</div>
<div class="inner_cell">
    <div class="input_area">
<div class=" highlight hl-ipython3"><pre><span></span><span class="k">def</span> <span class="nf">process_image</span><span class="p">(</span><span class="n">image</span><span class="p">):</span>
    <span class="sd">&#39;&#39;&#39; Scales, crops, and normalizes a PIL image for a PyTorch model,</span>
<span class="sd">        returns an Numpy array</span>
<span class="sd">    &#39;&#39;&#39;</span>
    <span class="n">size</span> <span class="o">=</span> <span class="mi">224</span>
    <span class="c1"># TODO: Process a PIL image for use in a PyTorch model</span>
    <span class="n">width</span><span class="p">,</span><span class="n">height</span> <span class="o">=</span><span class="n">image</span><span class="o">.</span><span class="n">size</span>
    
    <span class="k">if</span> <span class="n">height</span> <span class="o">&gt;</span> <span class="n">width</span><span class="p">:</span>
        <span class="n">height</span> <span class="o">=</span> <span class="nb">int</span><span class="p">(</span><span class="nb">max</span><span class="p">(</span><span class="n">height</span> <span class="o">*</span> <span class="n">size</span> <span class="o">/</span> <span class="n">width</span><span class="p">,</span> <span class="mi">1</span><span class="p">))</span>
        <span class="n">width</span> <span class="o">=</span> <span class="nb">int</span><span class="p">(</span><span class="n">size</span><span class="p">)</span>
        
    <span class="k">else</span><span class="p">:</span>
        <span class="n">width</span> <span class="o">=</span> <span class="nb">int</span><span class="p">(</span><span class="nb">max</span><span class="p">(</span><span class="n">width</span> <span class="o">*</span> <span class="n">size</span> <span class="o">/</span> <span class="n">height</span><span class="p">,</span> <span class="mi">1</span><span class="p">))</span>
        <span class="n">height</span> <span class="o">=</span> <span class="nb">int</span><span class="p">(</span><span class="n">size</span><span class="p">)</span>
        
    <span class="n">resized_image</span> <span class="o">=</span> <span class="n">image</span><span class="o">.</span><span class="n">resize</span><span class="p">((</span><span class="n">width</span><span class="p">,</span><span class="n">height</span><span class="p">))</span>
    
    <span class="n">x0</span> <span class="o">=</span> <span class="p">(</span><span class="n">width</span> <span class="o">-</span> <span class="n">size</span><span class="p">)</span> <span class="o">/</span><span class="mi">2</span>
    <span class="n">y0</span> <span class="o">=</span> <span class="p">(</span><span class="n">height</span> <span class="o">-</span> <span class="n">size</span><span class="p">)</span> <span class="o">/</span><span class="mi">2</span> 
    <span class="n">x1</span> <span class="o">=</span> <span class="n">x0</span> <span class="o">+</span> <span class="n">size</span>
    <span class="n">y1</span> <span class="o">=</span> <span class="n">y0</span> <span class="o">+</span> <span class="n">size</span>
    
    <span class="n">cropped_image</span> <span class="o">=</span> <span class="n">image</span><span class="o">.</span><span class="n">crop</span><span class="p">((</span><span class="n">x0</span><span class="p">,</span><span class="n">y0</span><span class="p">,</span><span class="n">x1</span><span class="p">,</span><span class="n">y1</span><span class="p">))</span>
    <span class="n">np_image</span> <span class="o">=</span> <span class="n">np</span><span class="o">.</span><span class="n">array</span><span class="p">(</span><span class="n">cropped_image</span><span class="p">)</span><span class="o">/</span><span class="mf">225.</span>
    <span class="n">mean</span> <span class="o">=</span> <span class="n">np</span><span class="o">.</span><span class="n">array</span><span class="p">([</span><span class="mf">0.485</span><span class="p">,</span><span class="mf">0.456</span><span class="p">,</span><span class="mf">0.406</span><span class="p">])</span>
    <span class="n">std</span> <span class="o">=</span> <span class="n">np</span><span class="o">.</span><span class="n">array</span><span class="p">([</span><span class="mf">0.229</span><span class="p">,</span><span class="mf">0.224</span><span class="p">,</span><span class="mf">0.225</span><span class="p">])</span>
    <span class="n">np_image_array</span> <span class="o">=</span><span class="p">(</span><span class="n">np_image</span> <span class="o">-</span> <span class="n">mean</span><span class="p">)</span> <span class="o">/</span><span class="n">std</span>
    <span class="n">np_image_array</span> <span class="o">=</span><span class="n">np_image</span><span class="o">.</span><span class="n">transpose</span><span class="p">((</span><span class="mi">2</span><span class="p">,</span><span class="mi">0</span><span class="p">,</span><span class="mi">1</span><span class="p">))</span>
    <span class="k">return</span> <span class="n">np_image_array</span>
</pre></div>

</div>
</div>
</div>

</div>
<div class="cell border-box-sizing text_cell rendered"><div class="prompt input_prompt">
</div>
<div class="inner_cell">
<div class="text_cell_render border-box-sizing rendered_html">
<p>To check your work, the function below converts a PyTorch tensor and displays it in the notebook. If your <code>process_image</code> function works, running the output through this function should return the original image (except for the cropped out portions).</p>

</div>
</div>
</div>
<div class="cell border-box-sizing code_cell rendered">
<div class="input">
<div class="prompt input_prompt">In&nbsp;[15]:</div>
<div class="inner_cell">
    <div class="input_area">
<div class=" highlight hl-ipython3"><pre><span></span><span class="k">def</span> <span class="nf">imshow</span><span class="p">(</span><span class="n">image</span><span class="p">,</span> <span class="n">ax</span><span class="o">=</span><span class="kc">None</span><span class="p">,</span> <span class="n">title</span><span class="o">=</span><span class="kc">None</span><span class="p">):</span>
    <span class="k">if</span> <span class="n">ax</span> <span class="ow">is</span> <span class="kc">None</span><span class="p">:</span>
        <span class="n">fig</span><span class="p">,</span> <span class="n">ax</span> <span class="o">=</span> <span class="n">plt</span><span class="o">.</span><span class="n">subplots</span><span class="p">()</span>
    
    <span class="c1"># PyTorch tensors assume the color channel is the first dimension</span>
    <span class="c1"># but matplotlib assumes is the third dimension</span>
    <span class="n">image</span> <span class="o">=</span> <span class="n">image</span><span class="o">.</span><span class="n">transpose</span><span class="p">((</span><span class="mi">1</span><span class="p">,</span> <span class="mi">2</span><span class="p">,</span> <span class="mi">0</span><span class="p">))</span>
    
    <span class="c1"># Undo preprocessing</span>
    <span class="n">mean</span> <span class="o">=</span> <span class="n">np</span><span class="o">.</span><span class="n">array</span><span class="p">([</span><span class="mf">0.485</span><span class="p">,</span> <span class="mf">0.456</span><span class="p">,</span> <span class="mf">0.406</span><span class="p">])</span>
    <span class="n">std</span> <span class="o">=</span> <span class="n">np</span><span class="o">.</span><span class="n">array</span><span class="p">([</span><span class="mf">0.229</span><span class="p">,</span> <span class="mf">0.224</span><span class="p">,</span> <span class="mf">0.225</span><span class="p">])</span>
    <span class="n">image</span> <span class="o">=</span> <span class="n">std</span> <span class="o">*</span> <span class="n">image</span> <span class="o">+</span> <span class="n">mean</span>
    
    <span class="c1"># Image needs to be clipped between 0 and 1 or it looks like noise when displayed</span>
    <span class="n">image</span> <span class="o">=</span> <span class="n">np</span><span class="o">.</span><span class="n">clip</span><span class="p">(</span><span class="n">image</span><span class="p">,</span> <span class="mi">0</span><span class="p">,</span> <span class="mi">1</span><span class="p">)</span>
    
    <span class="n">ax</span><span class="o">.</span><span class="n">imshow</span><span class="p">(</span><span class="n">image</span><span class="p">)</span>
    
    <span class="k">return</span> <span class="n">ax</span>
</pre></div>

</div>
</div>
</div>

</div>
<div class="cell border-box-sizing text_cell rendered"><div class="prompt input_prompt">
</div>
<div class="inner_cell">
<div class="text_cell_render border-box-sizing rendered_html">
<h2 id="Class-Prediction">Class Prediction<a class="anchor-link" href="#Class-Prediction">&#182;</a></h2><p>Once you can get images in the correct format, it's time to write a function for making predictions with your model. A common practice is to predict the top 5 or so (usually called top-$K$) most probable classes. You'll want to calculate the class probabilities then find the $K$ largest values.</p>
<p>To get the top $K$ largest values in a tensor use <a href="http://pytorch.org/docs/master/torch.html#torch.topk"><code>x.topk(k)</code></a>. This method returns both the highest <code>k</code> probabilities and the indices of those probabilities corresponding to the classes. You need to convert from these indices to the actual class labels using <code>class_to_idx</code> which hopefully you added to the model or from an <code>ImageFolder</code> you used to load the data (<a href="#Save-the-checkpoint">see here</a>). Make sure to invert the dictionary so you get a mapping from index to class as well.</p>
<p>Again, this method should take a path to an image and a model checkpoint, then return the probabilities and classes.</p>
<div class="highlight"><pre><span></span><span class="n">probs</span><span class="p">,</span> <span class="n">classes</span> <span class="o">=</span> <span class="n">predict</span><span class="p">(</span><span class="n">image_path</span><span class="p">,</span> <span class="n">model</span><span class="p">)</span>
<span class="k">print</span><span class="p">(</span><span class="n">probs</span><span class="p">)</span>
<span class="k">print</span><span class="p">(</span><span class="n">classes</span><span class="p">)</span>
<span class="o">&gt;</span> <span class="p">[</span> <span class="mf">0.01558163</span>  <span class="mf">0.01541934</span>  <span class="mf">0.01452626</span>  <span class="mf">0.01443549</span>  <span class="mf">0.01407339</span><span class="p">]</span>
<span class="o">&gt;</span> <span class="p">[</span><span class="s1">&#39;70&#39;</span><span class="p">,</span> <span class="s1">&#39;3&#39;</span><span class="p">,</span> <span class="s1">&#39;45&#39;</span><span class="p">,</span> <span class="s1">&#39;62&#39;</span><span class="p">,</span> <span class="s1">&#39;55&#39;</span><span class="p">]</span>
</pre></div>

</div>
</div>
</div>
<div class="cell border-box-sizing code_cell rendered">
<div class="input">
<div class="prompt input_prompt">In&nbsp;[16]:</div>
<div class="inner_cell">
    <div class="input_area">
<div class=" highlight hl-ipython3"><pre><span></span><span class="k">def</span> <span class="nf">predict</span><span class="p">(</span><span class="n">image_path</span><span class="p">,</span> <span class="n">model</span><span class="p">,</span> <span class="n">topk</span><span class="o">=</span><span class="mi">5</span><span class="p">):</span>
    <span class="sd">&#39;&#39;&#39; Predict the class (or classes) of an image using a trained deep learning model.</span>
<span class="sd">    &#39;&#39;&#39;</span>
    
    <span class="c1"># TODO: Implement the code to predict the class from an image file</span>
    <span class="n">model</span><span class="o">.</span><span class="n">eval</span><span class="p">()</span>
    <span class="n">use_gpu</span> <span class="o">=</span><span class="kc">False</span>
    <span class="k">if</span> <span class="n">torch</span><span class="o">.</span><span class="n">cuda</span><span class="o">.</span><span class="n">is_available</span><span class="p">():</span>
        <span class="n">use_gpu</span> <span class="o">=</span> <span class="kc">True</span>
        <span class="n">model</span><span class="o">.</span><span class="n">cuda</span><span class="p">()</span>
    
    <span class="k">else</span><span class="p">:</span>
        <span class="n">model</span><span class="o">.</span><span class="n">cpu</span><span class="p">()</span>
        
    <span class="n">image</span> <span class="o">=</span> <span class="n">Image</span><span class="o">.</span><span class="n">open</span><span class="p">(</span><span class="n">image_path</span><span class="p">)</span>
    <span class="n">np_array</span> <span class="o">=</span> <span class="n">process_image</span><span class="p">(</span><span class="n">image</span><span class="p">)</span>
    <span class="n">tensor</span> <span class="o">=</span> <span class="n">torch</span><span class="o">.</span><span class="n">from_numpy</span><span class="p">(</span><span class="n">np_array</span><span class="p">)</span>
    <span class="k">if</span> <span class="n">use_gpu</span><span class="p">:</span>
        <span class="n">var_inputs</span> <span class="o">=</span> <span class="n">Variable</span><span class="p">(</span><span class="n">tensor</span><span class="o">.</span><span class="n">float</span><span class="p">()</span><span class="o">.</span><span class="n">cuda</span><span class="p">(),</span><span class="n">volatile</span> <span class="o">=</span> <span class="kc">True</span><span class="p">)</span>
    <span class="k">else</span><span class="p">:</span>
        <span class="n">var_inputs</span> <span class="o">=</span> <span class="n">Variable</span><span class="p">(</span><span class="n">tensor</span><span class="p">,</span><span class="n">volatile</span> <span class="o">=</span> <span class="kc">True</span><span class="p">)</span>
        
    <span class="n">var_inputs</span> <span class="o">=</span> <span class="n">var_inputs</span><span class="o">.</span><span class="n">unsqueeze</span><span class="p">(</span><span class="mi">0</span><span class="p">)</span>
    <span class="n">output</span> <span class="o">=</span> <span class="n">model</span><span class="o">.</span><span class="n">forward</span><span class="p">(</span><span class="n">var_inputs</span><span class="p">)</span>
    <span class="n">ps</span> <span class="o">=</span> <span class="n">torch</span><span class="o">.</span><span class="n">exp</span><span class="p">(</span><span class="n">output</span><span class="p">)</span><span class="o">.</span><span class="n">data</span><span class="o">.</span><span class="n">topk</span><span class="p">(</span><span class="n">topk</span><span class="p">)</span>
    <span class="n">probabilities</span> <span class="o">=</span> <span class="n">ps</span><span class="p">[</span><span class="mi">0</span><span class="p">]</span><span class="o">.</span><span class="n">cpu</span><span class="p">()</span> <span class="k">if</span> <span class="n">use_gpu</span> <span class="k">else</span> <span class="n">ps</span><span class="p">[</span><span class="mi">0</span><span class="p">]</span>
    <span class="n">classes</span> <span class="o">=</span> <span class="n">ps</span><span class="p">[</span><span class="mi">1</span><span class="p">]</span><span class="o">.</span><span class="n">cpu</span><span class="p">()</span> <span class="k">if</span> <span class="n">use_gpu</span> <span class="k">else</span> <span class="n">ps</span><span class="p">[</span><span class="mi">1</span><span class="p">]</span>
    <span class="n">class_to_idx_inverted</span> <span class="o">=</span> <span class="p">{</span><span class="n">model</span><span class="o">.</span><span class="n">class_to_idx</span><span class="p">[</span><span class="n">k</span><span class="p">]:</span><span class="n">k</span> <span class="k">for</span> <span class="n">k</span> <span class="ow">in</span> <span class="n">model</span><span class="o">.</span><span class="n">class_to_idx</span><span class="p">}</span>
    <span class="n">mapped_classes</span> <span class="o">=</span> <span class="nb">list</span><span class="p">()</span>
    <span class="k">for</span> <span class="n">label</span> <span class="ow">in</span> <span class="n">classes</span><span class="o">.</span><span class="n">numpy</span><span class="p">()[</span><span class="mi">0</span><span class="p">]:</span>
        <span class="n">mapped_classes</span><span class="o">.</span><span class="n">append</span><span class="p">(</span><span class="n">class_to_idx_inverted</span><span class="p">[</span><span class="n">label</span><span class="p">])</span>
    <span class="k">return</span> <span class="n">probabilities</span><span class="o">.</span><span class="n">numpy</span><span class="p">()[</span><span class="mi">0</span><span class="p">],</span><span class="n">mapped_classes</span>

<span class="n">image_path</span> <span class="o">=</span> <span class="n">test_dir</span> <span class="o">+</span><span class="s1">&#39;/10/image_07090.jpg&#39;</span>
<span class="n">probabilities</span><span class="p">,</span><span class="n">classes</span><span class="o">=</span> <span class="n">predict</span><span class="p">(</span><span class="n">image_path</span><span class="p">,</span><span class="n">model</span><span class="p">)</span>

<span class="nb">print</span><span class="p">(</span><span class="n">probabilities</span><span class="p">)</span>
<span class="nb">print</span><span class="p">(</span><span class="n">classes</span><span class="p">)</span>
</pre></div>

</div>
</div>
</div>

<div class="output_wrapper">
<div class="output">


<div class="output_area">

<div class="prompt"></div>


<div class="output_subarea output_stream output_stdout output_text">
<pre>[ 0.98113149  0.00509298  0.00463183  0.00254741  0.00251765]
[&#39;10&#39;, &#39;14&#39;, &#39;38&#39;, &#39;22&#39;, &#39;13&#39;]
</pre>
</div>
</div>

<div class="output_area">

<div class="prompt"></div>


<div class="output_subarea output_stream output_stderr output_text">
<pre>/opt/conda/lib/python3.6/site-packages/ipykernel_launcher.py:19: UserWarning: volatile was removed and now has no effect. Use `with torch.no_grad():` instead.
</pre>
</div>
</div>

</div>
</div>

</div>
<div class="cell border-box-sizing text_cell rendered"><div class="prompt input_prompt">
</div>
<div class="inner_cell">
<div class="text_cell_render border-box-sizing rendered_html">
<h2 id="Sanity-Checking">Sanity Checking<a class="anchor-link" href="#Sanity-Checking">&#182;</a></h2><p>Now that you can use a trained model for predictions, check to make sure it makes sense. Even if the testing accuracy is high, it's always good to check that there aren't obvious bugs. Use <code>matplotlib</code> to plot the probabilities for the top 5 classes as a bar graph, along with the input image. It should look like this:</p>
<p><img src='assets/inference_example.png' width=300px></p>
<p>You can convert from the class integer encoding to actual flower names with the <code>cat_to_name.json</code> file (should have been loaded earlier in the notebook). To show a PyTorch tensor as an image, use the <code>imshow</code> function defined above.</p>

</div>
</div>
</div>
<div class="cell border-box-sizing code_cell rendered">
<div class="input">
<div class="prompt input_prompt">In&nbsp;[17]:</div>
<div class="inner_cell">
    <div class="input_area">
<div class=" highlight hl-ipython3"><pre><span></span><span class="c1"># TODO: Display an image along with the top 5 classes</span>
<span class="n">image_path</span> <span class="o">=</span> <span class="n">test_dir</span> <span class="o">+</span><span class="s1">&#39;/10/image_07090.jpg&#39;</span>
<span class="n">probabilities</span><span class="p">,</span><span class="n">classes</span><span class="o">=</span> <span class="n">predict</span><span class="p">(</span><span class="n">image_path</span><span class="p">,</span><span class="n">model</span><span class="p">)</span>
<span class="n">max_index</span> <span class="o">=</span> <span class="n">np</span><span class="o">.</span><span class="n">argmax</span><span class="p">(</span><span class="n">probabilities</span><span class="p">)</span>
<span class="n">max_probability</span> <span class="o">=</span> <span class="n">probabilities</span><span class="p">[</span><span class="n">max_index</span><span class="p">]</span>
<span class="n">label</span> <span class="o">=</span> <span class="n">classes</span><span class="p">[</span><span class="n">max_index</span><span class="p">]</span>

<span class="n">fig</span> <span class="o">=</span> <span class="n">plt</span><span class="o">.</span><span class="n">figure</span><span class="p">(</span><span class="n">figsize</span><span class="o">=</span><span class="p">(</span><span class="mi">6</span><span class="p">,</span><span class="mi">6</span><span class="p">))</span>
<span class="n">ax1</span> <span class="o">=</span> <span class="n">plt</span><span class="o">.</span><span class="n">subplot2grid</span><span class="p">((</span><span class="mi">15</span><span class="p">,</span><span class="mi">9</span><span class="p">),(</span><span class="mi">0</span><span class="p">,</span><span class="mi">0</span><span class="p">),</span><span class="n">colspan</span><span class="o">=</span><span class="mi">9</span><span class="p">,</span><span class="n">rowspan</span><span class="o">=</span><span class="mi">9</span><span class="p">)</span>
<span class="n">ax2</span> <span class="o">=</span> <span class="n">plt</span><span class="o">.</span><span class="n">subplot2grid</span><span class="p">((</span><span class="mi">15</span><span class="p">,</span><span class="mi">9</span><span class="p">),(</span><span class="mi">9</span><span class="p">,</span><span class="mi">2</span><span class="p">),</span><span class="n">colspan</span><span class="o">=</span><span class="mi">5</span><span class="p">,</span><span class="n">rowspan</span><span class="o">=</span><span class="mi">5</span><span class="p">)</span>

<span class="n">image</span><span class="o">=</span> <span class="n">Image</span><span class="o">.</span><span class="n">open</span><span class="p">(</span><span class="n">image_path</span><span class="p">)</span>
<span class="n">ax1</span><span class="o">.</span><span class="n">axis</span><span class="p">(</span><span class="s1">&#39;off&#39;</span><span class="p">)</span>
<span class="n">ax1</span><span class="o">.</span><span class="n">set_title</span><span class="p">(</span><span class="n">cat_to_name</span><span class="p">[</span><span class="n">label</span><span class="p">])</span>
<span class="n">ax1</span><span class="o">.</span><span class="n">imshow</span><span class="p">(</span><span class="n">image</span><span class="p">)</span>
<span class="n">labels</span> <span class="o">=</span><span class="p">[]</span>
<span class="k">for</span> <span class="n">cl</span> <span class="ow">in</span> <span class="n">classes</span><span class="p">:</span>
    <span class="n">labels</span><span class="o">.</span><span class="n">append</span><span class="p">(</span><span class="n">cat_to_name</span><span class="p">[</span><span class="n">cl</span><span class="p">])</span>
<span class="n">y_pos</span> <span class="o">=</span> <span class="n">np</span><span class="o">.</span><span class="n">arange</span><span class="p">(</span><span class="mi">5</span><span class="p">)</span>
<span class="n">ax2</span><span class="o">.</span><span class="n">set_yticks</span><span class="p">(</span><span class="n">y_pos</span><span class="p">)</span>
<span class="n">ax2</span><span class="o">.</span><span class="n">set_yticklabels</span><span class="p">(</span><span class="n">labels</span><span class="p">)</span>
<span class="n">ax2</span><span class="o">.</span><span class="n">invert_yaxis</span><span class="p">()</span>
<span class="n">ax2</span><span class="o">.</span><span class="n">set_xlabel</span><span class="p">(</span><span class="s1">&#39;probability&#39;</span><span class="p">)</span>
<span class="n">ax2</span><span class="o">.</span><span class="n">barh</span><span class="p">(</span><span class="n">y_pos</span><span class="p">,</span><span class="n">probabilities</span><span class="p">,</span><span class="n">xerr</span><span class="o">=</span><span class="mi">0</span><span class="p">,</span><span class="n">align</span><span class="o">=</span><span class="s1">&#39;center&#39;</span><span class="p">)</span>

<span class="n">plt</span><span class="o">.</span><span class="n">show</span><span class="p">()</span>
</pre></div>

</div>
</div>
</div>

<div class="output_wrapper">
<div class="output">


<div class="output_area">

<div class="prompt"></div>


<div class="output_subarea output_stream output_stderr output_text">
<pre>/opt/conda/lib/python3.6/site-packages/ipykernel_launcher.py:19: UserWarning: volatile was removed and now has no effect. Use `with torch.no_grad():` instead.
</pre>
</div>
</div>

<div class="output_area">

<div class="prompt"></div>




<div class="output_png output_subarea ">
<img src="data:image/png;base64,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
"
width=325
height=364
>
</div>

</div>

</div>
</div>

</div>
    </div>
  </div>
</body>

 


</html>
